{
  "nbformat": 4,
  "nbformat_minor": 0,
  "metadata": {
    "colab": {
      "name": "Capstone_4.ipynb",
      "provenance": [],
      "collapsed_sections": [],
      "authorship_tag": "ABX9TyOJ38AT3yUQIsn4DjE8p63c",
      "include_colab_link": true
    },
    "kernelspec": {
      "name": "ir",
      "display_name": "R"
    },
    "language_info": {
      "name": "R"
    }
  },
  "cells": [
    {
      "cell_type": "markdown",
      "metadata": {
        "id": "view-in-github",
        "colab_type": "text"
      },
      "source": [
        "<a href=\"https://colab.research.google.com/github/JF11579/A-Year-s-Worth-of-Google-Searches/blob/master/Capstone_4.ipynb\" target=\"_parent\"><img src=\"https://colab.research.google.com/assets/colab-badge.svg\" alt=\"Open In Colab\"/></a>"
      ]
    },
    {
      "cell_type": "markdown",
      "source": [
        "[To get a new R colab work book](https://colab.to/r)"
      ],
      "metadata": {
        "id": "GNOOVVRHccET"
      }
    },
    {
      "cell_type": "markdown",
      "source": [
        "## Hello guys:\n",
        "### Maybe it is wishful thinking but could the data be ready for modeling?  Have I caught  up with you Muhammad?  \n",
        "\n",
        "I think Prof Z's suggestion list included:\n",
        "\n",
        "* check for near zero.  I dont think that applies to us \n",
        "* converted to factors DONE\n",
        "* change factor labels from text to numbers \n",
        "* NAs replaced by same number in Departure col\n",
        "* ***outliers NOT DONE***\n",
        "* Data Balanced? Yes.\n",
        "* Scale the data?  I dont think we need to, do we?\n",
        "* What else?\n",
        "* What else?\n"
      ],
      "metadata": {
        "id": "mKdDYOAJcl9D"
      }
    },
    {
      "cell_type": "markdown",
      "source": [
        "# **Data:  NOTE WE HAVE ALREADY SPLIT THE DATA 80/20 .  THIS IS ONLY THE TRAINING DATA**"
      ],
      "metadata": {
        "id": "ghsWPUDVdTnK"
      }
    },
    {
      "cell_type": "markdown",
      "source": [
        "# Options"
      ],
      "metadata": {
        "id": "MFVMjp5qndpG"
      }
    },
    {
      "cell_type": "code",
      "execution_count": 4,
      "metadata": {
        "id": "gqdQHBXBnMy4"
      },
      "outputs": [],
      "source": [
        "options(scipen = 10)\n",
        "options(repr.matrix.max.cols=150, repr.matrix.max.rows=50)"
      ]
    },
    {
      "cell_type": "markdown",
      "source": [
        "# Libraries"
      ],
      "metadata": {
        "id": "tAe-tCRYnnXT"
      }
    },
    {
      "cell_type": "code",
      "source": [
        "library(tidyverse)\n",
        "install.packages(\"ggthemes\")\n",
        "library(tidyverse)               \n",
        "library(\"ggthemes\")\n",
        "#install.packages(\"infotheo\")\n",
        "#library(infotheo)\n",
        "library(ggplot2)\n",
        "#install.packages(\"janitor\")\n",
        "#library(janitor)\n",
        "#devtools::install_github(\"ncordon/imbalance\")\n",
        "#library(\"imbalance\")\n",
        "#library(smotefamily)\n",
        "install.packages(\"caret\")\n",
        "library(caret)"
      ],
      "metadata": {
        "colab": {
          "base_uri": "https://localhost:8080/"
        },
        "id": "EGASxmbnnp84",
        "outputId": "2c71bbf0-8d18-40bd-9c0e-db4e8567dd1a"
      },
      "execution_count": 6,
      "outputs": [
        {
          "output_type": "stream",
          "name": "stderr",
          "text": [
            "Installing package into ‘/usr/local/lib/R/site-library’\n",
            "(as ‘lib’ is unspecified)\n",
            "\n",
            "Installing package into ‘/usr/local/lib/R/site-library’\n",
            "(as ‘lib’ is unspecified)\n",
            "\n",
            "Loading required package: lattice\n",
            "\n",
            "\n",
            "Attaching package: ‘caret’\n",
            "\n",
            "\n",
            "The following object is masked from ‘package:purrr’:\n",
            "\n",
            "    lift\n",
            "\n",
            "\n"
          ]
        }
      ]
    },
    {
      "cell_type": "markdown",
      "source": [
        "# **Data:  NOTE WE HAVE ALREADY SPLIT THE DATA 80/20 .  THIS IS ONLY THE TRAINING DATA**"
      ],
      "metadata": {
        "id": "gUlYnYoEoKoq"
      }
    },
    {
      "cell_type": "markdown",
      "source": [
        "[Link to Data](https://drive.google.com/file/d/1wCYTyHLjWN6wUMG_qbu7iEf0bJ-ugaoa/view?usp=sharing)"
      ],
      "metadata": {
        "id": "oWbC666zBsbk"
      }
    },
    {
      "cell_type": "code",
      "source": [
        "df_train <- read_csv(\"/content/Airline_train_3.csv\")"
      ],
      "metadata": {
        "colab": {
          "base_uri": "https://localhost:8080/"
        },
        "id": "EPuCLpMVoNLw",
        "outputId": "a160cc1b-c1ef-4baa-bffd-f5ae685f4c18"
      },
      "execution_count": 20,
      "outputs": [
        {
          "output_type": "stream",
          "name": "stderr",
          "text": [
            "\u001b[1m\u001b[22mNew names:\n",
            "\u001b[36m•\u001b[39m `` -> `...1`\n",
            "\u001b[1mRows: \u001b[22m\u001b[34m103904\u001b[39m \u001b[1mColumns: \u001b[22m\u001b[34m38\u001b[39m\n",
            "\u001b[36m──\u001b[39m \u001b[1mColumn specification\u001b[22m \u001b[36m────────────────────────────────────────────────────────\u001b[39m\n",
            "\u001b[1mDelimiter:\u001b[22m \",\"\n",
            "\u001b[31mchr\u001b[39m  (6): Gender, CustomerType, TypeofTravel, Class, satisfaction, Type_of_T...\n",
            "\u001b[32mdbl\u001b[39m (32): ...1, id, Age, FlightDistance, Inflightwifiservice, Departure_Arri...\n",
            "\n",
            "\u001b[36mℹ\u001b[39m Use `spec()` to retrieve the full column specification for this data.\n",
            "\u001b[36mℹ\u001b[39m Specify the column types or set `show_col_types = FALSE` to quiet this message.\n"
          ]
        }
      ]
    },
    {
      "cell_type": "code",
      "source": [
        "#Correcting Mistake in col name\n",
        "df_train <- rename(df_train,'Food_drink' = 'Food _drink' )"
      ],
      "metadata": {
        "id": "_NLP2qvZoaqX"
      },
      "execution_count": 21,
      "outputs": []
    },
    {
      "cell_type": "markdown",
      "source": [
        "#E remove the *id* column"
      ],
      "metadata": {
        "id": "HNIrdwSkogEU"
      }
    },
    {
      "cell_type": "code",
      "source": [
        "df_train <- select(df_train, -id)"
      ],
      "metadata": {
        "id": "YZbeGqENocmg"
      },
      "execution_count": 22,
      "outputs": []
    },
    {
      "cell_type": "markdown",
      "source": [
        "#Check for NAs"
      ],
      "metadata": {
        "id": "RYTnnrBxopMz"
      }
    },
    {
      "cell_type": "code",
      "source": [
        "NA_DF <-colSums(is.na(df_train))"
      ],
      "metadata": {
        "id": "gAFkoNbHomAu"
      },
      "execution_count": 9,
      "outputs": []
    },
    {
      "cell_type": "code",
      "source": [
        "as.data.frame(NA_DF)"
      ],
      "metadata": {
        "id": "MKYICpHTovBO"
      },
      "execution_count": null,
      "outputs": []
    },
    {
      "cell_type": "markdown",
      "source": [
        "### There are 310 instances where there is no data ArrivalDelayMinutes delays. But fortuitously there are no missing data for departature time. We copied over the delay in Departure time into the missing Arival timeuning COALESCE"
      ],
      "metadata": {
        "id": "MYPfWCAXozt_"
      }
    },
    {
      "cell_type": "code",
      "source": [
        "df_train <- df_train %>%\n",
        "              mutate(ArrivalDelayMinutes = coalesce(ArrivalDelayMinutes, DepartureDelayMinutes))"
      ],
      "metadata": {
        "id": "CTialb46oxHC"
      },
      "execution_count": 23,
      "outputs": []
    },
    {
      "cell_type": "markdown",
      "source": [
        "### Now let us look for NAs again. All gone"
      ],
      "metadata": {
        "id": "0BUSVNsFpHll"
      }
    },
    {
      "cell_type": "code",
      "source": [
        "NA_Removed <- colSums(is.na(df_train))\n",
        "as.data.frame(NA_Removed)"
      ],
      "metadata": {
        "id": "H-JX0w5ZpLFV"
      },
      "execution_count": null,
      "outputs": []
    },
    {
      "cell_type": "code",
      "source": [
        "df_train$satisfaction <- as.factor(df_train$satisfaction)\n",
        "df_train$Gender <- as.factor(df_train$Gender)\n",
        "df_train$CustomerType <-as.factor(df_train$CustomerType)\n",
        "df_train$TypeofTravel <- as.factor(df_train$TypeofTravel)\n",
        "df_train$Class  <- as.factor(df_train$Class)\n",
        "df_train$Inflightwifiservice  <- as.factor(df_train$Inflightwifiservice)\n",
        "df_train$Departure_Arrival_convenient  <- as.factor(df_train$Departure_Arrival_convenient)\n",
        "df_train$Ease_Onlinebooking  <- as.factor(df_train$Ease_Onlinebooking)\n",
        "df_train$Gatelocation  <- as.factor(df_train$Gatelocation)\n",
        "df_train$Food_drink  <- as.factor(df_train$Food_drink)\n",
        "df_train$Onlineboarding  <- as.factor(df_train$Onlineboarding)\n",
        "df_train$Seatcomfort  <- as.factor(df_train$Seatcomfort)\n",
        "df_train$Inflightentertainment  <- as.factor(df_train$Inflightentertainment)\n",
        "df_train$Onboardservice  <- as.factor(df_train$Onboardservice)\n",
        "df_train$Legroomservice  <- as.factor(df_train$Legroomservice)\n",
        "df_train$Baggagehandling  <- as.factor(df_train$Baggagehandling)\n",
        "df_train$Checkinservice  <- as.factor(df_train$Checkinservice)\n",
        "df_train$Inflightservice  <- as.factor(df_train$Inflightservice)\n",
        "df_train$Cleanliness  <- as.factor(df_train$Cleanliness)\n",
        "df_train$Inflight_wifi_service  <- as.factor(df_train$Inflight_wifi_service)\n",
        "df_train$Ease_of_Online_booking  <- as.factor(df_train$Ease_of_Online_booking)\n",
        "df_train$Gate_location  <- as.factor(df_train$Gate_location)\n",
        "df_train$Food_and_drink  <- as.factor(df_train$Food_and_drink)\n",
        "df_train$Online_boarding  <- as.factor(df_train$Online_boarding)\n",
        "df_train$Seat_comfort  <- as.factor(df_train$Seat_comfort)\n",
        "df_train$Inflight_entertainment  <- as.factor(df_train$Inflight_entertainment)\n",
        "df_train$On_board_service  <- as.factor(df_train$On_board_service)\n",
        "df_train$Leg_room_service  <- as.factor(df_train$Leg_room_service)\n",
        "df_train$Baggage_handling  <- as.factor(df_train$Baggage_handling)\n",
        "df_train$Checkin_service  <- as.factor(df_train$Checkin_service)\n",
        "df_train$Inflight_service  <- as.factor(df_train$Inflight_service)"
      ],
      "metadata": {
        "id": "ZoG8M_l-pj7l"
      },
      "execution_count": 24,
      "outputs": []
    },
    {
      "cell_type": "markdown",
      "source": [
        "## Now change text to numeric"
      ],
      "metadata": {
        "id": "BGTuXevzq77p"
      }
    },
    {
      "cell_type": "code",
      "source": [
        "levels(df_train$Gender) <- c(1,2)\n",
        "levels(df_train$CustomerType) <- c(1,2)\n",
        "levels(df_train$TypeofTravel) <- c(1,2)\n",
        "levels(df_train$Class) <- c(1,2,3)\n",
        "is.ordered(df_train$Class)\n",
        "levels(df_train$Inflight_service) <- c(1,2,3,4,5,6)\n",
        "is.ordered(df_train$Inflight_service)\n",
        "levels(df_train$Departure_Arrival_convenient) <- c(1,2,3,4,5,6)\n",
        "is.ordered(df_train$Departure_Arrival_convenient)\n",
        "levels(df_train$Ease_Onlinebooking) <- c(1,2,3,4,5,6)\n",
        "is.ordered(df_train$Ease_Onlinebooking)\n",
        "levels(df_train$Gatelocation) <- c(1,2,3,4,5,6)\n",
        "is.ordered(df_train$Gatelocation)\n",
        "levels(df_train$Food_drink) <- c(1,2,3,4,5,6)\n",
        "is.ordered(df_train$Food_drink)\n",
        "levels(df_train$Onlineboarding) <- c(1,2,3,4,5,6)\n",
        "is.ordered(df_train$Onlineboarding)\n",
        "levels(df_train$Seatcomfort) <- c(1,2,3,4,5,6)\n",
        "is.ordered(df_train$Seatcomfort)\n",
        "levels(df_train$Inflightentertainment) <- c(1,2,3,4,5,6)\n",
        "is.ordered(df_train$Inflightentertainment)\n",
        "levels(df_train$Onboardservice) <- c(1,2,3,4,5,6)\n",
        "is.ordered(df_train$Onboardservice)\n",
        "levels(df_train$Legroomservice) <- c(1,2,3,4,5,6)\n",
        "is.ordered(df_train$Legroomservice)\n",
        "levels(df_train$Baggagehandling) <- c(1,2,3,4,5)\n",
        "is.ordered(df_train$Baggagehandling)\n",
        "levels(df_train$Checkinservice) <- c(1,2,3,4,5,6)\n",
        "is.ordered(df_train$Checkinservice)\n",
        "levels(df_train$Inflightservice) <- c(1,2,3,4,5,6)\n",
        "is.ordered(df_train$Inflightservice)\n",
        "levels(df_train$Cleanliness) <- c(1,2,3,4,5,6)\n",
        "is.ordered(df_train$Cleanliness)\n",
        "levels(df_train$satisfaction) <- c(1,2)\n",
        "is.ordered(df_train$satisfaction)\n",
        "levels(df_train$Type_of_Travel) <- c(1,2)\n",
        "\n",
        "\n"
      ],
      "metadata": {
        "id": "FrDrCWccUJFe"
      },
      "execution_count": null,
      "outputs": []
    },
    {
      "cell_type": "markdown",
      "source": [
        "## Does the Data need balancing?\n",
        "\n",
        "https://www.youtube.com/watch?v=bWD9Bmrru44"
      ],
      "metadata": {
        "id": "0Y5puCfopYDS"
      }
    },
    {
      "cell_type": "code",
      "source": [
        "#df_train %>% group_by(df_train$satisfaction) %>% tally(df_train$satisfaction)\n",
        "df_train %>% count(satisfaction)"
      ],
      "metadata": {
        "colab": {
          "base_uri": "https://localhost:8080/",
          "height": 161
        },
        "id": "D0Ht-3xSpZJm",
        "outputId": "00b41b0c-d85e-48b5-998a-cb85c737bbba"
      },
      "execution_count": 26,
      "outputs": [
        {
          "output_type": "display_data",
          "data": {
            "text/html": [
              "<table class=\"dataframe\">\n",
              "<caption>A tibble: 2 × 2</caption>\n",
              "<thead>\n",
              "\t<tr><th scope=col>satisfaction</th><th scope=col>n</th></tr>\n",
              "\t<tr><th scope=col>&lt;fct&gt;</th><th scope=col>&lt;int&gt;</th></tr>\n",
              "</thead>\n",
              "<tbody>\n",
              "\t<tr><td>1</td><td>58879</td></tr>\n",
              "\t<tr><td>2</td><td>45025</td></tr>\n",
              "</tbody>\n",
              "</table>\n"
            ],
            "text/markdown": "\nA tibble: 2 × 2\n\n| satisfaction &lt;fct&gt; | n &lt;int&gt; |\n|---|---|\n| 1 | 58879 |\n| 2 | 45025 |\n\n",
            "text/latex": "A tibble: 2 × 2\n\\begin{tabular}{ll}\n satisfaction & n\\\\\n <fct> & <int>\\\\\n\\hline\n\t 1 & 58879\\\\\n\t 2 & 45025\\\\\n\\end{tabular}\n",
            "text/plain": [
              "  satisfaction n    \n",
              "1 1            58879\n",
              "2 2            45025"
            ]
          },
          "metadata": {}
        }
      ]
    },
    {
      "cell_type": "code",
      "source": [
        "# The data is imbalsnce by 24%\n",
        "\n",
        "45025/58879"
      ],
      "metadata": {
        "colab": {
          "base_uri": "https://localhost:8080/",
          "height": 34
        },
        "id": "gZP1PxRkpgA2",
        "outputId": "40870495-7258-4a82-ed4e-d54df9d9e7c5"
      },
      "execution_count": 27,
      "outputs": [
        {
          "output_type": "display_data",
          "data": {
            "text/html": [
              "0.764703884237164"
            ],
            "text/markdown": "0.764703884237164",
            "text/latex": "0.764703884237164",
            "text/plain": [
              "[1] 0.7647039"
            ]
          },
          "metadata": {}
        }
      ]
    },
    {
      "cell_type": "code",
      "source": [
        "df_train <- upSample(x = select(df_train, -satisfaction),\n",
        "                     y = df_train$satisfaction,\n",
        "                     yname = \"satisfaction\") %>%\n",
        "    as_tibble()\n",
        "\n",
        "df_train %>%\n",
        "    count(satisfaction)"
      ],
      "metadata": {
        "colab": {
          "base_uri": "https://localhost:8080/",
          "height": 161
        },
        "id": "bkSPGM3VqWpO",
        "outputId": "4e2c1ce1-aaec-42b1-f05e-5f9c6f1ac44f"
      },
      "execution_count": 28,
      "outputs": [
        {
          "output_type": "display_data",
          "data": {
            "text/html": [
              "<table class=\"dataframe\">\n",
              "<caption>A tibble: 2 × 2</caption>\n",
              "<thead>\n",
              "\t<tr><th scope=col>satisfaction</th><th scope=col>n</th></tr>\n",
              "\t<tr><th scope=col>&lt;fct&gt;</th><th scope=col>&lt;int&gt;</th></tr>\n",
              "</thead>\n",
              "<tbody>\n",
              "\t<tr><td>1</td><td>58879</td></tr>\n",
              "\t<tr><td>2</td><td>58879</td></tr>\n",
              "</tbody>\n",
              "</table>\n"
            ],
            "text/markdown": "\nA tibble: 2 × 2\n\n| satisfaction &lt;fct&gt; | n &lt;int&gt; |\n|---|---|\n| 1 | 58879 |\n| 2 | 58879 |\n\n",
            "text/latex": "A tibble: 2 × 2\n\\begin{tabular}{ll}\n satisfaction & n\\\\\n <fct> & <int>\\\\\n\\hline\n\t 1 & 58879\\\\\n\t 2 & 58879\\\\\n\\end{tabular}\n",
            "text/plain": [
              "  satisfaction n    \n",
              "1 1            58879\n",
              "2 2            58879"
            ]
          },
          "metadata": {}
        }
      ]
    },
    {
      "cell_type": "markdown",
      "source": [
        "[upsample](https://www.youtube.com/watch?v=bWD9Bmrru44)\n",
        "\n",
        "https://stackoverflow.com/questions/62996202/r-upsample-in-caret-is-removing-target-variable-completely\n",
        "\n",
        "https://rpubs.com/uday04/381766 # <<<----------------"
      ],
      "metadata": {
        "id": "Fy7ykAwnpvwj"
      }
    },
    {
      "cell_type": "code",
      "source": [
        "head(df_train,20)"
      ],
      "metadata": {
        "id": "mjMOwn_wU_hQ"
      },
      "execution_count": null,
      "outputs": []
    },
    {
      "cell_type": "code",
      "source": [
        "df_train <- df_train[ -c(1)]"
      ],
      "metadata": {
        "id": "7DFaXWhDsBiJ"
      },
      "execution_count": 115,
      "outputs": []
    },
    {
      "cell_type": "code",
      "source": [
        ""
      ],
      "metadata": {
        "id": "cFhXHxddsBd_"
      },
      "execution_count": null,
      "outputs": []
    },
    {
      "cell_type": "code",
      "source": [
        ""
      ],
      "metadata": {
        "id": "mDj7EB1DsBaV"
      },
      "execution_count": null,
      "outputs": []
    },
    {
      "cell_type": "code",
      "source": [
        "head(df_train)"
      ],
      "metadata": {
        "colab": {
          "base_uri": "https://localhost:8080/",
          "height": 306
        },
        "id": "5t-eH-MxrKxL",
        "outputId": "53e5b962-b8fe-4528-afd7-0e37ec2d926a"
      },
      "execution_count": 116,
      "outputs": [
        {
          "output_type": "display_data",
          "data": {
            "text/html": [
              "<table class=\"dataframe\">\n",
              "<caption>A tibble: 6 × 36</caption>\n",
              "<thead>\n",
              "\t<tr><th scope=col>Gender</th><th scope=col>CustomerType</th><th scope=col>Age</th><th scope=col>TypeofTravel</th><th scope=col>Class</th><th scope=col>FlightDistance</th><th scope=col>Inflightwifiservice</th><th scope=col>Departure_Arrival_convenient</th><th scope=col>Ease_Onlinebooking</th><th scope=col>Gatelocation</th><th scope=col>Food_drink</th><th scope=col>Onlineboarding</th><th scope=col>Seatcomfort</th><th scope=col>Inflightentertainment</th><th scope=col>Onboardservice</th><th scope=col>Legroomservice</th><th scope=col>Baggagehandling</th><th scope=col>Checkinservice</th><th scope=col>Inflightservice</th><th scope=col>Cleanliness</th><th scope=col>DepartureDelayMinutes</th><th scope=col>ArrivalDelayMinutes</th><th scope=col>Type_of_Travel</th><th scope=col>Inflight_wifi_service</th><th scope=col>Ease_of_Online_booking</th><th scope=col>Gate_location</th><th scope=col>Food_and_drink</th><th scope=col>Online_boarding</th><th scope=col>Seat_comfort</th><th scope=col>Inflight_entertainment</th><th scope=col>On_board_service</th><th scope=col>Leg_room_service</th><th scope=col>Baggage_handling</th><th scope=col>Checkin_service</th><th scope=col>Inflight_service</th><th scope=col>satisfaction</th></tr>\n",
              "\t<tr><th scope=col>&lt;fct&gt;</th><th scope=col>&lt;fct&gt;</th><th scope=col>&lt;dbl&gt;</th><th scope=col>&lt;fct&gt;</th><th scope=col>&lt;fct&gt;</th><th scope=col>&lt;dbl&gt;</th><th scope=col>&lt;fct&gt;</th><th scope=col>&lt;fct&gt;</th><th scope=col>&lt;fct&gt;</th><th scope=col>&lt;fct&gt;</th><th scope=col>&lt;fct&gt;</th><th scope=col>&lt;fct&gt;</th><th scope=col>&lt;fct&gt;</th><th scope=col>&lt;fct&gt;</th><th scope=col>&lt;fct&gt;</th><th scope=col>&lt;fct&gt;</th><th scope=col>&lt;fct&gt;</th><th scope=col>&lt;fct&gt;</th><th scope=col>&lt;fct&gt;</th><th scope=col>&lt;fct&gt;</th><th scope=col>&lt;dbl&gt;</th><th scope=col>&lt;dbl&gt;</th><th scope=col>&lt;chr&gt;</th><th scope=col>&lt;fct&gt;</th><th scope=col>&lt;fct&gt;</th><th scope=col>&lt;fct&gt;</th><th scope=col>&lt;fct&gt;</th><th scope=col>&lt;fct&gt;</th><th scope=col>&lt;fct&gt;</th><th scope=col>&lt;fct&gt;</th><th scope=col>&lt;fct&gt;</th><th scope=col>&lt;fct&gt;</th><th scope=col>&lt;fct&gt;</th><th scope=col>&lt;fct&gt;</th><th scope=col>&lt;fct&gt;</th><th scope=col>&lt;fct&gt;</th></tr>\n",
              "</thead>\n",
              "<tbody>\n",
              "\t<tr><td>2</td><td>2</td><td>13</td><td>2</td><td>3</td><td> 460</td><td>3</td><td>5</td><td>4</td><td>2</td><td>6</td><td>4</td><td>6</td><td>6</td><td>5</td><td>4</td><td>4</td><td>5</td><td>6</td><td>6</td><td>25</td><td>18</td><td>Personal Travel</td><td>3</td><td>3</td><td>1</td><td>5</td><td>3</td><td>5</td><td>5</td><td>4</td><td>3</td><td>4</td><td>4</td><td>6</td><td>1</td></tr>\n",
              "\t<tr><td>2</td><td>1</td><td>25</td><td>1</td><td>1</td><td> 235</td><td>3</td><td>3</td><td>4</td><td>4</td><td>2</td><td>4</td><td>2</td><td>2</td><td>2</td><td>6</td><td>3</td><td>2</td><td>5</td><td>2</td><td> 1</td><td> 6</td><td>Business travel</td><td>3</td><td>3</td><td>3</td><td>1</td><td>3</td><td>1</td><td>1</td><td>1</td><td>5</td><td>3</td><td>1</td><td>5</td><td>1</td></tr>\n",
              "\t<tr><td>1</td><td>2</td><td>25</td><td>1</td><td>1</td><td> 562</td><td>2</td><td>6</td><td>6</td><td>6</td><td>3</td><td>3</td><td>3</td><td>3</td><td>3</td><td>6</td><td>3</td><td>2</td><td>5</td><td>3</td><td>11</td><td> 9</td><td>Business travel</td><td>2</td><td>5</td><td>5</td><td>2</td><td>2</td><td>2</td><td>2</td><td>2</td><td>5</td><td>3</td><td>1</td><td>5</td><td>1</td></tr>\n",
              "\t<tr><td>1</td><td>2</td><td>26</td><td>2</td><td>2</td><td>1180</td><td>3</td><td>5</td><td>3</td><td>2</td><td>2</td><td>3</td><td>2</td><td>2</td><td>4</td><td>5</td><td>4</td><td>5</td><td>5</td><td>2</td><td> 0</td><td> 0</td><td>Personal Travel</td><td>3</td><td>2</td><td>1</td><td>1</td><td>2</td><td>1</td><td>1</td><td>3</td><td>4</td><td>4</td><td>4</td><td>5</td><td>1</td></tr>\n",
              "\t<tr><td>2</td><td>2</td><td>47</td><td>2</td><td>2</td><td>1276</td><td>2</td><td>5</td><td>3</td><td>4</td><td>3</td><td>3</td><td>3</td><td>3</td><td>4</td><td>4</td><td>4</td><td>4</td><td>6</td><td>3</td><td> 9</td><td>23</td><td>Personal Travel</td><td>2</td><td>2</td><td>3</td><td>2</td><td>2</td><td>2</td><td>2</td><td>3</td><td>3</td><td>4</td><td>3</td><td>6</td><td>1</td></tr>\n",
              "\t<tr><td>1</td><td>2</td><td>41</td><td>1</td><td>1</td><td> 853</td><td>1</td><td>3</td><td>3</td><td>3</td><td>5</td><td>4</td><td>4</td><td>2</td><td>2</td><td>3</td><td>1</td><td>5</td><td>2</td><td>3</td><td> 0</td><td> 0</td><td>Business travel</td><td>1</td><td>2</td><td>2</td><td>4</td><td>3</td><td>3</td><td>1</td><td>1</td><td>2</td><td>1</td><td>4</td><td>2</td><td>1</td></tr>\n",
              "</tbody>\n",
              "</table>\n"
            ],
            "text/markdown": "\nA tibble: 6 × 36\n\n| Gender &lt;fct&gt; | CustomerType &lt;fct&gt; | Age &lt;dbl&gt; | TypeofTravel &lt;fct&gt; | Class &lt;fct&gt; | FlightDistance &lt;dbl&gt; | Inflightwifiservice &lt;fct&gt; | Departure_Arrival_convenient &lt;fct&gt; | Ease_Onlinebooking &lt;fct&gt; | Gatelocation &lt;fct&gt; | Food_drink &lt;fct&gt; | Onlineboarding &lt;fct&gt; | Seatcomfort &lt;fct&gt; | Inflightentertainment &lt;fct&gt; | Onboardservice &lt;fct&gt; | Legroomservice &lt;fct&gt; | Baggagehandling &lt;fct&gt; | Checkinservice &lt;fct&gt; | Inflightservice &lt;fct&gt; | Cleanliness &lt;fct&gt; | DepartureDelayMinutes &lt;dbl&gt; | ArrivalDelayMinutes &lt;dbl&gt; | Type_of_Travel &lt;chr&gt; | Inflight_wifi_service &lt;fct&gt; | Ease_of_Online_booking &lt;fct&gt; | Gate_location &lt;fct&gt; | Food_and_drink &lt;fct&gt; | Online_boarding &lt;fct&gt; | Seat_comfort &lt;fct&gt; | Inflight_entertainment &lt;fct&gt; | On_board_service &lt;fct&gt; | Leg_room_service &lt;fct&gt; | Baggage_handling &lt;fct&gt; | Checkin_service &lt;fct&gt; | Inflight_service &lt;fct&gt; | satisfaction &lt;fct&gt; |\n|---|---|---|---|---|---|---|---|---|---|---|---|---|---|---|---|---|---|---|---|---|---|---|---|---|---|---|---|---|---|---|---|---|---|---|---|\n| 2 | 2 | 13 | 2 | 3 |  460 | 3 | 5 | 4 | 2 | 6 | 4 | 6 | 6 | 5 | 4 | 4 | 5 | 6 | 6 | 25 | 18 | Personal Travel | 3 | 3 | 1 | 5 | 3 | 5 | 5 | 4 | 3 | 4 | 4 | 6 | 1 |\n| 2 | 1 | 25 | 1 | 1 |  235 | 3 | 3 | 4 | 4 | 2 | 4 | 2 | 2 | 2 | 6 | 3 | 2 | 5 | 2 |  1 |  6 | Business travel | 3 | 3 | 3 | 1 | 3 | 1 | 1 | 1 | 5 | 3 | 1 | 5 | 1 |\n| 1 | 2 | 25 | 1 | 1 |  562 | 2 | 6 | 6 | 6 | 3 | 3 | 3 | 3 | 3 | 6 | 3 | 2 | 5 | 3 | 11 |  9 | Business travel | 2 | 5 | 5 | 2 | 2 | 2 | 2 | 2 | 5 | 3 | 1 | 5 | 1 |\n| 1 | 2 | 26 | 2 | 2 | 1180 | 3 | 5 | 3 | 2 | 2 | 3 | 2 | 2 | 4 | 5 | 4 | 5 | 5 | 2 |  0 |  0 | Personal Travel | 3 | 2 | 1 | 1 | 2 | 1 | 1 | 3 | 4 | 4 | 4 | 5 | 1 |\n| 2 | 2 | 47 | 2 | 2 | 1276 | 2 | 5 | 3 | 4 | 3 | 3 | 3 | 3 | 4 | 4 | 4 | 4 | 6 | 3 |  9 | 23 | Personal Travel | 2 | 2 | 3 | 2 | 2 | 2 | 2 | 3 | 3 | 4 | 3 | 6 | 1 |\n| 1 | 2 | 41 | 1 | 1 |  853 | 1 | 3 | 3 | 3 | 5 | 4 | 4 | 2 | 2 | 3 | 1 | 5 | 2 | 3 |  0 |  0 | Business travel | 1 | 2 | 2 | 4 | 3 | 3 | 1 | 1 | 2 | 1 | 4 | 2 | 1 |\n\n",
            "text/latex": "A tibble: 6 × 36\n\\begin{tabular}{llllllllllllllllllllllllllllllllllll}\n Gender & CustomerType & Age & TypeofTravel & Class & FlightDistance & Inflightwifiservice & Departure\\_Arrival\\_convenient & Ease\\_Onlinebooking & Gatelocation & Food\\_drink & Onlineboarding & Seatcomfort & Inflightentertainment & Onboardservice & Legroomservice & Baggagehandling & Checkinservice & Inflightservice & Cleanliness & DepartureDelayMinutes & ArrivalDelayMinutes & Type\\_of\\_Travel & Inflight\\_wifi\\_service & Ease\\_of\\_Online\\_booking & Gate\\_location & Food\\_and\\_drink & Online\\_boarding & Seat\\_comfort & Inflight\\_entertainment & On\\_board\\_service & Leg\\_room\\_service & Baggage\\_handling & Checkin\\_service & Inflight\\_service & satisfaction\\\\\n <fct> & <fct> & <dbl> & <fct> & <fct> & <dbl> & <fct> & <fct> & <fct> & <fct> & <fct> & <fct> & <fct> & <fct> & <fct> & <fct> & <fct> & <fct> & <fct> & <fct> & <dbl> & <dbl> & <chr> & <fct> & <fct> & <fct> & <fct> & <fct> & <fct> & <fct> & <fct> & <fct> & <fct> & <fct> & <fct> & <fct>\\\\\n\\hline\n\t 2 & 2 & 13 & 2 & 3 &  460 & 3 & 5 & 4 & 2 & 6 & 4 & 6 & 6 & 5 & 4 & 4 & 5 & 6 & 6 & 25 & 18 & Personal Travel & 3 & 3 & 1 & 5 & 3 & 5 & 5 & 4 & 3 & 4 & 4 & 6 & 1\\\\\n\t 2 & 1 & 25 & 1 & 1 &  235 & 3 & 3 & 4 & 4 & 2 & 4 & 2 & 2 & 2 & 6 & 3 & 2 & 5 & 2 &  1 &  6 & Business travel & 3 & 3 & 3 & 1 & 3 & 1 & 1 & 1 & 5 & 3 & 1 & 5 & 1\\\\\n\t 1 & 2 & 25 & 1 & 1 &  562 & 2 & 6 & 6 & 6 & 3 & 3 & 3 & 3 & 3 & 6 & 3 & 2 & 5 & 3 & 11 &  9 & Business travel & 2 & 5 & 5 & 2 & 2 & 2 & 2 & 2 & 5 & 3 & 1 & 5 & 1\\\\\n\t 1 & 2 & 26 & 2 & 2 & 1180 & 3 & 5 & 3 & 2 & 2 & 3 & 2 & 2 & 4 & 5 & 4 & 5 & 5 & 2 &  0 &  0 & Personal Travel & 3 & 2 & 1 & 1 & 2 & 1 & 1 & 3 & 4 & 4 & 4 & 5 & 1\\\\\n\t 2 & 2 & 47 & 2 & 2 & 1276 & 2 & 5 & 3 & 4 & 3 & 3 & 3 & 3 & 4 & 4 & 4 & 4 & 6 & 3 &  9 & 23 & Personal Travel & 2 & 2 & 3 & 2 & 2 & 2 & 2 & 3 & 3 & 4 & 3 & 6 & 1\\\\\n\t 1 & 2 & 41 & 1 & 1 &  853 & 1 & 3 & 3 & 3 & 5 & 4 & 4 & 2 & 2 & 3 & 1 & 5 & 2 & 3 &  0 &  0 & Business travel & 1 & 2 & 2 & 4 & 3 & 3 & 1 & 1 & 2 & 1 & 4 & 2 & 1\\\\\n\\end{tabular}\n",
            "text/plain": [
              "  Gender CustomerType Age TypeofTravel Class FlightDistance Inflightwifiservice\n",
              "1 2      2            13  2            3      460           3                  \n",
              "2 2      1            25  1            1      235           3                  \n",
              "3 1      2            25  1            1      562           2                  \n",
              "4 1      2            26  2            2     1180           3                  \n",
              "5 2      2            47  2            2     1276           2                  \n",
              "6 1      2            41  1            1      853           1                  \n",
              "  Departure_Arrival_convenient Ease_Onlinebooking Gatelocation Food_drink\n",
              "1 5                            4                  2            6         \n",
              "2 3                            4                  4            2         \n",
              "3 6                            6                  6            3         \n",
              "4 5                            3                  2            2         \n",
              "5 5                            3                  4            3         \n",
              "6 3                            3                  3            5         \n",
              "  Onlineboarding Seatcomfort Inflightentertainment Onboardservice\n",
              "1 4              6           6                     5             \n",
              "2 4              2           2                     2             \n",
              "3 3              3           3                     3             \n",
              "4 3              2           2                     4             \n",
              "5 3              3           3                     4             \n",
              "6 4              4           2                     2             \n",
              "  Legroomservice Baggagehandling Checkinservice Inflightservice Cleanliness\n",
              "1 4              4               5              6               6          \n",
              "2 6              3               2              5               2          \n",
              "3 6              3               2              5               3          \n",
              "4 5              4               5              5               2          \n",
              "5 4              4               4              6               3          \n",
              "6 3              1               5              2               3          \n",
              "  DepartureDelayMinutes ArrivalDelayMinutes Type_of_Travel \n",
              "1 25                    18                  Personal Travel\n",
              "2  1                     6                  Business travel\n",
              "3 11                     9                  Business travel\n",
              "4  0                     0                  Personal Travel\n",
              "5  9                    23                  Personal Travel\n",
              "6  0                     0                  Business travel\n",
              "  Inflight_wifi_service Ease_of_Online_booking Gate_location Food_and_drink\n",
              "1 3                     3                      1             5             \n",
              "2 3                     3                      3             1             \n",
              "3 2                     5                      5             2             \n",
              "4 3                     2                      1             1             \n",
              "5 2                     2                      3             2             \n",
              "6 1                     2                      2             4             \n",
              "  Online_boarding Seat_comfort Inflight_entertainment On_board_service\n",
              "1 3               5            5                      4               \n",
              "2 3               1            1                      1               \n",
              "3 2               2            2                      2               \n",
              "4 2               1            1                      3               \n",
              "5 2               2            2                      3               \n",
              "6 3               3            1                      1               \n",
              "  Leg_room_service Baggage_handling Checkin_service Inflight_service\n",
              "1 3                4                4               6               \n",
              "2 5                3                1               5               \n",
              "3 5                3                1               5               \n",
              "4 4                4                4               5               \n",
              "5 3                4                3               6               \n",
              "6 2                1                4               2               \n",
              "  satisfaction\n",
              "1 1           \n",
              "2 1           \n",
              "3 1           \n",
              "4 1           \n",
              "5 1           \n",
              "6 1           "
            ]
          },
          "metadata": {}
        }
      ]
    },
    {
      "cell_type": "code",
      "source": [
        "colSums(is.na(df_train))"
      ],
      "metadata": {
        "colab": {
          "base_uri": "https://localhost:8080/",
          "height": 191
        },
        "id": "cykNNGr4jLZR",
        "outputId": "45a12d7b-3263-454a-ff95-c9761282c139"
      },
      "execution_count": 117,
      "outputs": [
        {
          "output_type": "display_data",
          "data": {
            "text/html": [
              "<style>\n",
              ".dl-inline {width: auto; margin:0; padding: 0}\n",
              ".dl-inline>dt, .dl-inline>dd {float: none; width: auto; display: inline-block}\n",
              ".dl-inline>dt::after {content: \":\\0020\"; padding-right: .5ex}\n",
              ".dl-inline>dt:not(:first-of-type) {padding-left: .5ex}\n",
              "</style><dl class=dl-inline><dt>Gender</dt><dd>0</dd><dt>CustomerType</dt><dd>0</dd><dt>Age</dt><dd>0</dd><dt>TypeofTravel</dt><dd>0</dd><dt>Class</dt><dd>0</dd><dt>FlightDistance</dt><dd>0</dd><dt>Inflightwifiservice</dt><dd>0</dd><dt>Departure_Arrival_convenient</dt><dd>0</dd><dt>Ease_Onlinebooking</dt><dd>0</dd><dt>Gatelocation</dt><dd>0</dd><dt>Food_drink</dt><dd>0</dd><dt>Onlineboarding</dt><dd>0</dd><dt>Seatcomfort</dt><dd>0</dd><dt>Inflightentertainment</dt><dd>0</dd><dt>Onboardservice</dt><dd>0</dd><dt>Legroomservice</dt><dd>0</dd><dt>Baggagehandling</dt><dd>0</dd><dt>Checkinservice</dt><dd>0</dd><dt>Inflightservice</dt><dd>0</dd><dt>Cleanliness</dt><dd>0</dd><dt>DepartureDelayMinutes</dt><dd>0</dd><dt>ArrivalDelayMinutes</dt><dd>0</dd><dt>Type_of_Travel</dt><dd>0</dd><dt>Inflight_wifi_service</dt><dd>0</dd><dt>Ease_of_Online_booking</dt><dd>0</dd><dt>Gate_location</dt><dd>0</dd><dt>Food_and_drink</dt><dd>0</dd><dt>Online_boarding</dt><dd>0</dd><dt>Seat_comfort</dt><dd>0</dd><dt>Inflight_entertainment</dt><dd>0</dd><dt>On_board_service</dt><dd>0</dd><dt>Leg_room_service</dt><dd>0</dd><dt>Baggage_handling</dt><dd>0</dd><dt>Checkin_service</dt><dd>0</dd><dt>Inflight_service</dt><dd>0</dd><dt>satisfaction</dt><dd>0</dd></dl>\n"
            ],
            "text/markdown": "Gender\n:   0CustomerType\n:   0Age\n:   0TypeofTravel\n:   0Class\n:   0FlightDistance\n:   0Inflightwifiservice\n:   0Departure_Arrival_convenient\n:   0Ease_Onlinebooking\n:   0Gatelocation\n:   0Food_drink\n:   0Onlineboarding\n:   0Seatcomfort\n:   0Inflightentertainment\n:   0Onboardservice\n:   0Legroomservice\n:   0Baggagehandling\n:   0Checkinservice\n:   0Inflightservice\n:   0Cleanliness\n:   0DepartureDelayMinutes\n:   0ArrivalDelayMinutes\n:   0Type_of_Travel\n:   0Inflight_wifi_service\n:   0Ease_of_Online_booking\n:   0Gate_location\n:   0Food_and_drink\n:   0Online_boarding\n:   0Seat_comfort\n:   0Inflight_entertainment\n:   0On_board_service\n:   0Leg_room_service\n:   0Baggage_handling\n:   0Checkin_service\n:   0Inflight_service\n:   0satisfaction\n:   0\n\n",
            "text/latex": "\\begin{description*}\n\\item[Gender] 0\n\\item[CustomerType] 0\n\\item[Age] 0\n\\item[TypeofTravel] 0\n\\item[Class] 0\n\\item[FlightDistance] 0\n\\item[Inflightwifiservice] 0\n\\item[Departure\\textbackslash{}\\_Arrival\\textbackslash{}\\_convenient] 0\n\\item[Ease\\textbackslash{}\\_Onlinebooking] 0\n\\item[Gatelocation] 0\n\\item[Food\\textbackslash{}\\_drink] 0\n\\item[Onlineboarding] 0\n\\item[Seatcomfort] 0\n\\item[Inflightentertainment] 0\n\\item[Onboardservice] 0\n\\item[Legroomservice] 0\n\\item[Baggagehandling] 0\n\\item[Checkinservice] 0\n\\item[Inflightservice] 0\n\\item[Cleanliness] 0\n\\item[DepartureDelayMinutes] 0\n\\item[ArrivalDelayMinutes] 0\n\\item[Type\\textbackslash{}\\_of\\textbackslash{}\\_Travel] 0\n\\item[Inflight\\textbackslash{}\\_wifi\\textbackslash{}\\_service] 0\n\\item[Ease\\textbackslash{}\\_of\\textbackslash{}\\_Online\\textbackslash{}\\_booking] 0\n\\item[Gate\\textbackslash{}\\_location] 0\n\\item[Food\\textbackslash{}\\_and\\textbackslash{}\\_drink] 0\n\\item[Online\\textbackslash{}\\_boarding] 0\n\\item[Seat\\textbackslash{}\\_comfort] 0\n\\item[Inflight\\textbackslash{}\\_entertainment] 0\n\\item[On\\textbackslash{}\\_board\\textbackslash{}\\_service] 0\n\\item[Leg\\textbackslash{}\\_room\\textbackslash{}\\_service] 0\n\\item[Baggage\\textbackslash{}\\_handling] 0\n\\item[Checkin\\textbackslash{}\\_service] 0\n\\item[Inflight\\textbackslash{}\\_service] 0\n\\item[satisfaction] 0\n\\end{description*}\n",
            "text/plain": [
              "                      Gender                 CustomerType \n",
              "                           0                            0 \n",
              "                         Age                 TypeofTravel \n",
              "                           0                            0 \n",
              "                       Class               FlightDistance \n",
              "                           0                            0 \n",
              "         Inflightwifiservice Departure_Arrival_convenient \n",
              "                           0                            0 \n",
              "          Ease_Onlinebooking                 Gatelocation \n",
              "                           0                            0 \n",
              "                  Food_drink               Onlineboarding \n",
              "                           0                            0 \n",
              "                 Seatcomfort        Inflightentertainment \n",
              "                           0                            0 \n",
              "              Onboardservice               Legroomservice \n",
              "                           0                            0 \n",
              "             Baggagehandling               Checkinservice \n",
              "                           0                            0 \n",
              "             Inflightservice                  Cleanliness \n",
              "                           0                            0 \n",
              "       DepartureDelayMinutes          ArrivalDelayMinutes \n",
              "                           0                            0 \n",
              "              Type_of_Travel        Inflight_wifi_service \n",
              "                           0                            0 \n",
              "      Ease_of_Online_booking                Gate_location \n",
              "                           0                            0 \n",
              "              Food_and_drink              Online_boarding \n",
              "                           0                            0 \n",
              "                Seat_comfort       Inflight_entertainment \n",
              "                           0                            0 \n",
              "            On_board_service             Leg_room_service \n",
              "                           0                            0 \n",
              "            Baggage_handling              Checkin_service \n",
              "                           0                            0 \n",
              "            Inflight_service                 satisfaction \n",
              "                           0                            0 "
            ]
          },
          "metadata": {}
        }
      ]
    },
    {
      "cell_type": "code",
      "source": [
        "NA_DF <-colSums(is.na(df_train))"
      ],
      "metadata": {
        "id": "Lzx3z6pOjTuu"
      },
      "execution_count": 118,
      "outputs": []
    },
    {
      "cell_type": "code",
      "source": [
        "as.data.frame(NA_DF)"
      ],
      "metadata": {
        "id": "3KIvJgd7jTrd"
      },
      "execution_count": null,
      "outputs": []
    },
    {
      "cell_type": "markdown",
      "source": [
        "# Outlier Removal"
      ],
      "metadata": {
        "id": "-h__529ggHnb"
      }
    },
    {
      "cell_type": "markdown",
      "source": [
        "# i cannot find the NAs here adn that is clocking the  code"
      ],
      "metadata": {
        "id": "XlVs8KxbpbCT"
      }
    },
    {
      "cell_type": "code",
      "source": [
        "df_select <- subset(df_train,select =  -c(satisfaction))"
      ],
      "metadata": {
        "id": "uv13BdEym8iJ"
      },
      "execution_count": 154,
      "outputs": []
    },
    {
      "cell_type": "code",
      "source": [
        "df_select %>% drop_na"
      ],
      "metadata": {
        "id": "9Y2FTTwGmD92"
      },
      "execution_count": null,
      "outputs": []
    },
    {
      "cell_type": "code",
      "source": [
        ""
      ],
      "metadata": {
        "id": "5Gm3u6ZRmD5w"
      },
      "execution_count": null,
      "outputs": []
    },
    {
      "cell_type": "code",
      "source": [
        "iris3 <- df_select "
      ],
      "metadata": {
        "id": "FD_r0kX4r99I"
      },
      "execution_count": 159,
      "outputs": []
    },
    {
      "cell_type": "code",
      "source": [
        " \n",
        "\n",
        "# First Zahra's example\n",
        "#\n",
        "#data(iris)\n",
        "#iris3 <- iris[,1:4]\n",
        "kmeans.result <- kmeans(iris3, centers=2)\n",
        "# cluster centers\n",
        "kmeans.result$centers\n",
        "kmeans.result$cluster\n",
        "centers <- kmeans.result$centers[kmeans.result$cluster, ]\n",
        "distances <- sqrt(rowSums((iris3 - centers)^2))\n",
        "# pick top 10 largest distances\n",
        "outliers <- order(distances, decreasing=T)[1:10]\n",
        "# who are outliers\n",
        "print(outliers)\n",
        "print(iris3[outliers,])"
      ],
      "metadata": {
        "colab": {
          "base_uri": "https://localhost:8080/",
          "height": 473
        },
        "id": "KGJj8jd3gmNp",
        "outputId": "a6e3ba9d-dfa3-4798-9295-b5ef60c1bfcf"
      },
      "execution_count": 29,
      "outputs": [
        {
          "output_type": "display_data",
          "data": {
            "text/html": [
              "<table class=\"dataframe\">\n",
              "<caption>A matrix: 2 × 1 of type dbl</caption>\n",
              "<tbody>\n",
              "\t<tr><th scope=row>1</th><td>1.994783</td></tr>\n",
              "\t<tr><th scope=row>2</th><td>5.452941</td></tr>\n",
              "</tbody>\n",
              "</table>\n"
            ],
            "text/markdown": "\nA matrix: 2 × 1 of type dbl\n\n| 1 | 1.994783 |\n| 2 | 5.452941 |\n\n",
            "text/latex": "A matrix: 2 × 1 of type dbl\n\\begin{tabular}{r|l}\n\t1 & 1.994783\\\\\n\t2 & 5.452941\\\\\n\\end{tabular}\n",
            "text/plain": [
              "  [,1]    \n",
              "1 1.994783\n",
              "2 5.452941"
            ]
          },
          "metadata": {}
        },
        {
          "output_type": "display_data",
          "data": {
            "text/html": [
              "<style>\n",
              ".list-inline {list-style: none; margin:0; padding: 0}\n",
              ".list-inline>li {display: inline-block}\n",
              ".list-inline>li:not(:last-child)::after {content: \"\\00b7\"; padding: 0 .5ex}\n",
              "</style>\n",
              "<ol class=list-inline><li>2</li><li>2</li><li>2</li><li>2</li><li>2</li><li>2</li><li>2</li><li>2</li><li>2</li><li>2</li><li>2</li><li>2</li><li>2</li><li>2</li><li>2</li><li>2</li><li>2</li><li>2</li><li>2</li><li>2</li><li>2</li><li>2</li><li>2</li><li>2</li><li>2</li><li>2</li><li>2</li><li>2</li><li>2</li><li>2</li><li>2</li><li>2</li><li>2</li><li>2</li><li>2</li><li>2</li><li>2</li><li>2</li><li>2</li><li>2</li><li>2</li><li>2</li><li>2</li><li>2</li><li>2</li><li>2</li><li>2</li><li>2</li><li>2</li><li>2</li><li>1</li><li>1</li><li>1</li><li>1</li><li>1</li><li>2</li><li>1</li><li>1</li><li>1</li><li>1</li><li>1</li><li>1</li><li>1</li><li>1</li><li>2</li><li>2</li><li>2</li><li>1</li><li>2</li><li>2</li><li>1</li><li>1</li><li>1</li><li>1</li><li>1</li><li>1</li><li>1</li><li>1</li><li>1</li><li>1</li><li>1</li><li>1</li><li>2</li><li>2</li><li>1</li><li>1</li><li>1</li><li>1</li><li>1</li><li>1</li><li>1</li><li>1</li><li>1</li><li>1</li><li>2</li><li>1</li><li>2</li><li>1</li><li>1</li><li>1</li><li>1</li><li>1</li><li>1</li><li>1</li><li>1</li><li>1</li><li>1</li><li>1</li><li>1</li><li>1</li><li>1</li><li>1</li><li>1</li><li>1</li><li>1</li><li>1</li><li>1</li><li>1</li><li>1</li><li>1</li><li>1</li><li>1</li><li>1</li><li>1</li><li>1</li><li>1</li><li>1</li><li>1</li><li>1</li><li>1</li><li>1</li><li>1</li><li>1</li><li>1</li><li>1</li><li>1</li><li>1</li><li>1</li><li>1</li><li>1</li><li>1</li><li>1</li><li>1</li><li>1</li><li>1</li><li>1</li><li>1</li><li>1</li><li>1</li><li>1</li><li>1</li><li>1</li><li>1</li><li>1</li><li>1</li><li>1</li><li>1</li><li>1</li><li>1</li><li>1</li><li>1</li><li>1</li><li>1</li><li>1</li><li>1</li><li>1</li><li>1</li><li>1</li><li>1</li><li>1</li><li>1</li><li>1</li><li>1</li><li>1</li><li>1</li><li>1</li><li>1</li><li>1</li><li>1</li><li>1</li><li>1</li><li>1</li><li>1</li><li>1</li><li>1</li><li>1</li><li>1</li><li>1</li><li>1</li><li>1</li><li>1</li><li>1</li><li>1</li><li>1</li><li>1</li><li>1</li><li>1</li><li>1</li><li>1</li><li>1</li><li>⋯</li><li>2</li><li>2</li><li>2</li><li>2</li><li>2</li><li>2</li><li>2</li><li>2</li><li>2</li><li>2</li><li>2</li><li>2</li><li>2</li><li>2</li><li>2</li><li>2</li><li>2</li><li>2</li><li>2</li><li>2</li><li>2</li><li>2</li><li>2</li><li>2</li><li>2</li><li>2</li><li>2</li><li>2</li><li>2</li><li>2</li><li>2</li><li>2</li><li>2</li><li>2</li><li>2</li><li>2</li><li>2</li><li>2</li><li>2</li><li>2</li><li>2</li><li>2</li><li>2</li><li>2</li><li>2</li><li>2</li><li>2</li><li>2</li><li>2</li><li>2</li><li>1</li><li>1</li><li>1</li><li>1</li><li>1</li><li>1</li><li>1</li><li>1</li><li>1</li><li>1</li><li>1</li><li>1</li><li>1</li><li>1</li><li>1</li><li>1</li><li>1</li><li>2</li><li>1</li><li>1</li><li>1</li><li>1</li><li>1</li><li>1</li><li>1</li><li>1</li><li>1</li><li>1</li><li>1</li><li>1</li><li>1</li><li>2</li><li>1</li><li>1</li><li>1</li><li>1</li><li>1</li><li>1</li><li>1</li><li>1</li><li>1</li><li>1</li><li>1</li><li>1</li><li>1</li><li>1</li><li>1</li><li>1</li><li>1</li><li>1</li><li>2</li><li>2</li><li>2</li><li>2</li><li>2</li><li>2</li><li>2</li><li>2</li><li>2</li><li>2</li><li>2</li><li>2</li><li>2</li><li>2</li><li>2</li><li>2</li><li>2</li><li>2</li><li>2</li><li>2</li><li>2</li><li>2</li><li>2</li><li>2</li><li>2</li><li>2</li><li>2</li><li>2</li><li>2</li><li>2</li><li>2</li><li>2</li><li>2</li><li>2</li><li>2</li><li>2</li><li>2</li><li>2</li><li>2</li><li>2</li><li>2</li><li>2</li><li>2</li><li>2</li><li>2</li><li>2</li><li>2</li><li>2</li><li>2</li><li>2</li><li>1</li><li>1</li><li>1</li><li>1</li><li>1</li><li>1</li><li>1</li><li>1</li><li>1</li><li>1</li><li>1</li><li>1</li><li>1</li><li>1</li><li>1</li><li>1</li><li>1</li><li>1</li><li>1</li><li>1</li><li>1</li><li>1</li><li>1</li><li>1</li><li>1</li><li>1</li><li>1</li><li>1</li><li>1</li><li>1</li><li>1</li><li>1</li><li>1</li><li>1</li><li>1</li><li>1</li><li>1</li><li>1</li><li>1</li><li>1</li><li>1</li><li>1</li><li>1</li><li>1</li><li>1</li><li>1</li><li>1</li><li>1</li><li>1</li><li>1</li></ol>\n"
            ],
            "text/markdown": "1. 2\n2. 2\n3. 2\n4. 2\n5. 2\n6. 2\n7. 2\n8. 2\n9. 2\n10. 2\n11. 2\n12. 2\n13. 2\n14. 2\n15. 2\n16. 2\n17. 2\n18. 2\n19. 2\n20. 2\n21. 2\n22. 2\n23. 2\n24. 2\n25. 2\n26. 2\n27. 2\n28. 2\n29. 2\n30. 2\n31. 2\n32. 2\n33. 2\n34. 2\n35. 2\n36. 2\n37. 2\n38. 2\n39. 2\n40. 2\n41. 2\n42. 2\n43. 2\n44. 2\n45. 2\n46. 2\n47. 2\n48. 2\n49. 2\n50. 2\n51. 1\n52. 1\n53. 1\n54. 1\n55. 1\n56. 2\n57. 1\n58. 1\n59. 1\n60. 1\n61. 1\n62. 1\n63. 1\n64. 1\n65. 2\n66. 2\n67. 2\n68. 1\n69. 2\n70. 2\n71. 1\n72. 1\n73. 1\n74. 1\n75. 1\n76. 1\n77. 1\n78. 1\n79. 1\n80. 1\n81. 1\n82. 1\n83. 2\n84. 2\n85. 1\n86. 1\n87. 1\n88. 1\n89. 1\n90. 1\n91. 1\n92. 1\n93. 1\n94. 1\n95. 2\n96. 1\n97. 2\n98. 1\n99. 1\n100. 1\n101. 1\n102. 1\n103. 1\n104. 1\n105. 1\n106. 1\n107. 1\n108. 1\n109. 1\n110. 1\n111. 1\n112. 1\n113. 1\n114. 1\n115. 1\n116. 1\n117. 1\n118. 1\n119. 1\n120. 1\n121. 1\n122. 1\n123. 1\n124. 1\n125. 1\n126. 1\n127. 1\n128. 1\n129. 1\n130. 1\n131. 1\n132. 1\n133. 1\n134. 1\n135. 1\n136. 1\n137. 1\n138. 1\n139. 1\n140. 1\n141. 1\n142. 1\n143. 1\n144. 1\n145. 1\n146. 1\n147. 1\n148. 1\n149. 1\n150. 1\n151. 1\n152. 1\n153. 1\n154. 1\n155. 1\n156. 1\n157. 1\n158. 1\n159. 1\n160. 1\n161. 1\n162. 1\n163. 1\n164. 1\n165. 1\n166. 1\n167. 1\n168. 1\n169. 1\n170. 1\n171. 1\n172. 1\n173. 1\n174. 1\n175. 1\n176. 1\n177. 1\n178. 1\n179. 1\n180. 1\n181. 1\n182. 1\n183. 1\n184. 1\n185. 1\n186. 1\n187. 1\n188. 1\n189. 1\n190. 1\n191. 1\n192. 1\n193. 1\n194. 1\n195. 1\n196. 1\n197. 1\n198. 1\n199. 1\n200. 1\n201. ⋯\n202. 2\n203. 2\n204. 2\n205. 2\n206. 2\n207. 2\n208. 2\n209. 2\n210. 2\n211. 2\n212. 2\n213. 2\n214. 2\n215. 2\n216. 2\n217. 2\n218. 2\n219. 2\n220. 2\n221. 2\n222. 2\n223. 2\n224. 2\n225. 2\n226. 2\n227. 2\n228. 2\n229. 2\n230. 2\n231. 2\n232. 2\n233. 2\n234. 2\n235. 2\n236. 2\n237. 2\n238. 2\n239. 2\n240. 2\n241. 2\n242. 2\n243. 2\n244. 2\n245. 2\n246. 2\n247. 2\n248. 2\n249. 2\n250. 2\n251. 2\n252. 1\n253. 1\n254. 1\n255. 1\n256. 1\n257. 1\n258. 1\n259. 1\n260. 1\n261. 1\n262. 1\n263. 1\n264. 1\n265. 1\n266. 1\n267. 1\n268. 1\n269. 2\n270. 1\n271. 1\n272. 1\n273. 1\n274. 1\n275. 1\n276. 1\n277. 1\n278. 1\n279. 1\n280. 1\n281. 1\n282. 1\n283. 2\n284. 1\n285. 1\n286. 1\n287. 1\n288. 1\n289. 1\n290. 1\n291. 1\n292. 1\n293. 1\n294. 1\n295. 1\n296. 1\n297. 1\n298. 1\n299. 1\n300. 1\n301. 1\n302. 2\n303. 2\n304. 2\n305. 2\n306. 2\n307. 2\n308. 2\n309. 2\n310. 2\n311. 2\n312. 2\n313. 2\n314. 2\n315. 2\n316. 2\n317. 2\n318. 2\n319. 2\n320. 2\n321. 2\n322. 2\n323. 2\n324. 2\n325. 2\n326. 2\n327. 2\n328. 2\n329. 2\n330. 2\n331. 2\n332. 2\n333. 2\n334. 2\n335. 2\n336. 2\n337. 2\n338. 2\n339. 2\n340. 2\n341. 2\n342. 2\n343. 2\n344. 2\n345. 2\n346. 2\n347. 2\n348. 2\n349. 2\n350. 2\n351. 2\n352. 1\n353. 1\n354. 1\n355. 1\n356. 1\n357. 1\n358. 1\n359. 1\n360. 1\n361. 1\n362. 1\n363. 1\n364. 1\n365. 1\n366. 1\n367. 1\n368. 1\n369. 1\n370. 1\n371. 1\n372. 1\n373. 1\n374. 1\n375. 1\n376. 1\n377. 1\n378. 1\n379. 1\n380. 1\n381. 1\n382. 1\n383. 1\n384. 1\n385. 1\n386. 1\n387. 1\n388. 1\n389. 1\n390. 1\n391. 1\n392. 1\n393. 1\n394. 1\n395. 1\n396. 1\n397. 1\n398. 1\n399. 1\n400. 1\n401. 1\n\n\n",
            "text/latex": "\\begin{enumerate*}\n\\item 2\n\\item 2\n\\item 2\n\\item 2\n\\item 2\n\\item 2\n\\item 2\n\\item 2\n\\item 2\n\\item 2\n\\item 2\n\\item 2\n\\item 2\n\\item 2\n\\item 2\n\\item 2\n\\item 2\n\\item 2\n\\item 2\n\\item 2\n\\item 2\n\\item 2\n\\item 2\n\\item 2\n\\item 2\n\\item 2\n\\item 2\n\\item 2\n\\item 2\n\\item 2\n\\item 2\n\\item 2\n\\item 2\n\\item 2\n\\item 2\n\\item 2\n\\item 2\n\\item 2\n\\item 2\n\\item 2\n\\item 2\n\\item 2\n\\item 2\n\\item 2\n\\item 2\n\\item 2\n\\item 2\n\\item 2\n\\item 2\n\\item 2\n\\item 1\n\\item 1\n\\item 1\n\\item 1\n\\item 1\n\\item 2\n\\item 1\n\\item 1\n\\item 1\n\\item 1\n\\item 1\n\\item 1\n\\item 1\n\\item 1\n\\item 2\n\\item 2\n\\item 2\n\\item 1\n\\item 2\n\\item 2\n\\item 1\n\\item 1\n\\item 1\n\\item 1\n\\item 1\n\\item 1\n\\item 1\n\\item 1\n\\item 1\n\\item 1\n\\item 1\n\\item 1\n\\item 2\n\\item 2\n\\item 1\n\\item 1\n\\item 1\n\\item 1\n\\item 1\n\\item 1\n\\item 1\n\\item 1\n\\item 1\n\\item 1\n\\item 2\n\\item 1\n\\item 2\n\\item 1\n\\item 1\n\\item 1\n\\item 1\n\\item 1\n\\item 1\n\\item 1\n\\item 1\n\\item 1\n\\item 1\n\\item 1\n\\item 1\n\\item 1\n\\item 1\n\\item 1\n\\item 1\n\\item 1\n\\item 1\n\\item 1\n\\item 1\n\\item 1\n\\item 1\n\\item 1\n\\item 1\n\\item 1\n\\item 1\n\\item 1\n\\item 1\n\\item 1\n\\item 1\n\\item 1\n\\item 1\n\\item 1\n\\item 1\n\\item 1\n\\item 1\n\\item 1\n\\item 1\n\\item 1\n\\item 1\n\\item 1\n\\item 1\n\\item 1\n\\item 1\n\\item 1\n\\item 1\n\\item 1\n\\item 1\n\\item 1\n\\item 1\n\\item 1\n\\item 1\n\\item 1\n\\item 1\n\\item 1\n\\item 1\n\\item 1\n\\item 1\n\\item 1\n\\item 1\n\\item 1\n\\item 1\n\\item 1\n\\item 1\n\\item 1\n\\item 1\n\\item 1\n\\item 1\n\\item 1\n\\item 1\n\\item 1\n\\item 1\n\\item 1\n\\item 1\n\\item 1\n\\item 1\n\\item 1\n\\item 1\n\\item 1\n\\item 1\n\\item 1\n\\item 1\n\\item 1\n\\item 1\n\\item 1\n\\item 1\n\\item 1\n\\item 1\n\\item 1\n\\item 1\n\\item 1\n\\item 1\n\\item 1\n\\item 1\n\\item 1\n\\item 1\n\\item 1\n\\item 1\n\\item 1\n\\item 1\n\\item 1\n\\item 1\n\\item 1\n\\item ⋯\n\\item 2\n\\item 2\n\\item 2\n\\item 2\n\\item 2\n\\item 2\n\\item 2\n\\item 2\n\\item 2\n\\item 2\n\\item 2\n\\item 2\n\\item 2\n\\item 2\n\\item 2\n\\item 2\n\\item 2\n\\item 2\n\\item 2\n\\item 2\n\\item 2\n\\item 2\n\\item 2\n\\item 2\n\\item 2\n\\item 2\n\\item 2\n\\item 2\n\\item 2\n\\item 2\n\\item 2\n\\item 2\n\\item 2\n\\item 2\n\\item 2\n\\item 2\n\\item 2\n\\item 2\n\\item 2\n\\item 2\n\\item 2\n\\item 2\n\\item 2\n\\item 2\n\\item 2\n\\item 2\n\\item 2\n\\item 2\n\\item 2\n\\item 2\n\\item 1\n\\item 1\n\\item 1\n\\item 1\n\\item 1\n\\item 1\n\\item 1\n\\item 1\n\\item 1\n\\item 1\n\\item 1\n\\item 1\n\\item 1\n\\item 1\n\\item 1\n\\item 1\n\\item 1\n\\item 2\n\\item 1\n\\item 1\n\\item 1\n\\item 1\n\\item 1\n\\item 1\n\\item 1\n\\item 1\n\\item 1\n\\item 1\n\\item 1\n\\item 1\n\\item 1\n\\item 2\n\\item 1\n\\item 1\n\\item 1\n\\item 1\n\\item 1\n\\item 1\n\\item 1\n\\item 1\n\\item 1\n\\item 1\n\\item 1\n\\item 1\n\\item 1\n\\item 1\n\\item 1\n\\item 1\n\\item 1\n\\item 1\n\\item 2\n\\item 2\n\\item 2\n\\item 2\n\\item 2\n\\item 2\n\\item 2\n\\item 2\n\\item 2\n\\item 2\n\\item 2\n\\item 2\n\\item 2\n\\item 2\n\\item 2\n\\item 2\n\\item 2\n\\item 2\n\\item 2\n\\item 2\n\\item 2\n\\item 2\n\\item 2\n\\item 2\n\\item 2\n\\item 2\n\\item 2\n\\item 2\n\\item 2\n\\item 2\n\\item 2\n\\item 2\n\\item 2\n\\item 2\n\\item 2\n\\item 2\n\\item 2\n\\item 2\n\\item 2\n\\item 2\n\\item 2\n\\item 2\n\\item 2\n\\item 2\n\\item 2\n\\item 2\n\\item 2\n\\item 2\n\\item 2\n\\item 2\n\\item 1\n\\item 1\n\\item 1\n\\item 1\n\\item 1\n\\item 1\n\\item 1\n\\item 1\n\\item 1\n\\item 1\n\\item 1\n\\item 1\n\\item 1\n\\item 1\n\\item 1\n\\item 1\n\\item 1\n\\item 1\n\\item 1\n\\item 1\n\\item 1\n\\item 1\n\\item 1\n\\item 1\n\\item 1\n\\item 1\n\\item 1\n\\item 1\n\\item 1\n\\item 1\n\\item 1\n\\item 1\n\\item 1\n\\item 1\n\\item 1\n\\item 1\n\\item 1\n\\item 1\n\\item 1\n\\item 1\n\\item 1\n\\item 1\n\\item 1\n\\item 1\n\\item 1\n\\item 1\n\\item 1\n\\item 1\n\\item 1\n\\item 1\n\\end{enumerate*}\n",
            "text/plain": [
              "  [1] 2 2 2 2 2 2 2 2 2 2 2 2 2 2 2 2 2 2 2 2 2 2 2 2 2 2 2 2 2 2 2 2 2 2 2 2 2\n",
              " [38] 2 2 2 2 2 2 2 2 2 2 2 2 2 1 1 1 1 1 2 1 1 1 1 1 1 1 1 2 2 2 1 2 2 1 1 1 1\n",
              " [75] 1 1 1 1 1 1 1 1 2 2 1 1 1 1 1 1 1 1 1 1 2 1 2 1 1 1 1 1 1 1 1 1 1 1 1 1 1\n",
              "[112] 1 1 1 1 1 1 1 1 1 1 1 1 1 1 1 1 1 1 1 1 1 1 1 1 1 1 1 1 1 1 1 1 1 1 1 1 1\n",
              "[149] 1 1 1 1 1 1 1 1 1 1 1 1 1 1 1 1 1 1 1 1 1 1 1 1 1 1 1 1 1 1 1 1 1 1 1 1 1\n",
              "[186] 1 1 1 1 1 1 1 1 1 1 1 1 1 1 1 2 2 2 2 2 2 2 2 2 2 2 2 2 2 2 2 2 2 2 2 2 2\n",
              "[223] 2 2 2 2 2 2 2 2 2 2 2 2 2 2 2 2 2 2 2 2 2 2 2 2 2 2 2 2 1 1 1 1 1 1 1 1 1\n",
              "[260] 1 1 1 1 1 1 1 1 1 1 1 1 1 1 1 1 1 1 1 1 1 1 1 1 1 1 1 1 1 1 1 1 1 1 1 1 1\n",
              "[297] 1 1 1 1 2 2 2 2 2 2 2 1 2 2 1 2 2 2 1 2 2 2 2 2 2 2 2 2 2 2 2 2 2 1 2 1 2\n",
              "[334] 2 2 2 2 2 2 2 2 2 2 1 2 2 2 2 1 2 1 1 1 1 1 1 1 1 1 1 1 1 1 1 1 1 1 1 1 1\n",
              "[371] 1 1 1 1 1 1 1 1 1 1 1 1 1 1 1 1 1 1 1 1 1 1 1 1 1 1 1 1 1 1 2 2 2 2 2 2 2\n",
              "[408] 2 2 2 2 2 2 2 2 2 2 2 2 2 2 2 2 2 2 2 2 2 2 2 2 2 2 2 2 2 2 2 2 2 2 2 2 2\n",
              "[445] 2 2 2 2 2 2 1 1 1 1 1 1 1 1 1 1 1 1 1 1 1 1 1 2 1 1 1 1 1 1 1 1 1 1 1 1 1\n",
              "[482] 2 1 1 1 1 1 1 1 1 1 1 1 1 1 1 1 1 1 1 2 2 2 2 2 2 2 2 2 2 2 2 2 2 2 2 2 2\n",
              "[519] 2 2 2 2 2 2 2 2 2 2 2 2 2 2 2 2 2 2 2 2 2 2 2 2 2 2 2 2 2 2 2 2 1 1 1 1 1\n",
              "[556] 1 1 1 1 1 1 1 1 1 1 1 1 1 1 1 1 1 1 1 1 1 1 1 1 1 1 1 1 1 1 1 1 1 1 1 1 1\n",
              "[593] 1 1 1 1 1 1 1 1"
            ]
          },
          "metadata": {}
        },
        {
          "output_type": "stream",
          "name": "stdout",
          "text": [
            " [1] 32 18 23 36 19 10  6  8  1 31\n"
          ]
        },
        {
          "output_type": "error",
          "ename": "ERROR",
          "evalue": "ignored",
          "traceback": [
            "Error in iris3[outliers, ]: incorrect number of dimensions\nTraceback:\n",
            "1. print(iris3[outliers, ])"
          ]
        }
      ]
    },
    {
      "cell_type": "code",
      "source": [
        "kmeans.result <- kmeans(iris3, centers=2)\n",
        "# cluster centers\n",
        "kmeans.result$centers\n",
        "kmeans.result$cluster\n",
        "centers <- kmeans.result$centers[kmeans.result$cluster, ]\n",
        "distances <- sqrt(rowSums((iris3 - centers)^3))\n",
        "# pick top 10 largest distances\n",
        "outliers <- order(distances, decreasing=T)[1:100]\n",
        "# who are outliers\n",
        "print(outliers)\n",
        "print(iris3[outliers,])\n",
        "\n",
        "plot(iris3[,c(\"DepartureDelayMinutes\", \"ArrivalDelayMinutes\")], pch=\"o\", \n",
        "     col=kmeans.result$cluster, cex=0.75)\n",
        "# plot cluster centers\n",
        "points(kmeans.result$centers[,c(\"DepartureDelayMinutes\", \"ArrivalDelayMinutes\n",
        "\")], col=1:3, \n",
        "       pch=10, cex=3)\n",
        "# plot outliers\n",
        "points(iris3[outliers, c(\"DepartureDelayMinutes\", \"ArrivalDelayMinutes\n",
        "\")], pch=\"+\", col=8, cex=8)"
      ],
      "metadata": {
        "colab": {
          "base_uri": "https://localhost:8080/",
          "height": 185
        },
        "id": "B2pjhAQ_gnWk",
        "outputId": "da811a01-daa0-4fd9-b8e4-e04023052551"
      },
      "execution_count": 161,
      "outputs": [
        {
          "output_type": "stream",
          "name": "stderr",
          "text": [
            "Warning message in storage.mode(x) <- \"double\":\n",
            "“NAs introduced by coercion”\n"
          ]
        },
        {
          "output_type": "error",
          "ename": "ERROR",
          "evalue": "ignored",
          "traceback": [
            "Error in do_one(nmeth): NA/NaN/Inf in foreign function call (arg 1)\nTraceback:\n",
            "1. kmeans(iris3, centers = 2)",
            "2. do_one(nmeth)"
          ]
        }
      ]
    },
    {
      "cell_type": "code",
      "source": [
        "data(iris)\n",
        "iris3 <- iris[,1:4]\n",
        "kmeans.result <- kmeans(iris3, centers=3)\n",
        "# cluster centers\n",
        "kmeans.result$centers\n",
        "kmeans.result$cluster\n",
        "centers <- kmeans.result$centers[kmeans.result$cluster, ]\n",
        "distances <- sqrt(rowSums((iris3 - centers)^2))\n",
        "# pick top 10 largest distances\n",
        "outliers <- order(distances, decreasing=T)[1:10]\n",
        "# who are outliers\n",
        "print(outliers)\n",
        "print(iris3[outliers,])\n",
        "\n",
        "plot(iris3[,c(\"Sepal.Length\", \"Sepal.Width\")], pch=\"o\", \n",
        "     col=kmeans.result$cluster, cex=0.75)\n",
        "# plot cluster centers\n",
        "points(kmeans.result$centers[,c(\"Sepal.Length\", \"Sepal.Width\")], col=1:3, \n",
        "       pch=10, cex=3)\n",
        "# plot outliers\n",
        "points(iris3[outliers, c(\"Sepal.Length\", \"Sepal.Width\")], pch=\"+\", col=4, cex=2)"
      ],
      "metadata": {
        "colab": {
          "base_uri": "https://localhost:8080/",
          "height": 876
        },
        "id": "ObTLZDOogxPx",
        "outputId": "58847e10-1c64-4931-89e4-40e004567488"
      },
      "execution_count": 124,
      "outputs": [
        {
          "output_type": "display_data",
          "data": {
            "text/html": [
              "<table class=\"dataframe\">\n",
              "<caption>A matrix: 3 × 4 of type dbl</caption>\n",
              "<thead>\n",
              "\t<tr><th></th><th scope=col>Sepal.Length</th><th scope=col>Sepal.Width</th><th scope=col>Petal.Length</th><th scope=col>Petal.Width</th></tr>\n",
              "</thead>\n",
              "<tbody>\n",
              "\t<tr><th scope=row>1</th><td>5.901613</td><td>2.748387</td><td>4.393548</td><td>1.433871</td></tr>\n",
              "\t<tr><th scope=row>2</th><td>6.850000</td><td>3.073684</td><td>5.742105</td><td>2.071053</td></tr>\n",
              "\t<tr><th scope=row>3</th><td>5.006000</td><td>3.428000</td><td>1.462000</td><td>0.246000</td></tr>\n",
              "</tbody>\n",
              "</table>\n"
            ],
            "text/markdown": "\nA matrix: 3 × 4 of type dbl\n\n| <!--/--> | Sepal.Length | Sepal.Width | Petal.Length | Petal.Width |\n|---|---|---|---|---|\n| 1 | 5.901613 | 2.748387 | 4.393548 | 1.433871 |\n| 2 | 6.850000 | 3.073684 | 5.742105 | 2.071053 |\n| 3 | 5.006000 | 3.428000 | 1.462000 | 0.246000 |\n\n",
            "text/latex": "A matrix: 3 × 4 of type dbl\n\\begin{tabular}{r|llll}\n  & Sepal.Length & Sepal.Width & Petal.Length & Petal.Width\\\\\n\\hline\n\t1 & 5.901613 & 2.748387 & 4.393548 & 1.433871\\\\\n\t2 & 6.850000 & 3.073684 & 5.742105 & 2.071053\\\\\n\t3 & 5.006000 & 3.428000 & 1.462000 & 0.246000\\\\\n\\end{tabular}\n",
            "text/plain": [
              "  Sepal.Length Sepal.Width Petal.Length Petal.Width\n",
              "1 5.901613     2.748387    4.393548     1.433871   \n",
              "2 6.850000     3.073684    5.742105     2.071053   \n",
              "3 5.006000     3.428000    1.462000     0.246000   "
            ]
          },
          "metadata": {}
        },
        {
          "output_type": "display_data",
          "data": {
            "text/html": [
              "<style>\n",
              ".list-inline {list-style: none; margin:0; padding: 0}\n",
              ".list-inline>li {display: inline-block}\n",
              ".list-inline>li:not(:last-child)::after {content: \"\\00b7\"; padding: 0 .5ex}\n",
              "</style>\n",
              "<ol class=list-inline><li>3</li><li>3</li><li>3</li><li>3</li><li>3</li><li>3</li><li>3</li><li>3</li><li>3</li><li>3</li><li>3</li><li>3</li><li>3</li><li>3</li><li>3</li><li>3</li><li>3</li><li>3</li><li>3</li><li>3</li><li>3</li><li>3</li><li>3</li><li>3</li><li>3</li><li>3</li><li>3</li><li>3</li><li>3</li><li>3</li><li>3</li><li>3</li><li>3</li><li>3</li><li>3</li><li>3</li><li>3</li><li>3</li><li>3</li><li>3</li><li>3</li><li>3</li><li>3</li><li>3</li><li>3</li><li>3</li><li>3</li><li>3</li><li>3</li><li>3</li><li>1</li><li>1</li><li>2</li><li>1</li><li>1</li><li>1</li><li>1</li><li>1</li><li>1</li><li>1</li><li>1</li><li>1</li><li>1</li><li>1</li><li>1</li><li>1</li><li>1</li><li>1</li><li>1</li><li>1</li><li>1</li><li>1</li><li>1</li><li>1</li><li>1</li><li>1</li><li>1</li><li>2</li><li>1</li><li>1</li><li>1</li><li>1</li><li>1</li><li>1</li><li>1</li><li>1</li><li>1</li><li>1</li><li>1</li><li>1</li><li>1</li><li>1</li><li>1</li><li>1</li><li>1</li><li>1</li><li>1</li><li>1</li><li>1</li><li>1</li><li>2</li><li>1</li><li>2</li><li>2</li><li>2</li><li>2</li><li>1</li><li>2</li><li>2</li><li>2</li><li>2</li><li>2</li><li>2</li><li>1</li><li>1</li><li>2</li><li>2</li><li>2</li><li>2</li><li>1</li><li>2</li><li>1</li><li>2</li><li>1</li><li>2</li><li>2</li><li>1</li><li>1</li><li>2</li><li>2</li><li>2</li><li>2</li><li>2</li><li>1</li><li>2</li><li>2</li><li>2</li><li>2</li><li>1</li><li>2</li><li>2</li><li>2</li><li>1</li><li>2</li><li>2</li><li>2</li><li>1</li><li>2</li><li>2</li><li>1</li></ol>\n"
            ],
            "text/markdown": "1. 3\n2. 3\n3. 3\n4. 3\n5. 3\n6. 3\n7. 3\n8. 3\n9. 3\n10. 3\n11. 3\n12. 3\n13. 3\n14. 3\n15. 3\n16. 3\n17. 3\n18. 3\n19. 3\n20. 3\n21. 3\n22. 3\n23. 3\n24. 3\n25. 3\n26. 3\n27. 3\n28. 3\n29. 3\n30. 3\n31. 3\n32. 3\n33. 3\n34. 3\n35. 3\n36. 3\n37. 3\n38. 3\n39. 3\n40. 3\n41. 3\n42. 3\n43. 3\n44. 3\n45. 3\n46. 3\n47. 3\n48. 3\n49. 3\n50. 3\n51. 1\n52. 1\n53. 2\n54. 1\n55. 1\n56. 1\n57. 1\n58. 1\n59. 1\n60. 1\n61. 1\n62. 1\n63. 1\n64. 1\n65. 1\n66. 1\n67. 1\n68. 1\n69. 1\n70. 1\n71. 1\n72. 1\n73. 1\n74. 1\n75. 1\n76. 1\n77. 1\n78. 2\n79. 1\n80. 1\n81. 1\n82. 1\n83. 1\n84. 1\n85. 1\n86. 1\n87. 1\n88. 1\n89. 1\n90. 1\n91. 1\n92. 1\n93. 1\n94. 1\n95. 1\n96. 1\n97. 1\n98. 1\n99. 1\n100. 1\n101. 2\n102. 1\n103. 2\n104. 2\n105. 2\n106. 2\n107. 1\n108. 2\n109. 2\n110. 2\n111. 2\n112. 2\n113. 2\n114. 1\n115. 1\n116. 2\n117. 2\n118. 2\n119. 2\n120. 1\n121. 2\n122. 1\n123. 2\n124. 1\n125. 2\n126. 2\n127. 1\n128. 1\n129. 2\n130. 2\n131. 2\n132. 2\n133. 2\n134. 1\n135. 2\n136. 2\n137. 2\n138. 2\n139. 1\n140. 2\n141. 2\n142. 2\n143. 1\n144. 2\n145. 2\n146. 2\n147. 1\n148. 2\n149. 2\n150. 1\n\n\n",
            "text/latex": "\\begin{enumerate*}\n\\item 3\n\\item 3\n\\item 3\n\\item 3\n\\item 3\n\\item 3\n\\item 3\n\\item 3\n\\item 3\n\\item 3\n\\item 3\n\\item 3\n\\item 3\n\\item 3\n\\item 3\n\\item 3\n\\item 3\n\\item 3\n\\item 3\n\\item 3\n\\item 3\n\\item 3\n\\item 3\n\\item 3\n\\item 3\n\\item 3\n\\item 3\n\\item 3\n\\item 3\n\\item 3\n\\item 3\n\\item 3\n\\item 3\n\\item 3\n\\item 3\n\\item 3\n\\item 3\n\\item 3\n\\item 3\n\\item 3\n\\item 3\n\\item 3\n\\item 3\n\\item 3\n\\item 3\n\\item 3\n\\item 3\n\\item 3\n\\item 3\n\\item 3\n\\item 1\n\\item 1\n\\item 2\n\\item 1\n\\item 1\n\\item 1\n\\item 1\n\\item 1\n\\item 1\n\\item 1\n\\item 1\n\\item 1\n\\item 1\n\\item 1\n\\item 1\n\\item 1\n\\item 1\n\\item 1\n\\item 1\n\\item 1\n\\item 1\n\\item 1\n\\item 1\n\\item 1\n\\item 1\n\\item 1\n\\item 1\n\\item 2\n\\item 1\n\\item 1\n\\item 1\n\\item 1\n\\item 1\n\\item 1\n\\item 1\n\\item 1\n\\item 1\n\\item 1\n\\item 1\n\\item 1\n\\item 1\n\\item 1\n\\item 1\n\\item 1\n\\item 1\n\\item 1\n\\item 1\n\\item 1\n\\item 1\n\\item 1\n\\item 2\n\\item 1\n\\item 2\n\\item 2\n\\item 2\n\\item 2\n\\item 1\n\\item 2\n\\item 2\n\\item 2\n\\item 2\n\\item 2\n\\item 2\n\\item 1\n\\item 1\n\\item 2\n\\item 2\n\\item 2\n\\item 2\n\\item 1\n\\item 2\n\\item 1\n\\item 2\n\\item 1\n\\item 2\n\\item 2\n\\item 1\n\\item 1\n\\item 2\n\\item 2\n\\item 2\n\\item 2\n\\item 2\n\\item 1\n\\item 2\n\\item 2\n\\item 2\n\\item 2\n\\item 1\n\\item 2\n\\item 2\n\\item 2\n\\item 1\n\\item 2\n\\item 2\n\\item 2\n\\item 1\n\\item 2\n\\item 2\n\\item 1\n\\end{enumerate*}\n",
            "text/plain": [
              "  [1] 3 3 3 3 3 3 3 3 3 3 3 3 3 3 3 3 3 3 3 3 3 3 3 3 3 3 3 3 3 3 3 3 3 3 3 3 3\n",
              " [38] 3 3 3 3 3 3 3 3 3 3 3 3 3 1 1 2 1 1 1 1 1 1 1 1 1 1 1 1 1 1 1 1 1 1 1 1 1\n",
              " [75] 1 1 1 2 1 1 1 1 1 1 1 1 1 1 1 1 1 1 1 1 1 1 1 1 1 1 2 1 2 2 2 2 1 2 2 2 2\n",
              "[112] 2 2 1 1 2 2 2 2 1 2 1 2 1 2 2 1 1 2 2 2 2 2 1 2 2 2 2 1 2 2 2 1 2 2 2 1 2\n",
              "[149] 2 1"
            ]
          },
          "metadata": {}
        },
        {
          "output_type": "stream",
          "name": "stdout",
          "text": [
            " [1]  99  58  94  61 119 118 132 123  42  51\n",
            "    Sepal.Length Sepal.Width Petal.Length Petal.Width\n",
            "99           5.1         2.5          3.0         1.1\n",
            "58           4.9         2.4          3.3         1.0\n",
            "94           5.0         2.3          3.3         1.0\n",
            "61           5.0         2.0          3.5         1.0\n",
            "119          7.7         2.6          6.9         2.3\n",
            "118          7.7         3.8          6.7         2.2\n",
            "132          7.9         3.8          6.4         2.0\n",
            "123          7.7         2.8          6.7         2.0\n",
            "42           4.5         2.3          1.3         0.3\n",
            "51           7.0         3.2          4.7         1.4\n"
          ]
        },
        {
          "output_type": "display_data",
          "data": {
            "text/plain": [
              "plot without title"
            ],
            "image/png": "[encoded data removed]"
          },
          "metadata": {
            "image/png": {
              "width": 420,
              "height": 420
            }
          }
        }
      ]
    },
    {
      "cell_type": "code",
      "source": [
        "head(iris)"
      ],
      "metadata": {
        "colab": {
          "base_uri": "https://localhost:8080/",
          "height": 286
        },
        "id": "LJoAl8splPGz",
        "outputId": "57cfd853-8f1c-4dab-aaae-182688fa9299"
      },
      "execution_count": 125,
      "outputs": [
        {
          "output_type": "display_data",
          "data": {
            "text/html": [
              "<table class=\"dataframe\">\n",
              "<caption>A data.frame: 6 × 5</caption>\n",
              "<thead>\n",
              "\t<tr><th></th><th scope=col>Sepal.Length</th><th scope=col>Sepal.Width</th><th scope=col>Petal.Length</th><th scope=col>Petal.Width</th><th scope=col>Species</th></tr>\n",
              "\t<tr><th></th><th scope=col>&lt;dbl&gt;</th><th scope=col>&lt;dbl&gt;</th><th scope=col>&lt;dbl&gt;</th><th scope=col>&lt;dbl&gt;</th><th scope=col>&lt;fct&gt;</th></tr>\n",
              "</thead>\n",
              "<tbody>\n",
              "\t<tr><th scope=row>1</th><td>5.1</td><td>3.5</td><td>1.4</td><td>0.2</td><td>setosa</td></tr>\n",
              "\t<tr><th scope=row>2</th><td>4.9</td><td>3.0</td><td>1.4</td><td>0.2</td><td>setosa</td></tr>\n",
              "\t<tr><th scope=row>3</th><td>4.7</td><td>3.2</td><td>1.3</td><td>0.2</td><td>setosa</td></tr>\n",
              "\t<tr><th scope=row>4</th><td>4.6</td><td>3.1</td><td>1.5</td><td>0.2</td><td>setosa</td></tr>\n",
              "\t<tr><th scope=row>5</th><td>5.0</td><td>3.6</td><td>1.4</td><td>0.2</td><td>setosa</td></tr>\n",
              "\t<tr><th scope=row>6</th><td>5.4</td><td>3.9</td><td>1.7</td><td>0.4</td><td>setosa</td></tr>\n",
              "</tbody>\n",
              "</table>\n"
            ],
            "text/markdown": "\nA data.frame: 6 × 5\n\n| <!--/--> | Sepal.Length &lt;dbl&gt; | Sepal.Width &lt;dbl&gt; | Petal.Length &lt;dbl&gt; | Petal.Width &lt;dbl&gt; | Species &lt;fct&gt; |\n|---|---|---|---|---|---|\n| 1 | 5.1 | 3.5 | 1.4 | 0.2 | setosa |\n| 2 | 4.9 | 3.0 | 1.4 | 0.2 | setosa |\n| 3 | 4.7 | 3.2 | 1.3 | 0.2 | setosa |\n| 4 | 4.6 | 3.1 | 1.5 | 0.2 | setosa |\n| 5 | 5.0 | 3.6 | 1.4 | 0.2 | setosa |\n| 6 | 5.4 | 3.9 | 1.7 | 0.4 | setosa |\n\n",
            "text/latex": "A data.frame: 6 × 5\n\\begin{tabular}{r|lllll}\n  & Sepal.Length & Sepal.Width & Petal.Length & Petal.Width & Species\\\\\n  & <dbl> & <dbl> & <dbl> & <dbl> & <fct>\\\\\n\\hline\n\t1 & 5.1 & 3.5 & 1.4 & 0.2 & setosa\\\\\n\t2 & 4.9 & 3.0 & 1.4 & 0.2 & setosa\\\\\n\t3 & 4.7 & 3.2 & 1.3 & 0.2 & setosa\\\\\n\t4 & 4.6 & 3.1 & 1.5 & 0.2 & setosa\\\\\n\t5 & 5.0 & 3.6 & 1.4 & 0.2 & setosa\\\\\n\t6 & 5.4 & 3.9 & 1.7 & 0.4 & setosa\\\\\n\\end{tabular}\n",
            "text/plain": [
              "  Sepal.Length Sepal.Width Petal.Length Petal.Width Species\n",
              "1 5.1          3.5         1.4          0.2         setosa \n",
              "2 4.9          3.0         1.4          0.2         setosa \n",
              "3 4.7          3.2         1.3          0.2         setosa \n",
              "4 4.6          3.1         1.5          0.2         setosa \n",
              "5 5.0          3.6         1.4          0.2         setosa \n",
              "6 5.4          3.9         1.7          0.4         setosa "
            ]
          },
          "metadata": {}
        }
      ]
    },
    {
      "cell_type": "code",
      "source": [
        ""
      ],
      "metadata": {
        "id": "w-mAZzA8lU-2"
      },
      "execution_count": null,
      "outputs": []
    }
  ]
}