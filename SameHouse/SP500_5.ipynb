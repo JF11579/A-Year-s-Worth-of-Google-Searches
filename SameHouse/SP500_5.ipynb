{
  "nbformat": 4,
  "nbformat_minor": 0,
  "metadata": {
    "colab": {
      "provenance": [],
      "authorship_tag": "ABX9TyNMeQjve59ZKNL9FJCGXSDr",
      "include_colab_link": true
    },
    "kernelspec": {
      "name": "python3",
      "display_name": "Python 3"
    },
    "language_info": {
      "name": "python"
    }
  },
  "cells": [
    {
      "cell_type": "markdown",
      "metadata": {
        "id": "view-in-github",
        "colab_type": "text"
      },
      "source": [
        "<a href=\"https://colab.research.google.com/github/JF11579/A-Year-s-Worth-of-Google-Searches/blob/master/SameHouse/SP500_5.ipynb\" target=\"_parent\"><img src=\"https://colab.research.google.com/assets/colab-badge.svg\" alt=\"Open In Colab\"/></a>"
      ]
    },
    {
      "cell_type": "markdown",
      "source": [
        "### Get the  towns into 3 groups.  Get avg sale price for each group.\n",
        "\n",
        "### Make a multi line chart with one line of the SP500 and the other 3 of the Monthly avg of the 3 town groups.\n",
        "\n"
      ],
      "metadata": {
        "id": "o4JwyyYXu4xB"
      }
    },
    {
      "cell_type": "markdown",
      "source": [
        "# Library\n"
      ],
      "metadata": {
        "id": "yIuqkG6DvUzQ"
      }
    },
    {
      "cell_type": "code",
      "source": [
        "#!pip install pandas\n",
        "#!pip3 install --upgrade pip\n",
        "#!pip install plotly\n",
        "#!pip install scikit-learn"
      ],
      "metadata": {
        "id": "s9IzM7f0uyYi"
      },
      "execution_count": 1,
      "outputs": []
    },
    {
      "cell_type": "markdown",
      "source": [],
      "metadata": {
        "id": "SvYNeWw8uxep"
      }
    },
    {
      "cell_type": "code",
      "execution_count": 2,
      "metadata": {
        "id": "rMuS3x6tutPM"
      },
      "outputs": [],
      "source": [
        "import pandas as pd\n",
        "from google.colab import drive  # <<<<<<<<<------\n",
        "import plotly.express as px\n",
        "import numpy as np\n",
        "import plotly.graph_objects as go\n",
        "from sklearn.preprocessing import MinMaxScaler\n",
        "import plotly.graph_objects as go"
      ]
    },
    {
      "cell_type": "markdown",
      "source": [
        "# OPTIONS"
      ],
      "metadata": {
        "id": "L1k0VmRTva48"
      }
    },
    {
      "cell_type": "code",
      "source": [
        "pd.set_option('display.max_rows', None)\n",
        "pd.set_option('display.max_columns', None)"
      ],
      "metadata": {
        "id": "M-yFxiiEvYue"
      },
      "execution_count": 3,
      "outputs": []
    },
    {
      "cell_type": "markdown",
      "source": [
        "# The Plan\n",
        "\n",
        "## Part One: The houses\n",
        "\n",
        "### Devide the house into Least, Avg, Most.\n",
        "\n",
        "# Plot Line the 3 groups\n",
        "\n",
        "## Part Two\n",
        "\n",
        "### Make Line plot of the SP500\n",
        "\n",
        "# Part Three: Merge the two plots\n"
      ],
      "metadata": {
        "id": "Nk0-j74Dvf5U"
      }
    },
    {
      "cell_type": "markdown",
      "source": [
        "# Part One: the Houses"
      ],
      "metadata": {
        "id": "jDYQof4vwC0N"
      }
    },
    {
      "cell_type": "markdown",
      "source": [
        "## House Data"
      ],
      "metadata": {
        "id": "iZtKHPe0wOXE"
      }
    },
    {
      "cell_type": "code",
      "source": [
        "# Mount Google Drive\n",
        "from google.colab import drive\n",
        "drive.mount('/content/drive')\n",
        "\n",
        "# Change to the directory containing your CSV\n",
        "%cd /content/drive/MyDrive/DATA/Real_Estate_Data"
      ],
      "metadata": {
        "colab": {
          "base_uri": "https://localhost:8080/"
        },
        "id": "wgwDJ9DNwI6p",
        "outputId": "267572ee-6207-4efe-9321-47494825700d"
      },
      "execution_count": 4,
      "outputs": [
        {
          "output_type": "stream",
          "name": "stdout",
          "text": [
            "Mounted at /content/drive\n",
            "/content/drive/MyDrive/DATA/Real_Estate_Data\n"
          ]
        }
      ]
    },
    {
      "cell_type": "code",
      "source": [
        "houses = pd.read_csv('Combined_data_Jan_10_3.csv')"
      ],
      "metadata": {
        "colab": {
          "base_uri": "https://localhost:8080/",
          "height": 339
        },
        "id": "QPew87I1wKu7",
        "outputId": "4a094901-075f-4100-9d6e-93ba0b4e2b70"
      },
      "execution_count": 33,
      "outputs": [
        {
          "output_type": "error",
          "ename": "FileNotFoundError",
          "evalue": "[Errno 2] No such file or directory: 'Combined_data_Jan_10_3.csv'",
          "traceback": [
            "\u001b[0;31m---------------------------------------------------------------------------\u001b[0m",
            "\u001b[0;31mFileNotFoundError\u001b[0m                         Traceback (most recent call last)",
            "\u001b[0;32m<ipython-input-33-46007e9c02e9>\u001b[0m in \u001b[0;36m<cell line: 1>\u001b[0;34m()\u001b[0m\n\u001b[0;32m----> 1\u001b[0;31m \u001b[0mhouses\u001b[0m \u001b[0;34m=\u001b[0m \u001b[0mpd\u001b[0m\u001b[0;34m.\u001b[0m\u001b[0mread_csv\u001b[0m\u001b[0;34m(\u001b[0m\u001b[0;34m'Combined_data_Jan_10_3.csv'\u001b[0m\u001b[0;34m)\u001b[0m\u001b[0;34m\u001b[0m\u001b[0;34m\u001b[0m\u001b[0m\n\u001b[0m",
            "\u001b[0;32m/usr/local/lib/python3.10/dist-packages/pandas/util/_decorators.py\u001b[0m in \u001b[0;36mwrapper\u001b[0;34m(*args, **kwargs)\u001b[0m\n\u001b[1;32m    209\u001b[0m                 \u001b[0;32melse\u001b[0m\u001b[0;34m:\u001b[0m\u001b[0;34m\u001b[0m\u001b[0;34m\u001b[0m\u001b[0m\n\u001b[1;32m    210\u001b[0m                     \u001b[0mkwargs\u001b[0m\u001b[0;34m[\u001b[0m\u001b[0mnew_arg_name\u001b[0m\u001b[0;34m]\u001b[0m \u001b[0;34m=\u001b[0m \u001b[0mnew_arg_value\u001b[0m\u001b[0;34m\u001b[0m\u001b[0;34m\u001b[0m\u001b[0m\n\u001b[0;32m--> 211\u001b[0;31m             \u001b[0;32mreturn\u001b[0m \u001b[0mfunc\u001b[0m\u001b[0;34m(\u001b[0m\u001b[0;34m*\u001b[0m\u001b[0margs\u001b[0m\u001b[0;34m,\u001b[0m \u001b[0;34m**\u001b[0m\u001b[0mkwargs\u001b[0m\u001b[0;34m)\u001b[0m\u001b[0;34m\u001b[0m\u001b[0;34m\u001b[0m\u001b[0m\n\u001b[0m\u001b[1;32m    212\u001b[0m \u001b[0;34m\u001b[0m\u001b[0m\n\u001b[1;32m    213\u001b[0m         \u001b[0;32mreturn\u001b[0m \u001b[0mcast\u001b[0m\u001b[0;34m(\u001b[0m\u001b[0mF\u001b[0m\u001b[0;34m,\u001b[0m \u001b[0mwrapper\u001b[0m\u001b[0;34m)\u001b[0m\u001b[0;34m\u001b[0m\u001b[0;34m\u001b[0m\u001b[0m\n",
            "\u001b[0;32m/usr/local/lib/python3.10/dist-packages/pandas/util/_decorators.py\u001b[0m in \u001b[0;36mwrapper\u001b[0;34m(*args, **kwargs)\u001b[0m\n\u001b[1;32m    329\u001b[0m                     \u001b[0mstacklevel\u001b[0m\u001b[0;34m=\u001b[0m\u001b[0mfind_stack_level\u001b[0m\u001b[0;34m(\u001b[0m\u001b[0;34m)\u001b[0m\u001b[0;34m,\u001b[0m\u001b[0;34m\u001b[0m\u001b[0;34m\u001b[0m\u001b[0m\n\u001b[1;32m    330\u001b[0m                 )\n\u001b[0;32m--> 331\u001b[0;31m             \u001b[0;32mreturn\u001b[0m \u001b[0mfunc\u001b[0m\u001b[0;34m(\u001b[0m\u001b[0;34m*\u001b[0m\u001b[0margs\u001b[0m\u001b[0;34m,\u001b[0m \u001b[0;34m**\u001b[0m\u001b[0mkwargs\u001b[0m\u001b[0;34m)\u001b[0m\u001b[0;34m\u001b[0m\u001b[0;34m\u001b[0m\u001b[0m\n\u001b[0m\u001b[1;32m    332\u001b[0m \u001b[0;34m\u001b[0m\u001b[0m\n\u001b[1;32m    333\u001b[0m         \u001b[0;31m# error: \"Callable[[VarArg(Any), KwArg(Any)], Any]\" has no\u001b[0m\u001b[0;34m\u001b[0m\u001b[0;34m\u001b[0m\u001b[0m\n",
            "\u001b[0;32m/usr/local/lib/python3.10/dist-packages/pandas/io/parsers/readers.py\u001b[0m in \u001b[0;36mread_csv\u001b[0;34m(filepath_or_buffer, sep, delimiter, header, names, index_col, usecols, squeeze, prefix, mangle_dupe_cols, dtype, engine, converters, true_values, false_values, skipinitialspace, skiprows, skipfooter, nrows, na_values, keep_default_na, na_filter, verbose, skip_blank_lines, parse_dates, infer_datetime_format, keep_date_col, date_parser, dayfirst, cache_dates, iterator, chunksize, compression, thousands, decimal, lineterminator, quotechar, quoting, doublequote, escapechar, comment, encoding, encoding_errors, dialect, error_bad_lines, warn_bad_lines, on_bad_lines, delim_whitespace, low_memory, memory_map, float_precision, storage_options)\u001b[0m\n\u001b[1;32m    948\u001b[0m     \u001b[0mkwds\u001b[0m\u001b[0;34m.\u001b[0m\u001b[0mupdate\u001b[0m\u001b[0;34m(\u001b[0m\u001b[0mkwds_defaults\u001b[0m\u001b[0;34m)\u001b[0m\u001b[0;34m\u001b[0m\u001b[0;34m\u001b[0m\u001b[0m\n\u001b[1;32m    949\u001b[0m \u001b[0;34m\u001b[0m\u001b[0m\n\u001b[0;32m--> 950\u001b[0;31m     \u001b[0;32mreturn\u001b[0m \u001b[0m_read\u001b[0m\u001b[0;34m(\u001b[0m\u001b[0mfilepath_or_buffer\u001b[0m\u001b[0;34m,\u001b[0m \u001b[0mkwds\u001b[0m\u001b[0;34m)\u001b[0m\u001b[0;34m\u001b[0m\u001b[0;34m\u001b[0m\u001b[0m\n\u001b[0m\u001b[1;32m    951\u001b[0m \u001b[0;34m\u001b[0m\u001b[0m\n\u001b[1;32m    952\u001b[0m \u001b[0;34m\u001b[0m\u001b[0m\n",
            "\u001b[0;32m/usr/local/lib/python3.10/dist-packages/pandas/io/parsers/readers.py\u001b[0m in \u001b[0;36m_read\u001b[0;34m(filepath_or_buffer, kwds)\u001b[0m\n\u001b[1;32m    603\u001b[0m \u001b[0;34m\u001b[0m\u001b[0m\n\u001b[1;32m    604\u001b[0m     \u001b[0;31m# Create the parser.\u001b[0m\u001b[0;34m\u001b[0m\u001b[0;34m\u001b[0m\u001b[0m\n\u001b[0;32m--> 605\u001b[0;31m     \u001b[0mparser\u001b[0m \u001b[0;34m=\u001b[0m \u001b[0mTextFileReader\u001b[0m\u001b[0;34m(\u001b[0m\u001b[0mfilepath_or_buffer\u001b[0m\u001b[0;34m,\u001b[0m \u001b[0;34m**\u001b[0m\u001b[0mkwds\u001b[0m\u001b[0;34m)\u001b[0m\u001b[0;34m\u001b[0m\u001b[0;34m\u001b[0m\u001b[0m\n\u001b[0m\u001b[1;32m    606\u001b[0m \u001b[0;34m\u001b[0m\u001b[0m\n\u001b[1;32m    607\u001b[0m     \u001b[0;32mif\u001b[0m \u001b[0mchunksize\u001b[0m \u001b[0;32mor\u001b[0m \u001b[0miterator\u001b[0m\u001b[0;34m:\u001b[0m\u001b[0;34m\u001b[0m\u001b[0;34m\u001b[0m\u001b[0m\n",
            "\u001b[0;32m/usr/local/lib/python3.10/dist-packages/pandas/io/parsers/readers.py\u001b[0m in \u001b[0;36m__init__\u001b[0;34m(self, f, engine, **kwds)\u001b[0m\n\u001b[1;32m   1440\u001b[0m \u001b[0;34m\u001b[0m\u001b[0m\n\u001b[1;32m   1441\u001b[0m         \u001b[0mself\u001b[0m\u001b[0;34m.\u001b[0m\u001b[0mhandles\u001b[0m\u001b[0;34m:\u001b[0m \u001b[0mIOHandles\u001b[0m \u001b[0;34m|\u001b[0m \u001b[0;32mNone\u001b[0m \u001b[0;34m=\u001b[0m \u001b[0;32mNone\u001b[0m\u001b[0;34m\u001b[0m\u001b[0;34m\u001b[0m\u001b[0m\n\u001b[0;32m-> 1442\u001b[0;31m         \u001b[0mself\u001b[0m\u001b[0;34m.\u001b[0m\u001b[0m_engine\u001b[0m \u001b[0;34m=\u001b[0m \u001b[0mself\u001b[0m\u001b[0;34m.\u001b[0m\u001b[0m_make_engine\u001b[0m\u001b[0;34m(\u001b[0m\u001b[0mf\u001b[0m\u001b[0;34m,\u001b[0m \u001b[0mself\u001b[0m\u001b[0;34m.\u001b[0m\u001b[0mengine\u001b[0m\u001b[0;34m)\u001b[0m\u001b[0;34m\u001b[0m\u001b[0;34m\u001b[0m\u001b[0m\n\u001b[0m\u001b[1;32m   1443\u001b[0m \u001b[0;34m\u001b[0m\u001b[0m\n\u001b[1;32m   1444\u001b[0m     \u001b[0;32mdef\u001b[0m \u001b[0mclose\u001b[0m\u001b[0;34m(\u001b[0m\u001b[0mself\u001b[0m\u001b[0;34m)\u001b[0m \u001b[0;34m->\u001b[0m \u001b[0;32mNone\u001b[0m\u001b[0;34m:\u001b[0m\u001b[0;34m\u001b[0m\u001b[0;34m\u001b[0m\u001b[0m\n",
            "\u001b[0;32m/usr/local/lib/python3.10/dist-packages/pandas/io/parsers/readers.py\u001b[0m in \u001b[0;36m_make_engine\u001b[0;34m(self, f, engine)\u001b[0m\n\u001b[1;32m   1733\u001b[0m                 \u001b[0;32mif\u001b[0m \u001b[0;34m\"b\"\u001b[0m \u001b[0;32mnot\u001b[0m \u001b[0;32min\u001b[0m \u001b[0mmode\u001b[0m\u001b[0;34m:\u001b[0m\u001b[0;34m\u001b[0m\u001b[0;34m\u001b[0m\u001b[0m\n\u001b[1;32m   1734\u001b[0m                     \u001b[0mmode\u001b[0m \u001b[0;34m+=\u001b[0m \u001b[0;34m\"b\"\u001b[0m\u001b[0;34m\u001b[0m\u001b[0;34m\u001b[0m\u001b[0m\n\u001b[0;32m-> 1735\u001b[0;31m             self.handles = get_handle(\n\u001b[0m\u001b[1;32m   1736\u001b[0m                 \u001b[0mf\u001b[0m\u001b[0;34m,\u001b[0m\u001b[0;34m\u001b[0m\u001b[0;34m\u001b[0m\u001b[0m\n\u001b[1;32m   1737\u001b[0m                 \u001b[0mmode\u001b[0m\u001b[0;34m,\u001b[0m\u001b[0;34m\u001b[0m\u001b[0;34m\u001b[0m\u001b[0m\n",
            "\u001b[0;32m/usr/local/lib/python3.10/dist-packages/pandas/io/common.py\u001b[0m in \u001b[0;36mget_handle\u001b[0;34m(path_or_buf, mode, encoding, compression, memory_map, is_text, errors, storage_options)\u001b[0m\n\u001b[1;32m    854\u001b[0m         \u001b[0;32mif\u001b[0m \u001b[0mioargs\u001b[0m\u001b[0;34m.\u001b[0m\u001b[0mencoding\u001b[0m \u001b[0;32mand\u001b[0m \u001b[0;34m\"b\"\u001b[0m \u001b[0;32mnot\u001b[0m \u001b[0;32min\u001b[0m \u001b[0mioargs\u001b[0m\u001b[0;34m.\u001b[0m\u001b[0mmode\u001b[0m\u001b[0;34m:\u001b[0m\u001b[0;34m\u001b[0m\u001b[0;34m\u001b[0m\u001b[0m\n\u001b[1;32m    855\u001b[0m             \u001b[0;31m# Encoding\u001b[0m\u001b[0;34m\u001b[0m\u001b[0;34m\u001b[0m\u001b[0m\n\u001b[0;32m--> 856\u001b[0;31m             handle = open(\n\u001b[0m\u001b[1;32m    857\u001b[0m                 \u001b[0mhandle\u001b[0m\u001b[0;34m,\u001b[0m\u001b[0;34m\u001b[0m\u001b[0;34m\u001b[0m\u001b[0m\n\u001b[1;32m    858\u001b[0m                 \u001b[0mioargs\u001b[0m\u001b[0;34m.\u001b[0m\u001b[0mmode\u001b[0m\u001b[0;34m,\u001b[0m\u001b[0;34m\u001b[0m\u001b[0;34m\u001b[0m\u001b[0m\n",
            "\u001b[0;31mFileNotFoundError\u001b[0m: [Errno 2] No such file or directory: 'Combined_data_Jan_10_3.csv'"
          ]
        }
      ]
    },
    {
      "cell_type": "markdown",
      "source": [
        "## Pre-Processing houses"
      ],
      "metadata": {
        "id": "garRUGDqwX77"
      }
    },
    {
      "cell_type": "code",
      "source": [
        "data = houses\n",
        "data = data.dropna(subset=[\"Sold_Price\"]).query(\"`Sold_Price` != 0\")\n",
        "data = data[['Address', 'Town','Zip','State','Style',\n",
        "                    'ML#','Sold_Price','Baths_Full', 'Baths_Half',\n",
        "                    'Bath','Bedrooms',\n",
        "                      'Appearance','REO' , 'School_District_Name',\n",
        "                 'Approx_Int_Square_Footage','Street_Name','Contract_Date', 'Lot_Square_Footage', 'Lot_Size']]"
      ],
      "metadata": {
        "id": "VsqF63qbwVqR"
      },
      "execution_count": 34,
      "outputs": []
    },
    {
      "cell_type": "markdown",
      "source": [
        "### Convert the date"
      ],
      "metadata": {
        "id": "PsjB4Z-WwjLy"
      }
    },
    {
      "cell_type": "code",
      "source": [
        "# Convert 'Contract_Date' to datetime, coerce errors to NaT\n",
        "data['Contract_Date'] = pd.to_datetime(data['Contract_Date'], errors='coerce')\n",
        "\n",
        "# Extract the year\n",
        "data['Year'] = data['Contract_Date'].dt.year\n",
        "\n",
        "# Drop rows where 'Year' is NaN (including where 'Contract_Date' conversion failed)\n",
        "data = data.dropna(subset=['Year'])\n",
        "\n",
        "data['Year'] = data['Year'].astype(int)\n",
        "\n",
        "#\n",
        "data[\"Contract_Date\"] = data[\"Contract_Date\"].dt.strftime(\"%Y-%m-%d\")\n",
        "\n",
        "data[\"Month_Year\"] = data[\"Contract_Date\"].str[:7]"
      ],
      "metadata": {
        "id": "LXhJjkHiwf8N"
      },
      "execution_count": 35,
      "outputs": []
    },
    {
      "cell_type": "markdown",
      "source": [
        "### consolidate  house styles"
      ],
      "metadata": {
        "id": "dOdt2N1XwowK"
      }
    },
    {
      "cell_type": "code",
      "source": [
        "# Calculate the frequency of each style\n",
        "style_counts = houses['Style'].value_counts(normalize=True) * 100\n",
        "\n",
        "# Identify styles that are less than 5%\n",
        "styles_to_replace = style_counts[style_counts < 5].index\n",
        "#\n",
        "# Replace styles that are less than 5% with 'Other'\n",
        "houses['Style'] = houses['Style'].replace(styles_to_replace, 'Other')"
      ],
      "metadata": {
        "id": "b2f0qWwgwiYF"
      },
      "execution_count": 36,
      "outputs": []
    },
    {
      "cell_type": "code",
      "source": [
        "houses['Town'].unique()"
      ],
      "metadata": {
        "colab": {
          "base_uri": "https://localhost:8080/"
        },
        "id": "CjvWuoVS001g",
        "outputId": "c7867120-70fb-421e-dd7d-785d13a675f6"
      },
      "execution_count": 37,
      "outputs": [
        {
          "output_type": "execute_result",
          "data": {
            "text/plain": [
              "array(['Locust Valley', 'Mineola', 'Farmingdale', 'Hempstead', 'Freeport',\n",
              "       'Roosevelt', 'Westbury', 'Port Washington'], dtype=object)"
            ]
          },
          "metadata": {},
          "execution_count": 37
        }
      ]
    },
    {
      "cell_type": "markdown",
      "source": [
        "## Next devide houses into groups"
      ],
      "metadata": {
        "id": "1uApXgyAwwdn"
      }
    },
    {
      "cell_type": "code",
      "source": [
        "# prompt: filter town to just the 9 mentioned below\n",
        "\n",
        "towns = ['Roosevelt', 'Hempstead', 'Freeport', 'Farmingdale', 'Westbury',\n",
        "         'Mineola', 'Locust Valley', 'Port Washington', 'Roslynss']\n",
        "data = data[data['Town'].isin(towns)]\n"
      ],
      "metadata": {
        "id": "YSpYxPwG08GZ"
      },
      "execution_count": 38,
      "outputs": []
    },
    {
      "cell_type": "code",
      "source": [
        "houses= data"
      ],
      "metadata": {
        "id": "Yme4f9lx1q0l"
      },
      "execution_count": 39,
      "outputs": []
    },
    {
      "cell_type": "code",
      "source": [
        "data.head()"
      ],
      "metadata": {
        "colab": {
          "base_uri": "https://localhost:8080/",
          "height": 365
        },
        "id": "K0Rd_98Z1kfF",
        "outputId": "250a6994-1758-4a1b-bbb1-c3b00efbfe52"
      },
      "execution_count": 40,
      "outputs": [
        {
          "output_type": "execute_result",
          "data": {
            "text/plain": [
              "               Address           Town    Zip State      Style      ML#  \\\n",
              "0      19 Winans Place  Locust Valley  11560    NY       Cape  1870802   \n",
              "1       59 11th Street  Locust Valley  11560    NY   Colonial  2745482   \n",
              "2  19 White Spots Lane  Locust Valley  11560    NY   Exp Cape  2427641   \n",
              "3       5 Quarry  Road  Locust Valley  11560    NY  Exp Ranch  2396870   \n",
              "4        3 Nassau Road  Locust Valley  11560    NY   Colonial  2030725   \n",
              "\n",
              "   Sold_Price  Baths_Full  Baths_Half  Bath  Bedrooms Appearance  REO  \\\n",
              "0    459000.0         2.0         0.0  2.00       4.0  Excellent  NaN   \n",
              "1    360000.0         2.0         0.0  2.00       4.0       Good    N   \n",
              "2    650000.0         2.0         1.0  2.50       3.0       Mint    N   \n",
              "3    800000.0         3.0         0.0  3.00       4.0  Excellent    N   \n",
              "4    467500.0         2.0         2.0  2.55       4.0  Diamond!!    N   \n",
              "\n",
              "  School_District_Name  Approx_Int_Square_Footage  Street_Name Contract_Date  \\\n",
              "0        Locust Valley                        NaN       Winans    2006-09-14   \n",
              "1        Locust Valley                        NaN         11th    2015-11-23   \n",
              "2        Locust Valley                     2353.0  White Spots    2011-10-08   \n",
              "3        Locust Valley                     2151.0      Quarry     2012-05-03   \n",
              "4        Locust Valley                        NaN       Nassau    2008-06-22   \n",
              "\n",
              "   Lot_Square_Footage Lot_Size  Year Month_Year  \n",
              "0                 NaN      NaN  2006    2006-09  \n",
              "1                 NaN      NaN  2015    2015-11  \n",
              "2                 NaN      NaN  2011    2011-10  \n",
              "3                 NaN      NaN  2012    2012-05  \n",
              "4                 NaN      NaN  2008    2008-06  "
            ],
            "text/html": [
              "\n",
              "  <div id=\"df-c7228344-d81e-434a-899a-9d849275b0aa\" class=\"colab-df-container\">\n",
              "    <div>\n",
              "<style scoped>\n",
              "    .dataframe tbody tr th:only-of-type {\n",
              "        vertical-align: middle;\n",
              "    }\n",
              "\n",
              "    .dataframe tbody tr th {\n",
              "        vertical-align: top;\n",
              "    }\n",
              "\n",
              "    .dataframe thead th {\n",
              "        text-align: right;\n",
              "    }\n",
              "</style>\n",
              "<table border=\"1\" class=\"dataframe\">\n",
              "  <thead>\n",
              "    <tr style=\"text-align: right;\">\n",
              "      <th></th>\n",
              "      <th>Address</th>\n",
              "      <th>Town</th>\n",
              "      <th>Zip</th>\n",
              "      <th>State</th>\n",
              "      <th>Style</th>\n",
              "      <th>ML#</th>\n",
              "      <th>Sold_Price</th>\n",
              "      <th>Baths_Full</th>\n",
              "      <th>Baths_Half</th>\n",
              "      <th>Bath</th>\n",
              "      <th>Bedrooms</th>\n",
              "      <th>Appearance</th>\n",
              "      <th>REO</th>\n",
              "      <th>School_District_Name</th>\n",
              "      <th>Approx_Int_Square_Footage</th>\n",
              "      <th>Street_Name</th>\n",
              "      <th>Contract_Date</th>\n",
              "      <th>Lot_Square_Footage</th>\n",
              "      <th>Lot_Size</th>\n",
              "      <th>Year</th>\n",
              "      <th>Month_Year</th>\n",
              "    </tr>\n",
              "  </thead>\n",
              "  <tbody>\n",
              "    <tr>\n",
              "      <th>0</th>\n",
              "      <td>19 Winans Place</td>\n",
              "      <td>Locust Valley</td>\n",
              "      <td>11560</td>\n",
              "      <td>NY</td>\n",
              "      <td>Cape</td>\n",
              "      <td>1870802</td>\n",
              "      <td>459000.0</td>\n",
              "      <td>2.0</td>\n",
              "      <td>0.0</td>\n",
              "      <td>2.00</td>\n",
              "      <td>4.0</td>\n",
              "      <td>Excellent</td>\n",
              "      <td>NaN</td>\n",
              "      <td>Locust Valley</td>\n",
              "      <td>NaN</td>\n",
              "      <td>Winans</td>\n",
              "      <td>2006-09-14</td>\n",
              "      <td>NaN</td>\n",
              "      <td>NaN</td>\n",
              "      <td>2006</td>\n",
              "      <td>2006-09</td>\n",
              "    </tr>\n",
              "    <tr>\n",
              "      <th>1</th>\n",
              "      <td>59 11th Street</td>\n",
              "      <td>Locust Valley</td>\n",
              "      <td>11560</td>\n",
              "      <td>NY</td>\n",
              "      <td>Colonial</td>\n",
              "      <td>2745482</td>\n",
              "      <td>360000.0</td>\n",
              "      <td>2.0</td>\n",
              "      <td>0.0</td>\n",
              "      <td>2.00</td>\n",
              "      <td>4.0</td>\n",
              "      <td>Good</td>\n",
              "      <td>N</td>\n",
              "      <td>Locust Valley</td>\n",
              "      <td>NaN</td>\n",
              "      <td>11th</td>\n",
              "      <td>2015-11-23</td>\n",
              "      <td>NaN</td>\n",
              "      <td>NaN</td>\n",
              "      <td>2015</td>\n",
              "      <td>2015-11</td>\n",
              "    </tr>\n",
              "    <tr>\n",
              "      <th>2</th>\n",
              "      <td>19 White Spots Lane</td>\n",
              "      <td>Locust Valley</td>\n",
              "      <td>11560</td>\n",
              "      <td>NY</td>\n",
              "      <td>Exp Cape</td>\n",
              "      <td>2427641</td>\n",
              "      <td>650000.0</td>\n",
              "      <td>2.0</td>\n",
              "      <td>1.0</td>\n",
              "      <td>2.50</td>\n",
              "      <td>3.0</td>\n",
              "      <td>Mint</td>\n",
              "      <td>N</td>\n",
              "      <td>Locust Valley</td>\n",
              "      <td>2353.0</td>\n",
              "      <td>White Spots</td>\n",
              "      <td>2011-10-08</td>\n",
              "      <td>NaN</td>\n",
              "      <td>NaN</td>\n",
              "      <td>2011</td>\n",
              "      <td>2011-10</td>\n",
              "    </tr>\n",
              "    <tr>\n",
              "      <th>3</th>\n",
              "      <td>5 Quarry  Road</td>\n",
              "      <td>Locust Valley</td>\n",
              "      <td>11560</td>\n",
              "      <td>NY</td>\n",
              "      <td>Exp Ranch</td>\n",
              "      <td>2396870</td>\n",
              "      <td>800000.0</td>\n",
              "      <td>3.0</td>\n",
              "      <td>0.0</td>\n",
              "      <td>3.00</td>\n",
              "      <td>4.0</td>\n",
              "      <td>Excellent</td>\n",
              "      <td>N</td>\n",
              "      <td>Locust Valley</td>\n",
              "      <td>2151.0</td>\n",
              "      <td>Quarry</td>\n",
              "      <td>2012-05-03</td>\n",
              "      <td>NaN</td>\n",
              "      <td>NaN</td>\n",
              "      <td>2012</td>\n",
              "      <td>2012-05</td>\n",
              "    </tr>\n",
              "    <tr>\n",
              "      <th>4</th>\n",
              "      <td>3 Nassau Road</td>\n",
              "      <td>Locust Valley</td>\n",
              "      <td>11560</td>\n",
              "      <td>NY</td>\n",
              "      <td>Colonial</td>\n",
              "      <td>2030725</td>\n",
              "      <td>467500.0</td>\n",
              "      <td>2.0</td>\n",
              "      <td>2.0</td>\n",
              "      <td>2.55</td>\n",
              "      <td>4.0</td>\n",
              "      <td>Diamond!!</td>\n",
              "      <td>N</td>\n",
              "      <td>Locust Valley</td>\n",
              "      <td>NaN</td>\n",
              "      <td>Nassau</td>\n",
              "      <td>2008-06-22</td>\n",
              "      <td>NaN</td>\n",
              "      <td>NaN</td>\n",
              "      <td>2008</td>\n",
              "      <td>2008-06</td>\n",
              "    </tr>\n",
              "  </tbody>\n",
              "</table>\n",
              "</div>\n",
              "    <div class=\"colab-df-buttons\">\n",
              "\n",
              "  <div class=\"colab-df-container\">\n",
              "    <button class=\"colab-df-convert\" onclick=\"convertToInteractive('df-c7228344-d81e-434a-899a-9d849275b0aa')\"\n",
              "            title=\"Convert this dataframe to an interactive table.\"\n",
              "            style=\"display:none;\">\n",
              "\n",
              "  <svg xmlns=\"http://www.w3.org/2000/svg\" height=\"24px\" viewBox=\"0 -960 960 960\">\n",
              "    <path d=\"M120-120v-720h720v720H120Zm60-500h600v-160H180v160Zm220 220h160v-160H400v160Zm0 220h160v-160H400v160ZM180-400h160v-160H180v160Zm440 0h160v-160H620v160ZM180-180h160v-160H180v160Zm440 0h160v-160H620v160Z\"/>\n",
              "  </svg>\n",
              "    </button>\n",
              "\n",
              "  <style>\n",
              "    .colab-df-container {\n",
              "      display:flex;\n",
              "      gap: 12px;\n",
              "    }\n",
              "\n",
              "    .colab-df-convert {\n",
              "      background-color: #E8F0FE;\n",
              "      border: none;\n",
              "      border-radius: 50%;\n",
              "      cursor: pointer;\n",
              "      display: none;\n",
              "      fill: #1967D2;\n",
              "      height: 32px;\n",
              "      padding: 0 0 0 0;\n",
              "      width: 32px;\n",
              "    }\n",
              "\n",
              "    .colab-df-convert:hover {\n",
              "      background-color: #E2EBFA;\n",
              "      box-shadow: 0px 1px 2px rgba(60, 64, 67, 0.3), 0px 1px 3px 1px rgba(60, 64, 67, 0.15);\n",
              "      fill: #174EA6;\n",
              "    }\n",
              "\n",
              "    .colab-df-buttons div {\n",
              "      margin-bottom: 4px;\n",
              "    }\n",
              "\n",
              "    [theme=dark] .colab-df-convert {\n",
              "      background-color: #3B4455;\n",
              "      fill: #D2E3FC;\n",
              "    }\n",
              "\n",
              "    [theme=dark] .colab-df-convert:hover {\n",
              "      background-color: #434B5C;\n",
              "      box-shadow: 0px 1px 3px 1px rgba(0, 0, 0, 0.15);\n",
              "      filter: drop-shadow(0px 1px 2px rgba(0, 0, 0, 0.3));\n",
              "      fill: #FFFFFF;\n",
              "    }\n",
              "  </style>\n",
              "\n",
              "    <script>\n",
              "      const buttonEl =\n",
              "        document.querySelector('#df-c7228344-d81e-434a-899a-9d849275b0aa button.colab-df-convert');\n",
              "      buttonEl.style.display =\n",
              "        google.colab.kernel.accessAllowed ? 'block' : 'none';\n",
              "\n",
              "      async function convertToInteractive(key) {\n",
              "        const element = document.querySelector('#df-c7228344-d81e-434a-899a-9d849275b0aa');\n",
              "        const dataTable =\n",
              "          await google.colab.kernel.invokeFunction('convertToInteractive',\n",
              "                                                    [key], {});\n",
              "        if (!dataTable) return;\n",
              "\n",
              "        const docLinkHtml = 'Like what you see? Visit the ' +\n",
              "          '<a target=\"_blank\" href=https://colab.research.google.com/notebooks/data_table.ipynb>data table notebook</a>'\n",
              "          + ' to learn more about interactive tables.';\n",
              "        element.innerHTML = '';\n",
              "        dataTable['output_type'] = 'display_data';\n",
              "        await google.colab.output.renderOutput(dataTable, element);\n",
              "        const docLink = document.createElement('div');\n",
              "        docLink.innerHTML = docLinkHtml;\n",
              "        element.appendChild(docLink);\n",
              "      }\n",
              "    </script>\n",
              "  </div>\n",
              "\n",
              "\n",
              "<div id=\"df-baf1cc93-409d-4ec8-ad20-360cce32364f\">\n",
              "  <button class=\"colab-df-quickchart\" onclick=\"quickchart('df-baf1cc93-409d-4ec8-ad20-360cce32364f')\"\n",
              "            title=\"Suggest charts\"\n",
              "            style=\"display:none;\">\n",
              "\n",
              "<svg xmlns=\"http://www.w3.org/2000/svg\" height=\"24px\"viewBox=\"0 0 24 24\"\n",
              "     width=\"24px\">\n",
              "    <g>\n",
              "        <path d=\"M19 3H5c-1.1 0-2 .9-2 2v14c0 1.1.9 2 2 2h14c1.1 0 2-.9 2-2V5c0-1.1-.9-2-2-2zM9 17H7v-7h2v7zm4 0h-2V7h2v10zm4 0h-2v-4h2v4z\"/>\n",
              "    </g>\n",
              "</svg>\n",
              "  </button>\n",
              "\n",
              "<style>\n",
              "  .colab-df-quickchart {\n",
              "      --bg-color: #E8F0FE;\n",
              "      --fill-color: #1967D2;\n",
              "      --hover-bg-color: #E2EBFA;\n",
              "      --hover-fill-color: #174EA6;\n",
              "      --disabled-fill-color: #AAA;\n",
              "      --disabled-bg-color: #DDD;\n",
              "  }\n",
              "\n",
              "  [theme=dark] .colab-df-quickchart {\n",
              "      --bg-color: #3B4455;\n",
              "      --fill-color: #D2E3FC;\n",
              "      --hover-bg-color: #434B5C;\n",
              "      --hover-fill-color: #FFFFFF;\n",
              "      --disabled-bg-color: #3B4455;\n",
              "      --disabled-fill-color: #666;\n",
              "  }\n",
              "\n",
              "  .colab-df-quickchart {\n",
              "    background-color: var(--bg-color);\n",
              "    border: none;\n",
              "    border-radius: 50%;\n",
              "    cursor: pointer;\n",
              "    display: none;\n",
              "    fill: var(--fill-color);\n",
              "    height: 32px;\n",
              "    padding: 0;\n",
              "    width: 32px;\n",
              "  }\n",
              "\n",
              "  .colab-df-quickchart:hover {\n",
              "    background-color: var(--hover-bg-color);\n",
              "    box-shadow: 0 1px 2px rgba(60, 64, 67, 0.3), 0 1px 3px 1px rgba(60, 64, 67, 0.15);\n",
              "    fill: var(--button-hover-fill-color);\n",
              "  }\n",
              "\n",
              "  .colab-df-quickchart-complete:disabled,\n",
              "  .colab-df-quickchart-complete:disabled:hover {\n",
              "    background-color: var(--disabled-bg-color);\n",
              "    fill: var(--disabled-fill-color);\n",
              "    box-shadow: none;\n",
              "  }\n",
              "\n",
              "  .colab-df-spinner {\n",
              "    border: 2px solid var(--fill-color);\n",
              "    border-color: transparent;\n",
              "    border-bottom-color: var(--fill-color);\n",
              "    animation:\n",
              "      spin 1s steps(1) infinite;\n",
              "  }\n",
              "\n",
              "  @keyframes spin {\n",
              "    0% {\n",
              "      border-color: transparent;\n",
              "      border-bottom-color: var(--fill-color);\n",
              "      border-left-color: var(--fill-color);\n",
              "    }\n",
              "    20% {\n",
              "      border-color: transparent;\n",
              "      border-left-color: var(--fill-color);\n",
              "      border-top-color: var(--fill-color);\n",
              "    }\n",
              "    30% {\n",
              "      border-color: transparent;\n",
              "      border-left-color: var(--fill-color);\n",
              "      border-top-color: var(--fill-color);\n",
              "      border-right-color: var(--fill-color);\n",
              "    }\n",
              "    40% {\n",
              "      border-color: transparent;\n",
              "      border-right-color: var(--fill-color);\n",
              "      border-top-color: var(--fill-color);\n",
              "    }\n",
              "    60% {\n",
              "      border-color: transparent;\n",
              "      border-right-color: var(--fill-color);\n",
              "    }\n",
              "    80% {\n",
              "      border-color: transparent;\n",
              "      border-right-color: var(--fill-color);\n",
              "      border-bottom-color: var(--fill-color);\n",
              "    }\n",
              "    90% {\n",
              "      border-color: transparent;\n",
              "      border-bottom-color: var(--fill-color);\n",
              "    }\n",
              "  }\n",
              "</style>\n",
              "\n",
              "  <script>\n",
              "    async function quickchart(key) {\n",
              "      const quickchartButtonEl =\n",
              "        document.querySelector('#' + key + ' button');\n",
              "      quickchartButtonEl.disabled = true;  // To prevent multiple clicks.\n",
              "      quickchartButtonEl.classList.add('colab-df-spinner');\n",
              "      try {\n",
              "        const charts = await google.colab.kernel.invokeFunction(\n",
              "            'suggestCharts', [key], {});\n",
              "      } catch (error) {\n",
              "        console.error('Error during call to suggestCharts:', error);\n",
              "      }\n",
              "      quickchartButtonEl.classList.remove('colab-df-spinner');\n",
              "      quickchartButtonEl.classList.add('colab-df-quickchart-complete');\n",
              "    }\n",
              "    (() => {\n",
              "      let quickchartButtonEl =\n",
              "        document.querySelector('#df-baf1cc93-409d-4ec8-ad20-360cce32364f button');\n",
              "      quickchartButtonEl.style.display =\n",
              "        google.colab.kernel.accessAllowed ? 'block' : 'none';\n",
              "    })();\n",
              "  </script>\n",
              "</div>\n",
              "\n",
              "    </div>\n",
              "  </div>\n"
            ]
          },
          "metadata": {},
          "execution_count": 40
        }
      ]
    },
    {
      "cell_type": "code",
      "source": [
        "# prompt: my \"houses\" has a column called Town.  Town has 9 unique entries.  in the end I want to  make a plotly  multi line plot  where one line is called LEast and it shows the Year_Month  average of Town[\"Roosevelt','Hempstead' and 'Freeport'.  Then do the same for a Line  called Middle for towns=  Farmingdale, Mineola, and Westbury.  then lastly the same for the wons of Locust Valley, Port Washington, a\n",
        "\n",
        "# ### Town Groups\n",
        "# Define the groups\n",
        "least_towns = ['Roosevelt', 'Hempstead', 'Freeport']\n",
        "middle_towns = ['Farmingdale', 'Mineola', 'Westbury']\n",
        "most_towns = ['Locust Valley', 'Port Washington', 'Glen Cove']\n",
        "\n",
        "# Create a new column with the town groups\n",
        "data['Town_Group'] = np.select(\n",
        "    [data['Town'].isin(least_towns), data['Town'].isin(middle_towns), data['Town'].isin(most_towns)],\n",
        "    ['Least', 'Middle', 'Most'],\n",
        "    default='Other'\n",
        ")\n",
        "\n",
        "# Calculate the average sale price for each town group and month\n",
        "avg_sale_price = data.groupby(['Month_Year', 'Town_Group'])['Sold_Price'].mean().unstack()\n",
        "\n",
        "# ## Plot the average sale price for each town group\n",
        "fig = px.line(avg_sale_price, title='Average Sale Price by Town Group')\n",
        "fig.show()\n"
      ],
      "metadata": {
        "colab": {
          "base_uri": "https://localhost:8080/",
          "height": 542
        },
        "id": "sazD3LXnwuJ8",
        "outputId": "2b1c8588-205f-406b-cb60-acb4cd76ca77"
      },
      "execution_count": 41,
      "outputs": [
        {
          "output_type": "display_data",
          "data": {
            "text/html": [
              "<html>\n",
              "<head><meta charset=\"utf-8\" /></head>\n",
              "<body>\n",
              "    <div>            <script src=\"https://cdnjs.cloudflare.com/ajax/libs/mathjax/2.7.5/MathJax.js?config=TeX-AMS-MML_SVG\"></script><script type=\"text/javascript\">if (window.MathJax && window.MathJax.Hub && window.MathJax.Hub.Config) {window.MathJax.Hub.Config({SVG: {font: \"STIX-Web\"}});}</script>                <script type=\"text/javascript\">window.PlotlyConfig = {MathJaxConfig: 'local'};</script>\n",
              "        <script charset=\"utf-8\" src=\"https://cdn.plot.ly/plotly-2.24.1.min.js\"></script>                <div id=\"bf607926-199c-4622-a152-d637c7ee31d6\" class=\"plotly-graph-div\" style=\"height:525px; width:100%;\"></div>            <script type=\"text/javascript\">                                    window.PLOTLYENV=window.PLOTLYENV || {};                                    if (document.getElementById(\"bf607926-199c-4622-a152-d637c7ee31d6\")) {                    Plotly.newPlot(                        \"bf607926-199c-4622-a152-d637c7ee31d6\",                        [{\"hovertemplate\":\"Town_Group=Least\\u003cbr\\u003eMonth_Year=%{x}\\u003cbr\\u003evalue=%{y}\\u003cextra\\u003e\\u003c\\u002fextra\\u003e\",\"legendgroup\":\"Least\",\"line\":{\"color\":\"#636efa\",\"dash\":\"solid\"},\"marker\":{\"symbol\":\"circle\"},\"mode\":\"lines\",\"name\":\"Least\",\"orientation\":\"v\",\"showlegend\":true,\"x\":[\"2006-01\",\"2006-02\",\"2006-03\",\"2006-04\",\"2006-05\",\"2006-06\",\"2006-07\",\"2006-08\",\"2006-09\",\"2006-10\",\"2006-11\",\"2006-12\",\"2007-01\",\"2007-02\",\"2007-03\",\"2007-04\",\"2007-05\",\"2007-06\",\"2007-07\",\"2007-08\",\"2007-09\",\"2007-10\",\"2007-11\",\"2007-12\",\"2008-01\",\"2008-02\",\"2008-03\",\"2008-04\",\"2008-05\",\"2008-06\",\"2008-07\",\"2008-08\",\"2008-09\",\"2008-10\",\"2008-11\",\"2008-12\",\"2009-01\",\"2009-02\",\"2009-03\",\"2009-04\",\"2009-05\",\"2009-06\",\"2009-07\",\"2009-08\",\"2009-09\",\"2009-10\",\"2009-11\",\"2009-12\",\"2010-01\",\"2010-02\",\"2010-03\",\"2010-04\",\"2010-05\",\"2010-06\",\"2010-07\",\"2010-08\",\"2010-09\",\"2010-10\",\"2010-11\",\"2010-12\",\"2011-01\",\"2011-02\",\"2011-03\",\"2011-04\",\"2011-05\",\"2011-06\",\"2011-07\",\"2011-08\",\"2011-09\",\"2011-10\",\"2011-11\",\"2011-12\",\"2012-01\",\"2012-02\",\"2012-03\",\"2012-04\",\"2012-05\",\"2012-06\",\"2012-07\",\"2012-08\",\"2012-09\",\"2012-10\",\"2012-11\",\"2012-12\",\"2013-01\",\"2013-02\",\"2013-03\",\"2013-04\",\"2013-05\",\"2013-06\",\"2013-07\",\"2013-08\",\"2013-09\",\"2013-10\",\"2013-11\",\"2013-12\",\"2014-01\",\"2014-02\",\"2014-03\",\"2014-04\",\"2014-05\",\"2014-06\",\"2014-07\",\"2014-08\",\"2014-09\",\"2014-10\",\"2014-11\",\"2014-12\",\"2015-01\",\"2015-02\",\"2015-03\",\"2015-04\",\"2015-05\",\"2015-06\",\"2015-07\",\"2015-08\",\"2015-09\",\"2015-10\",\"2015-11\",\"2015-12\",\"2016-01\",\"2016-02\",\"2016-03\",\"2016-04\",\"2016-05\",\"2016-06\",\"2016-07\",\"2016-08\",\"2016-09\",\"2016-10\",\"2016-11\",\"2016-12\",\"2017-01\",\"2017-02\",\"2017-03\",\"2017-04\",\"2017-05\",\"2017-06\",\"2017-07\",\"2017-08\",\"2017-09\",\"2017-10\",\"2017-11\",\"2017-12\",\"2018-01\",\"2018-02\",\"2018-03\",\"2018-04\",\"2018-05\",\"2018-06\",\"2018-07\",\"2018-08\",\"2018-09\",\"2018-10\",\"2018-11\",\"2018-12\",\"2019-01\",\"2019-02\",\"2019-03\",\"2019-04\",\"2019-05\",\"2019-06\",\"2019-07\",\"2019-08\",\"2019-09\",\"2019-10\",\"2019-11\",\"2019-12\",\"2020-01\",\"2020-02\",\"2020-03\",\"2020-04\",\"2020-05\",\"2020-06\",\"2020-07\",\"2020-08\",\"2020-09\",\"2020-10\",\"2020-11\",\"2020-12\",\"2021-01\",\"2021-02\",\"2021-03\",\"2021-04\",\"2021-05\",\"2021-06\",\"2021-07\",\"2021-08\",\"2021-09\",\"2021-10\",\"2021-11\",\"2021-12\",\"2022-01\",\"2022-02\",\"2022-03\",\"2022-04\",\"2022-05\",\"2022-06\",\"2022-07\",\"2022-08\",\"2022-09\",\"2022-10\",\"2022-11\",\"2022-12\",\"2023-01\",\"2023-02\",\"2023-03\",\"2023-04\",\"2023-05\",\"2023-06\",\"2023-07\",\"2023-08\",\"2023-09\",\"2023-10\",\"2023-11\",\"2023-12\"],\"xaxis\":\"x\",\"y\":[393300.0,380425.0,413200.9756097561,386685.9166666667,406335.6666666667,426702.6176470588,425347.1538461539,407149.86486486485,439308.0,419492.06666666665,393767.5714285714,386898.93617021275,400590.0,385018.75,407014.28571428574,390874.0,400009.25925925927,380489.48780487804,382573.1707317073,368355.9090909091,413030.0,368536.0,377764.70588235295,298695.8333333333,329017.85714285716,347975.0,358066.0,336860.6060606061,303008.0,326990.0,324991.93548387097,293372.22222222225,284386.36363636365,319107.14285714284,294703.8461538461,236675.0,247396.55172413794,214235.75,244745.8125,230740.625,228005.6326530612,238631.79487179487,256514.27906976745,231792.5918367347,244288.3,209666.75862068965,239113.41463414635,212053.92857142858,209928.84615384616,248265.10204081633,256475.48076923078,256963.0,230392.16216216216,230271.7,235620.8108108108,200247.87878787878,207971.875,242200.35135135136,267734.06451612903,245130.4347826087,205237.03703703705,204391.66666666666,234376.9,230568.57142857142,208735.3260869565,245884.82222222222,226542.63157894736,237809.41025641025,220308.92857142858,224724.0,223683.38235294117,235262.31578947368,224213.33333333334,219730.8,223659.37837837837,217558.93617021278,215663.3111111111,209417.6923076923,246876.31578947368,249646.2857142857,195732.24137931035,225192.5,236029.54545454544,202147.9655172414,251843.33333333334,205746.22222222222,224543.9090909091,248887.15384615384,244172.39583333334,231697.72727272726,234818.58139534883,227112.19512195123,238536.36363636365,229705.39024390245,252079.41176470587,243796.2962962963,211010.3103448276,290855.652173913,259825.65714285715,241261.90476190476,243137.85714285713,237028.125,242333.33333333334,216062.5,227437.5,313785.71428571426,214000.0,264691.17647058825,200926.45454545456,233916.66666666666,217850.0,214967.5,221190.0,260724.5,254485.7142857143,238600.0,257206.25,288161.4285714286,229890.0,202083.22222222222,214800.0,264249.5,298068.3333333333,316826.36363636365,279244.6595744681,303477.2,300115.625,300899.9672131148,321045.652173913,299673.2244897959,296821.18604651163,281600.0,292876.35294117645,295268.0508474576,298804.8153846154,305572.4761904762,331040.75581395347,319288.1403508772,331825.58666666667,310890.515625,342529.5733333333,368648.13580246916,366073.71428571426,313383.0188679245,343740.0,353436.2037037037,360258.3333333333,363739.6615384615,366184.90277777775,372839.425,390023.98529411765,369589.5853658537,368839.13513513515,353789.07042253524,352594.51666666666,375738.2978723404,355298.89830508473,391387.5625,391651.64705882355,362779.8289473684,379699.38823529414,380916.65079365077,403512.6388888889,407544.44444444444,391051.92307692306,378363.39130434784,378233.87096774194,417310.25531914894,375773.6530612245,393308.66071428574,389991.19444444444,426220.92307692306,409501.2,425874.4680851064,425388.8904109589,427426.7,420268.5714285714,427789.3617021277,449793.1034482759,428639.6551724138,450035.89743589744,459724.48979591834,490560.2037037037,523928.39285714284,492093.0862068966,502141.6231884058,502750.4736842105,539569.7540983607,510198.15789473685,532775.2549019608,541879.6296296297,554347.1698113207,522902.3947368421,549862.9629629629,559743.0555555555,556126.649122807,559161.274509804,543581.4814814815,548468.6274509804,550257.7142857143,559775.5897435897,530730.8888888889,557728.2608695652,559322.1944444445,540007.1666666666,507893.9761904762,544420.0,574463.1086956522,580308.3333333334,615707.9268292683,557527.7586206896,506964.28571428574,470733.3333333333,635000.0,null,null],\"yaxis\":\"y\",\"type\":\"scatter\"},{\"hovertemplate\":\"Town_Group=Middle\\u003cbr\\u003eMonth_Year=%{x}\\u003cbr\\u003evalue=%{y}\\u003cextra\\u003e\\u003c\\u002fextra\\u003e\",\"legendgroup\":\"Middle\",\"line\":{\"color\":\"#EF553B\",\"dash\":\"solid\"},\"marker\":{\"symbol\":\"circle\"},\"mode\":\"lines\",\"name\":\"Middle\",\"orientation\":\"v\",\"showlegend\":true,\"x\":[\"2006-01\",\"2006-02\",\"2006-03\",\"2006-04\",\"2006-05\",\"2006-06\",\"2006-07\",\"2006-08\",\"2006-09\",\"2006-10\",\"2006-11\",\"2006-12\",\"2007-01\",\"2007-02\",\"2007-03\",\"2007-04\",\"2007-05\",\"2007-06\",\"2007-07\",\"2007-08\",\"2007-09\",\"2007-10\",\"2007-11\",\"2007-12\",\"2008-01\",\"2008-02\",\"2008-03\",\"2008-04\",\"2008-05\",\"2008-06\",\"2008-07\",\"2008-08\",\"2008-09\",\"2008-10\",\"2008-11\",\"2008-12\",\"2009-01\",\"2009-02\",\"2009-03\",\"2009-04\",\"2009-05\",\"2009-06\",\"2009-07\",\"2009-08\",\"2009-09\",\"2009-10\",\"2009-11\",\"2009-12\",\"2010-01\",\"2010-02\",\"2010-03\",\"2010-04\",\"2010-05\",\"2010-06\",\"2010-07\",\"2010-08\",\"2010-09\",\"2010-10\",\"2010-11\",\"2010-12\",\"2011-01\",\"2011-02\",\"2011-03\",\"2011-04\",\"2011-05\",\"2011-06\",\"2011-07\",\"2011-08\",\"2011-09\",\"2011-10\",\"2011-11\",\"2011-12\",\"2012-01\",\"2012-02\",\"2012-03\",\"2012-04\",\"2012-05\",\"2012-06\",\"2012-07\",\"2012-08\",\"2012-09\",\"2012-10\",\"2012-11\",\"2012-12\",\"2013-01\",\"2013-02\",\"2013-03\",\"2013-04\",\"2013-05\",\"2013-06\",\"2013-07\",\"2013-08\",\"2013-09\",\"2013-10\",\"2013-11\",\"2013-12\",\"2014-01\",\"2014-02\",\"2014-03\",\"2014-04\",\"2014-05\",\"2014-06\",\"2014-07\",\"2014-08\",\"2014-09\",\"2014-10\",\"2014-11\",\"2014-12\",\"2015-01\",\"2015-02\",\"2015-03\",\"2015-04\",\"2015-05\",\"2015-06\",\"2015-07\",\"2015-08\",\"2015-09\",\"2015-10\",\"2015-11\",\"2015-12\",\"2016-01\",\"2016-02\",\"2016-03\",\"2016-04\",\"2016-05\",\"2016-06\",\"2016-07\",\"2016-08\",\"2016-09\",\"2016-10\",\"2016-11\",\"2016-12\",\"2017-01\",\"2017-02\",\"2017-03\",\"2017-04\",\"2017-05\",\"2017-06\",\"2017-07\",\"2017-08\",\"2017-09\",\"2017-10\",\"2017-11\",\"2017-12\",\"2018-01\",\"2018-02\",\"2018-03\",\"2018-04\",\"2018-05\",\"2018-06\",\"2018-07\",\"2018-08\",\"2018-09\",\"2018-10\",\"2018-11\",\"2018-12\",\"2019-01\",\"2019-02\",\"2019-03\",\"2019-04\",\"2019-05\",\"2019-06\",\"2019-07\",\"2019-08\",\"2019-09\",\"2019-10\",\"2019-11\",\"2019-12\",\"2020-01\",\"2020-02\",\"2020-03\",\"2020-04\",\"2020-05\",\"2020-06\",\"2020-07\",\"2020-08\",\"2020-09\",\"2020-10\",\"2020-11\",\"2020-12\",\"2021-01\",\"2021-02\",\"2021-03\",\"2021-04\",\"2021-05\",\"2021-06\",\"2021-07\",\"2021-08\",\"2021-09\",\"2021-10\",\"2021-11\",\"2021-12\",\"2022-01\",\"2022-02\",\"2022-03\",\"2022-04\",\"2022-05\",\"2022-06\",\"2022-07\",\"2022-08\",\"2022-09\",\"2022-10\",\"2022-11\",\"2022-12\",\"2023-01\",\"2023-02\",\"2023-03\",\"2023-04\",\"2023-05\",\"2023-06\",\"2023-07\",\"2023-08\",\"2023-09\",\"2023-10\",\"2023-11\",\"2023-12\"],\"xaxis\":\"x\",\"y\":[461208.3333333333,482583.3333333333,476014.3333333333,460095.39130434784,506081.5576923077,485440.6779661017,464783.86363636365,486658.3333333333,479489.0566037736,468269.1489361702,453478.9583333333,476491.3461538461,464476.5,449858.0,488673.68518518517,462465.9090909091,471782.4074074074,465012.7419354839,463295.862745098,442268.43137254904,442589.28571428574,425500.0,420228.6842105263,418264.28571428574,431812.5,425133.0,427981.3333333333,434499.76744186046,413873.57575757575,403810.8108108108,391202.9411764706,386132.22641509434,409175.6756756757,400826.75,399625.0,392213.63636363635,388807.6923076923,383220.5882352941,375424.975,371585.71428571426,366939.43396226416,366541.1111111111,367100.0,389556.52173913043,367875.0227272727,339700.0,343234.0909090909,359994.64285714284,379821.53846153844,362651.3157894737,364620.39215686277,385670.78651685396,399034.6153846154,342530.48780487804,376317.8048780488,394604.6153846154,386432.4324324324,347534.48979591834,357638.8888888889,339250.0,418315.4210526316,359397.61904761905,382252.4666666667,340416.8,357486.3157894737,382918.13636363635,336250.0,374296.875,348147.0588235294,368710.0,357157.61904761905,382595.0,351131.5789473684,402096.0,334237.1142857143,354448.14814814815,375622.5806451613,381958.3333333333,381066.2162162162,360818.2083333333,367096.84,385700.0,384294.1176470588,390153.8461538461,399026.3157894737,383072.97297297296,373987.77777777775,380024.39024390245,384534.67741935485,413095.55555555556,387423.3541666667,399744.23076923075,396336.51923076925,398982.9268292683,375430.22222222225,362454.28571428574,393628.11627906974,379237.5,405871.7346938776,407301.4285714286,410991.6666666667,432425.641025641,424422.8846153846,403865.0909090909,418307.0833333333,411406.6666666667,395421.05263157893,391018.0,398915.625,392033.3703703704,378465.9574468085,419917.9104477612,418084.6612903226,443311.44444444444,402044.1176470588,444343.612244898,422358.5,420706.5573770492,449250.0,415355.2244897959,408656.3846153846,394348.83720930235,415691.63265306124,419684.375,415917.7419354839,447688.0909090909,454984.21875,443318.75,466301.875,450507.75,457513.60655737703,457225.6756756757,442565.7894736842,445731.6666666667,476544.5,475235.64814814815,475696.9857142857,478470.64864864864,467409.9791666667,518051.16071428574,488583.67346938775,495513.4259259259,469726.1666666667,526197.4418604651,500835.89743589744,463920.3703703704,487175.82,477690.765625,504357.5862068966,525051.3076923077,478978.67741935485,497694.47222222225,483997.13636363635,501951.6129032258,505576.9591836735,489284.0681818182,479064.8409090909,480708.6666666667,504907.3188405797,472002.3943661972,505687.71698113205,509123.4915254237,513075.0,511375.0,496767.02857142856,495369.0,490582.8125,499943.75,525441.1764705882,533056.1666666666,513932.25,553735.2941176471,527294.1176470588,514030.9375,585591.3802816902,589384.3541666666,563249.1780821917,577142.6567164179,621853.90625,565530.75,605681.619047619,610257.4576271187,591241.6666666666,664388.09375,640150.0,637095.2903225806,627139.3,646465.2777777778,639106.1355932204,625196.0,673454.7058823529,696001.875,648438.7551020408,672951.8695652174,695244.0655737704,678968.75,710766.1290322581,697560.1538461539,660789.3333333334,656696.1475409836,650267.3278688524,671534.0681818182,664817.76,622590.6976744186,622323.0512820513,700039.775510204,708362.9032258064,684866.3636363636,696845.283018868,714725.8714285714,680181.25,744256.6888888889,640185.0,663600.0,692777.6666666666,660000.0],\"yaxis\":\"y\",\"type\":\"scatter\"},{\"hovertemplate\":\"Town_Group=Most\\u003cbr\\u003eMonth_Year=%{x}\\u003cbr\\u003evalue=%{y}\\u003cextra\\u003e\\u003c\\u002fextra\\u003e\",\"legendgroup\":\"Most\",\"line\":{\"color\":\"#00cc96\",\"dash\":\"solid\"},\"marker\":{\"symbol\":\"circle\"},\"mode\":\"lines\",\"name\":\"Most\",\"orientation\":\"v\",\"showlegend\":true,\"x\":[\"2006-01\",\"2006-02\",\"2006-03\",\"2006-04\",\"2006-05\",\"2006-06\",\"2006-07\",\"2006-08\",\"2006-09\",\"2006-10\",\"2006-11\",\"2006-12\",\"2007-01\",\"2007-02\",\"2007-03\",\"2007-04\",\"2007-05\",\"2007-06\",\"2007-07\",\"2007-08\",\"2007-09\",\"2007-10\",\"2007-11\",\"2007-12\",\"2008-01\",\"2008-02\",\"2008-03\",\"2008-04\",\"2008-05\",\"2008-06\",\"2008-07\",\"2008-08\",\"2008-09\",\"2008-10\",\"2008-11\",\"2008-12\",\"2009-01\",\"2009-02\",\"2009-03\",\"2009-04\",\"2009-05\",\"2009-06\",\"2009-07\",\"2009-08\",\"2009-09\",\"2009-10\",\"2009-11\",\"2009-12\",\"2010-01\",\"2010-02\",\"2010-03\",\"2010-04\",\"2010-05\",\"2010-06\",\"2010-07\",\"2010-08\",\"2010-09\",\"2010-10\",\"2010-11\",\"2010-12\",\"2011-01\",\"2011-02\",\"2011-03\",\"2011-04\",\"2011-05\",\"2011-06\",\"2011-07\",\"2011-08\",\"2011-09\",\"2011-10\",\"2011-11\",\"2011-12\",\"2012-01\",\"2012-02\",\"2012-03\",\"2012-04\",\"2012-05\",\"2012-06\",\"2012-07\",\"2012-08\",\"2012-09\",\"2012-10\",\"2012-11\",\"2012-12\",\"2013-01\",\"2013-02\",\"2013-03\",\"2013-04\",\"2013-05\",\"2013-06\",\"2013-07\",\"2013-08\",\"2013-09\",\"2013-10\",\"2013-11\",\"2013-12\",\"2014-01\",\"2014-02\",\"2014-03\",\"2014-04\",\"2014-05\",\"2014-06\",\"2014-07\",\"2014-08\",\"2014-09\",\"2014-10\",\"2014-11\",\"2014-12\",\"2015-01\",\"2015-02\",\"2015-03\",\"2015-04\",\"2015-05\",\"2015-06\",\"2015-07\",\"2015-08\",\"2015-09\",\"2015-10\",\"2015-11\",\"2015-12\",\"2016-01\",\"2016-02\",\"2016-03\",\"2016-04\",\"2016-05\",\"2016-06\",\"2016-07\",\"2016-08\",\"2016-09\",\"2016-10\",\"2016-11\",\"2016-12\",\"2017-01\",\"2017-02\",\"2017-03\",\"2017-04\",\"2017-05\",\"2017-06\",\"2017-07\",\"2017-08\",\"2017-09\",\"2017-10\",\"2017-11\",\"2017-12\",\"2018-01\",\"2018-02\",\"2018-03\",\"2018-04\",\"2018-05\",\"2018-06\",\"2018-07\",\"2018-08\",\"2018-09\",\"2018-10\",\"2018-11\",\"2018-12\",\"2019-01\",\"2019-02\",\"2019-03\",\"2019-04\",\"2019-05\",\"2019-06\",\"2019-07\",\"2019-08\",\"2019-09\",\"2019-10\",\"2019-11\",\"2019-12\",\"2020-01\",\"2020-02\",\"2020-03\",\"2020-04\",\"2020-05\",\"2020-06\",\"2020-07\",\"2020-08\",\"2020-09\",\"2020-10\",\"2020-11\",\"2020-12\",\"2021-01\",\"2021-02\",\"2021-03\",\"2021-04\",\"2021-05\",\"2021-06\",\"2021-07\",\"2021-08\",\"2021-09\",\"2021-10\",\"2021-11\",\"2021-12\",\"2022-01\",\"2022-02\",\"2022-03\",\"2022-04\",\"2022-05\",\"2022-06\",\"2022-07\",\"2022-08\",\"2022-09\",\"2022-10\",\"2022-11\",\"2022-12\",\"2023-01\",\"2023-02\",\"2023-03\",\"2023-04\",\"2023-05\",\"2023-06\",\"2023-07\",\"2023-08\",\"2023-09\",\"2023-10\",\"2023-11\",\"2023-12\"],\"xaxis\":\"x\",\"y\":[760000.0,818700.0,732583.3333333334,750392.8571428572,911925.0,817500.0,826421.052631579,675343.75,910946.8421052631,738964.2857142857,1018466.6666666666,776857.1428571428,767977.2727272727,743020.0,794102.03125,795384.6153846154,875776.6666666666,761310.3448275862,810159.0909090909,814960.0,680500.0,880722.2222222222,873613.6363636364,911277.7777777778,766395.8333333334,735000.0,760225.0,683557.1428571428,774321.4285714285,668320.0,720950.0,840855.2631578947,672818.1818181818,713944.4444444445,717500.0,602500.0,751214.2142857143,669507.6923076923,762045.4545454546,747343.75,679860.0,771609.375,656718.75,693568.4210526316,677980.0,619203.7037037037,626293.3333333334,659315.7894736842,917344.4444444445,840619.0476190476,613500.0,882451.5806451613,672680.5555555555,627482.7586206896,838514.7368421053,712157.8947368421,731458.3333333334,641525.0,703585.2380952381,647208.3333333334,722285.7142857143,885227.2727272727,805725.0,792562.5,813210.3448275862,642236.8421052631,713347.8260869565,643147.0588235294,708928.5,722900.0,659375.0,691947.3684210526,649772.7272727273,832178.5714285715,678321.4285714285,728480.0,730585.9375,701973.9130434783,672172.2222222222,735942.3076923077,676055.5555555555,700695.4545454546,838184.1578947369,834307.6923076923,689766.6666666666,730633.3333333334,742571.4285714285,691573.5,720381.4285714285,716987.0714285715,700375.0,857938.4230769231,876461.5384615385,793190.4285714285,715995.6521739131,673636.8421052631,787552.6315789474,825576.9230769231,776000.0,821769.1923076923,836446.7741935484,799642.5945945946,845706.8965517242,720760.6538461539,934325.0,840444.4444444445,771416.6666666666,746358.3333333334,653029.4117647059,723550.0,857207.4074074074,715320.0,886495.3488372093,914240.0,723941.1764705882,965403.8461538461,943828.5714285715,805333.3333333334,733550.4782608695,745818.1818181818,799625.0,915417.75,861948.1034482758,899074.074074074,970162.5945945946,861071.5681818182,830523.9705882353,748434.7826086957,748148.1481481482,832199.5555555555,836211.5384615385,842097.3157894737,873281.8181818182,895152.1739130435,879722.2222222222,936833.2962962963,885730.487804878,918854.2093023256,1113556.0,742619.9047619047,900250.0,817850.6333333333,760500.0,693928.5714285715,903837.5384615385,917344.4444444445,938297.619047619,928396.0,919297.8723404255,1021936.8214285715,886208.3333333334,870232.1071428572,926846.1538461539,987892.9411764706,979177.2727272727,885431.5789473684,806416.6666666666,932916.6666666666,1184222.2222222222,995186.0645161291,935092.1875,931523.2558139535,789608.695652174,884019.1538461539,898262.0689655172,797350.5,851117.6470588235,1121375.0,981311.9230769231,1113590.9090909092,981000.0,903071.4285714285,898333.3333333334,1028303.5714285715,1087227.7777777778,1109942.8285714285,948023.7619047619,1130585.3658536586,1004108.0370370371,1223852.2727272727,917728.9090909091,959814.8148148148,1055592.5925925926,1094666.657142857,1122696.0784313725,1355724.1379310344,1085342.8,818555.5555555555,1154071.4285714286,1134479.96,938071.4285714285,945696.4285714285,884521.5384615385,1177329.8076923077,1107662.0,1438437.0333333334,1201657.1142857142,1342551.0416666667,1168958.8148148148,1359842.105263158,1160687.5,1183611.111111111,1290025.0,942285.7142857143,948125.0,1017269.5652173914,1174571.2916666667,1249142.642857143,1403851.3243243243,1223383.3333333333,1215600.0,710500.0,1190600.0,1515000.0,898000.0,720000.0],\"yaxis\":\"y\",\"type\":\"scatter\"}],                        {\"template\":{\"data\":{\"histogram2dcontour\":[{\"type\":\"histogram2dcontour\",\"colorbar\":{\"outlinewidth\":0,\"ticks\":\"\"},\"colorscale\":[[0.0,\"#0d0887\"],[0.1111111111111111,\"#46039f\"],[0.2222222222222222,\"#7201a8\"],[0.3333333333333333,\"#9c179e\"],[0.4444444444444444,\"#bd3786\"],[0.5555555555555556,\"#d8576b\"],[0.6666666666666666,\"#ed7953\"],[0.7777777777777778,\"#fb9f3a\"],[0.8888888888888888,\"#fdca26\"],[1.0,\"#f0f921\"]]}],\"choropleth\":[{\"type\":\"choropleth\",\"colorbar\":{\"outlinewidth\":0,\"ticks\":\"\"}}],\"histogram2d\":[{\"type\":\"histogram2d\",\"colorbar\":{\"outlinewidth\":0,\"ticks\":\"\"},\"colorscale\":[[0.0,\"#0d0887\"],[0.1111111111111111,\"#46039f\"],[0.2222222222222222,\"#7201a8\"],[0.3333333333333333,\"#9c179e\"],[0.4444444444444444,\"#bd3786\"],[0.5555555555555556,\"#d8576b\"],[0.6666666666666666,\"#ed7953\"],[0.7777777777777778,\"#fb9f3a\"],[0.8888888888888888,\"#fdca26\"],[1.0,\"#f0f921\"]]}],\"heatmap\":[{\"type\":\"heatmap\",\"colorbar\":{\"outlinewidth\":0,\"ticks\":\"\"},\"colorscale\":[[0.0,\"#0d0887\"],[0.1111111111111111,\"#46039f\"],[0.2222222222222222,\"#7201a8\"],[0.3333333333333333,\"#9c179e\"],[0.4444444444444444,\"#bd3786\"],[0.5555555555555556,\"#d8576b\"],[0.6666666666666666,\"#ed7953\"],[0.7777777777777778,\"#fb9f3a\"],[0.8888888888888888,\"#fdca26\"],[1.0,\"#f0f921\"]]}],\"heatmapgl\":[{\"type\":\"heatmapgl\",\"colorbar\":{\"outlinewidth\":0,\"ticks\":\"\"},\"colorscale\":[[0.0,\"#0d0887\"],[0.1111111111111111,\"#46039f\"],[0.2222222222222222,\"#7201a8\"],[0.3333333333333333,\"#9c179e\"],[0.4444444444444444,\"#bd3786\"],[0.5555555555555556,\"#d8576b\"],[0.6666666666666666,\"#ed7953\"],[0.7777777777777778,\"#fb9f3a\"],[0.8888888888888888,\"#fdca26\"],[1.0,\"#f0f921\"]]}],\"contourcarpet\":[{\"type\":\"contourcarpet\",\"colorbar\":{\"outlinewidth\":0,\"ticks\":\"\"}}],\"contour\":[{\"type\":\"contour\",\"colorbar\":{\"outlinewidth\":0,\"ticks\":\"\"},\"colorscale\":[[0.0,\"#0d0887\"],[0.1111111111111111,\"#46039f\"],[0.2222222222222222,\"#7201a8\"],[0.3333333333333333,\"#9c179e\"],[0.4444444444444444,\"#bd3786\"],[0.5555555555555556,\"#d8576b\"],[0.6666666666666666,\"#ed7953\"],[0.7777777777777778,\"#fb9f3a\"],[0.8888888888888888,\"#fdca26\"],[1.0,\"#f0f921\"]]}],\"surface\":[{\"type\":\"surface\",\"colorbar\":{\"outlinewidth\":0,\"ticks\":\"\"},\"colorscale\":[[0.0,\"#0d0887\"],[0.1111111111111111,\"#46039f\"],[0.2222222222222222,\"#7201a8\"],[0.3333333333333333,\"#9c179e\"],[0.4444444444444444,\"#bd3786\"],[0.5555555555555556,\"#d8576b\"],[0.6666666666666666,\"#ed7953\"],[0.7777777777777778,\"#fb9f3a\"],[0.8888888888888888,\"#fdca26\"],[1.0,\"#f0f921\"]]}],\"mesh3d\":[{\"type\":\"mesh3d\",\"colorbar\":{\"outlinewidth\":0,\"ticks\":\"\"}}],\"scatter\":[{\"fillpattern\":{\"fillmode\":\"overlay\",\"size\":10,\"solidity\":0.2},\"type\":\"scatter\"}],\"parcoords\":[{\"type\":\"parcoords\",\"line\":{\"colorbar\":{\"outlinewidth\":0,\"ticks\":\"\"}}}],\"scatterpolargl\":[{\"type\":\"scatterpolargl\",\"marker\":{\"colorbar\":{\"outlinewidth\":0,\"ticks\":\"\"}}}],\"bar\":[{\"error_x\":{\"color\":\"#2a3f5f\"},\"error_y\":{\"color\":\"#2a3f5f\"},\"marker\":{\"line\":{\"color\":\"#E5ECF6\",\"width\":0.5},\"pattern\":{\"fillmode\":\"overlay\",\"size\":10,\"solidity\":0.2}},\"type\":\"bar\"}],\"scattergeo\":[{\"type\":\"scattergeo\",\"marker\":{\"colorbar\":{\"outlinewidth\":0,\"ticks\":\"\"}}}],\"scatterpolar\":[{\"type\":\"scatterpolar\",\"marker\":{\"colorbar\":{\"outlinewidth\":0,\"ticks\":\"\"}}}],\"histogram\":[{\"marker\":{\"pattern\":{\"fillmode\":\"overlay\",\"size\":10,\"solidity\":0.2}},\"type\":\"histogram\"}],\"scattergl\":[{\"type\":\"scattergl\",\"marker\":{\"colorbar\":{\"outlinewidth\":0,\"ticks\":\"\"}}}],\"scatter3d\":[{\"type\":\"scatter3d\",\"line\":{\"colorbar\":{\"outlinewidth\":0,\"ticks\":\"\"}},\"marker\":{\"colorbar\":{\"outlinewidth\":0,\"ticks\":\"\"}}}],\"scattermapbox\":[{\"type\":\"scattermapbox\",\"marker\":{\"colorbar\":{\"outlinewidth\":0,\"ticks\":\"\"}}}],\"scatterternary\":[{\"type\":\"scatterternary\",\"marker\":{\"colorbar\":{\"outlinewidth\":0,\"ticks\":\"\"}}}],\"scattercarpet\":[{\"type\":\"scattercarpet\",\"marker\":{\"colorbar\":{\"outlinewidth\":0,\"ticks\":\"\"}}}],\"carpet\":[{\"aaxis\":{\"endlinecolor\":\"#2a3f5f\",\"gridcolor\":\"white\",\"linecolor\":\"white\",\"minorgridcolor\":\"white\",\"startlinecolor\":\"#2a3f5f\"},\"baxis\":{\"endlinecolor\":\"#2a3f5f\",\"gridcolor\":\"white\",\"linecolor\":\"white\",\"minorgridcolor\":\"white\",\"startlinecolor\":\"#2a3f5f\"},\"type\":\"carpet\"}],\"table\":[{\"cells\":{\"fill\":{\"color\":\"#EBF0F8\"},\"line\":{\"color\":\"white\"}},\"header\":{\"fill\":{\"color\":\"#C8D4E3\"},\"line\":{\"color\":\"white\"}},\"type\":\"table\"}],\"barpolar\":[{\"marker\":{\"line\":{\"color\":\"#E5ECF6\",\"width\":0.5},\"pattern\":{\"fillmode\":\"overlay\",\"size\":10,\"solidity\":0.2}},\"type\":\"barpolar\"}],\"pie\":[{\"automargin\":true,\"type\":\"pie\"}]},\"layout\":{\"autotypenumbers\":\"strict\",\"colorway\":[\"#636efa\",\"#EF553B\",\"#00cc96\",\"#ab63fa\",\"#FFA15A\",\"#19d3f3\",\"#FF6692\",\"#B6E880\",\"#FF97FF\",\"#FECB52\"],\"font\":{\"color\":\"#2a3f5f\"},\"hovermode\":\"closest\",\"hoverlabel\":{\"align\":\"left\"},\"paper_bgcolor\":\"white\",\"plot_bgcolor\":\"#E5ECF6\",\"polar\":{\"bgcolor\":\"#E5ECF6\",\"angularaxis\":{\"gridcolor\":\"white\",\"linecolor\":\"white\",\"ticks\":\"\"},\"radialaxis\":{\"gridcolor\":\"white\",\"linecolor\":\"white\",\"ticks\":\"\"}},\"ternary\":{\"bgcolor\":\"#E5ECF6\",\"aaxis\":{\"gridcolor\":\"white\",\"linecolor\":\"white\",\"ticks\":\"\"},\"baxis\":{\"gridcolor\":\"white\",\"linecolor\":\"white\",\"ticks\":\"\"},\"caxis\":{\"gridcolor\":\"white\",\"linecolor\":\"white\",\"ticks\":\"\"}},\"coloraxis\":{\"colorbar\":{\"outlinewidth\":0,\"ticks\":\"\"}},\"colorscale\":{\"sequential\":[[0.0,\"#0d0887\"],[0.1111111111111111,\"#46039f\"],[0.2222222222222222,\"#7201a8\"],[0.3333333333333333,\"#9c179e\"],[0.4444444444444444,\"#bd3786\"],[0.5555555555555556,\"#d8576b\"],[0.6666666666666666,\"#ed7953\"],[0.7777777777777778,\"#fb9f3a\"],[0.8888888888888888,\"#fdca26\"],[1.0,\"#f0f921\"]],\"sequentialminus\":[[0.0,\"#0d0887\"],[0.1111111111111111,\"#46039f\"],[0.2222222222222222,\"#7201a8\"],[0.3333333333333333,\"#9c179e\"],[0.4444444444444444,\"#bd3786\"],[0.5555555555555556,\"#d8576b\"],[0.6666666666666666,\"#ed7953\"],[0.7777777777777778,\"#fb9f3a\"],[0.8888888888888888,\"#fdca26\"],[1.0,\"#f0f921\"]],\"diverging\":[[0,\"#8e0152\"],[0.1,\"#c51b7d\"],[0.2,\"#de77ae\"],[0.3,\"#f1b6da\"],[0.4,\"#fde0ef\"],[0.5,\"#f7f7f7\"],[0.6,\"#e6f5d0\"],[0.7,\"#b8e186\"],[0.8,\"#7fbc41\"],[0.9,\"#4d9221\"],[1,\"#276419\"]]},\"xaxis\":{\"gridcolor\":\"white\",\"linecolor\":\"white\",\"ticks\":\"\",\"title\":{\"standoff\":15},\"zerolinecolor\":\"white\",\"automargin\":true,\"zerolinewidth\":2},\"yaxis\":{\"gridcolor\":\"white\",\"linecolor\":\"white\",\"ticks\":\"\",\"title\":{\"standoff\":15},\"zerolinecolor\":\"white\",\"automargin\":true,\"zerolinewidth\":2},\"scene\":{\"xaxis\":{\"backgroundcolor\":\"#E5ECF6\",\"gridcolor\":\"white\",\"linecolor\":\"white\",\"showbackground\":true,\"ticks\":\"\",\"zerolinecolor\":\"white\",\"gridwidth\":2},\"yaxis\":{\"backgroundcolor\":\"#E5ECF6\",\"gridcolor\":\"white\",\"linecolor\":\"white\",\"showbackground\":true,\"ticks\":\"\",\"zerolinecolor\":\"white\",\"gridwidth\":2},\"zaxis\":{\"backgroundcolor\":\"#E5ECF6\",\"gridcolor\":\"white\",\"linecolor\":\"white\",\"showbackground\":true,\"ticks\":\"\",\"zerolinecolor\":\"white\",\"gridwidth\":2}},\"shapedefaults\":{\"line\":{\"color\":\"#2a3f5f\"}},\"annotationdefaults\":{\"arrowcolor\":\"#2a3f5f\",\"arrowhead\":0,\"arrowwidth\":1},\"geo\":{\"bgcolor\":\"white\",\"landcolor\":\"#E5ECF6\",\"subunitcolor\":\"white\",\"showland\":true,\"showlakes\":true,\"lakecolor\":\"white\"},\"title\":{\"x\":0.05},\"mapbox\":{\"style\":\"light\"}}},\"xaxis\":{\"anchor\":\"y\",\"domain\":[0.0,1.0],\"title\":{\"text\":\"Month_Year\"}},\"yaxis\":{\"anchor\":\"x\",\"domain\":[0.0,1.0],\"title\":{\"text\":\"value\"}},\"legend\":{\"title\":{\"text\":\"Town_Group\"},\"tracegroupgap\":0},\"title\":{\"text\":\"Average Sale Price by Town Group\"}},                        {\"responsive\": true}                    ).then(function(){\n",
              "                            \n",
              "var gd = document.getElementById('bf607926-199c-4622-a152-d637c7ee31d6');\n",
              "var x = new MutationObserver(function (mutations, observer) {{\n",
              "        var display = window.getComputedStyle(gd).display;\n",
              "        if (!display || display === 'none') {{\n",
              "            console.log([gd, 'removed!']);\n",
              "            Plotly.purge(gd);\n",
              "            observer.disconnect();\n",
              "        }}\n",
              "}});\n",
              "\n",
              "// Listen for the removal of the full notebook cells\n",
              "var notebookContainer = gd.closest('#notebook-container');\n",
              "if (notebookContainer) {{\n",
              "    x.observe(notebookContainer, {childList: true});\n",
              "}}\n",
              "\n",
              "// Listen for the clearing of the current output cell\n",
              "var outputEl = gd.closest('.output');\n",
              "if (outputEl) {{\n",
              "    x.observe(outputEl, {childList: true});\n",
              "}}\n",
              "\n",
              "                        })                };                            </script>        </div>\n",
              "</body>\n",
              "</html>"
            ]
          },
          "metadata": {}
        }
      ]
    },
    {
      "cell_type": "markdown",
      "source": [
        "## Now the same plot but utilizing normalized data"
      ],
      "metadata": {
        "id": "oAs1vWmhKeIz"
      }
    },
    {
      "cell_type": "code",
      "source": [
        "data.head()"
      ],
      "metadata": {
        "colab": {
          "base_uri": "https://localhost:8080/",
          "height": 365
        },
        "id": "XufOblNvKlE4",
        "outputId": "7d77b4aa-f727-4947-e3af-3af6557c6362"
      },
      "execution_count": 42,
      "outputs": [
        {
          "output_type": "execute_result",
          "data": {
            "text/plain": [
              "               Address           Town    Zip State      Style      ML#  \\\n",
              "0      19 Winans Place  Locust Valley  11560    NY       Cape  1870802   \n",
              "1       59 11th Street  Locust Valley  11560    NY   Colonial  2745482   \n",
              "2  19 White Spots Lane  Locust Valley  11560    NY   Exp Cape  2427641   \n",
              "3       5 Quarry  Road  Locust Valley  11560    NY  Exp Ranch  2396870   \n",
              "4        3 Nassau Road  Locust Valley  11560    NY   Colonial  2030725   \n",
              "\n",
              "   Sold_Price  Baths_Full  Baths_Half  Bath  Bedrooms Appearance  REO  \\\n",
              "0    459000.0         2.0         0.0  2.00       4.0  Excellent  NaN   \n",
              "1    360000.0         2.0         0.0  2.00       4.0       Good    N   \n",
              "2    650000.0         2.0         1.0  2.50       3.0       Mint    N   \n",
              "3    800000.0         3.0         0.0  3.00       4.0  Excellent    N   \n",
              "4    467500.0         2.0         2.0  2.55       4.0  Diamond!!    N   \n",
              "\n",
              "  School_District_Name  Approx_Int_Square_Footage  Street_Name Contract_Date  \\\n",
              "0        Locust Valley                        NaN       Winans    2006-09-14   \n",
              "1        Locust Valley                        NaN         11th    2015-11-23   \n",
              "2        Locust Valley                     2353.0  White Spots    2011-10-08   \n",
              "3        Locust Valley                     2151.0      Quarry     2012-05-03   \n",
              "4        Locust Valley                        NaN       Nassau    2008-06-22   \n",
              "\n",
              "   Lot_Square_Footage Lot_Size  Year Month_Year Town_Group  \n",
              "0                 NaN      NaN  2006    2006-09       Most  \n",
              "1                 NaN      NaN  2015    2015-11       Most  \n",
              "2                 NaN      NaN  2011    2011-10       Most  \n",
              "3                 NaN      NaN  2012    2012-05       Most  \n",
              "4                 NaN      NaN  2008    2008-06       Most  "
            ],
            "text/html": [
              "\n",
              "  <div id=\"df-493b25c6-b52f-421a-b6e9-515d2240fd9f\" class=\"colab-df-container\">\n",
              "    <div>\n",
              "<style scoped>\n",
              "    .dataframe tbody tr th:only-of-type {\n",
              "        vertical-align: middle;\n",
              "    }\n",
              "\n",
              "    .dataframe tbody tr th {\n",
              "        vertical-align: top;\n",
              "    }\n",
              "\n",
              "    .dataframe thead th {\n",
              "        text-align: right;\n",
              "    }\n",
              "</style>\n",
              "<table border=\"1\" class=\"dataframe\">\n",
              "  <thead>\n",
              "    <tr style=\"text-align: right;\">\n",
              "      <th></th>\n",
              "      <th>Address</th>\n",
              "      <th>Town</th>\n",
              "      <th>Zip</th>\n",
              "      <th>State</th>\n",
              "      <th>Style</th>\n",
              "      <th>ML#</th>\n",
              "      <th>Sold_Price</th>\n",
              "      <th>Baths_Full</th>\n",
              "      <th>Baths_Half</th>\n",
              "      <th>Bath</th>\n",
              "      <th>Bedrooms</th>\n",
              "      <th>Appearance</th>\n",
              "      <th>REO</th>\n",
              "      <th>School_District_Name</th>\n",
              "      <th>Approx_Int_Square_Footage</th>\n",
              "      <th>Street_Name</th>\n",
              "      <th>Contract_Date</th>\n",
              "      <th>Lot_Square_Footage</th>\n",
              "      <th>Lot_Size</th>\n",
              "      <th>Year</th>\n",
              "      <th>Month_Year</th>\n",
              "      <th>Town_Group</th>\n",
              "    </tr>\n",
              "  </thead>\n",
              "  <tbody>\n",
              "    <tr>\n",
              "      <th>0</th>\n",
              "      <td>19 Winans Place</td>\n",
              "      <td>Locust Valley</td>\n",
              "      <td>11560</td>\n",
              "      <td>NY</td>\n",
              "      <td>Cape</td>\n",
              "      <td>1870802</td>\n",
              "      <td>459000.0</td>\n",
              "      <td>2.0</td>\n",
              "      <td>0.0</td>\n",
              "      <td>2.00</td>\n",
              "      <td>4.0</td>\n",
              "      <td>Excellent</td>\n",
              "      <td>NaN</td>\n",
              "      <td>Locust Valley</td>\n",
              "      <td>NaN</td>\n",
              "      <td>Winans</td>\n",
              "      <td>2006-09-14</td>\n",
              "      <td>NaN</td>\n",
              "      <td>NaN</td>\n",
              "      <td>2006</td>\n",
              "      <td>2006-09</td>\n",
              "      <td>Most</td>\n",
              "    </tr>\n",
              "    <tr>\n",
              "      <th>1</th>\n",
              "      <td>59 11th Street</td>\n",
              "      <td>Locust Valley</td>\n",
              "      <td>11560</td>\n",
              "      <td>NY</td>\n",
              "      <td>Colonial</td>\n",
              "      <td>2745482</td>\n",
              "      <td>360000.0</td>\n",
              "      <td>2.0</td>\n",
              "      <td>0.0</td>\n",
              "      <td>2.00</td>\n",
              "      <td>4.0</td>\n",
              "      <td>Good</td>\n",
              "      <td>N</td>\n",
              "      <td>Locust Valley</td>\n",
              "      <td>NaN</td>\n",
              "      <td>11th</td>\n",
              "      <td>2015-11-23</td>\n",
              "      <td>NaN</td>\n",
              "      <td>NaN</td>\n",
              "      <td>2015</td>\n",
              "      <td>2015-11</td>\n",
              "      <td>Most</td>\n",
              "    </tr>\n",
              "    <tr>\n",
              "      <th>2</th>\n",
              "      <td>19 White Spots Lane</td>\n",
              "      <td>Locust Valley</td>\n",
              "      <td>11560</td>\n",
              "      <td>NY</td>\n",
              "      <td>Exp Cape</td>\n",
              "      <td>2427641</td>\n",
              "      <td>650000.0</td>\n",
              "      <td>2.0</td>\n",
              "      <td>1.0</td>\n",
              "      <td>2.50</td>\n",
              "      <td>3.0</td>\n",
              "      <td>Mint</td>\n",
              "      <td>N</td>\n",
              "      <td>Locust Valley</td>\n",
              "      <td>2353.0</td>\n",
              "      <td>White Spots</td>\n",
              "      <td>2011-10-08</td>\n",
              "      <td>NaN</td>\n",
              "      <td>NaN</td>\n",
              "      <td>2011</td>\n",
              "      <td>2011-10</td>\n",
              "      <td>Most</td>\n",
              "    </tr>\n",
              "    <tr>\n",
              "      <th>3</th>\n",
              "      <td>5 Quarry  Road</td>\n",
              "      <td>Locust Valley</td>\n",
              "      <td>11560</td>\n",
              "      <td>NY</td>\n",
              "      <td>Exp Ranch</td>\n",
              "      <td>2396870</td>\n",
              "      <td>800000.0</td>\n",
              "      <td>3.0</td>\n",
              "      <td>0.0</td>\n",
              "      <td>3.00</td>\n",
              "      <td>4.0</td>\n",
              "      <td>Excellent</td>\n",
              "      <td>N</td>\n",
              "      <td>Locust Valley</td>\n",
              "      <td>2151.0</td>\n",
              "      <td>Quarry</td>\n",
              "      <td>2012-05-03</td>\n",
              "      <td>NaN</td>\n",
              "      <td>NaN</td>\n",
              "      <td>2012</td>\n",
              "      <td>2012-05</td>\n",
              "      <td>Most</td>\n",
              "    </tr>\n",
              "    <tr>\n",
              "      <th>4</th>\n",
              "      <td>3 Nassau Road</td>\n",
              "      <td>Locust Valley</td>\n",
              "      <td>11560</td>\n",
              "      <td>NY</td>\n",
              "      <td>Colonial</td>\n",
              "      <td>2030725</td>\n",
              "      <td>467500.0</td>\n",
              "      <td>2.0</td>\n",
              "      <td>2.0</td>\n",
              "      <td>2.55</td>\n",
              "      <td>4.0</td>\n",
              "      <td>Diamond!!</td>\n",
              "      <td>N</td>\n",
              "      <td>Locust Valley</td>\n",
              "      <td>NaN</td>\n",
              "      <td>Nassau</td>\n",
              "      <td>2008-06-22</td>\n",
              "      <td>NaN</td>\n",
              "      <td>NaN</td>\n",
              "      <td>2008</td>\n",
              "      <td>2008-06</td>\n",
              "      <td>Most</td>\n",
              "    </tr>\n",
              "  </tbody>\n",
              "</table>\n",
              "</div>\n",
              "    <div class=\"colab-df-buttons\">\n",
              "\n",
              "  <div class=\"colab-df-container\">\n",
              "    <button class=\"colab-df-convert\" onclick=\"convertToInteractive('df-493b25c6-b52f-421a-b6e9-515d2240fd9f')\"\n",
              "            title=\"Convert this dataframe to an interactive table.\"\n",
              "            style=\"display:none;\">\n",
              "\n",
              "  <svg xmlns=\"http://www.w3.org/2000/svg\" height=\"24px\" viewBox=\"0 -960 960 960\">\n",
              "    <path d=\"M120-120v-720h720v720H120Zm60-500h600v-160H180v160Zm220 220h160v-160H400v160Zm0 220h160v-160H400v160ZM180-400h160v-160H180v160Zm440 0h160v-160H620v160ZM180-180h160v-160H180v160Zm440 0h160v-160H620v160Z\"/>\n",
              "  </svg>\n",
              "    </button>\n",
              "\n",
              "  <style>\n",
              "    .colab-df-container {\n",
              "      display:flex;\n",
              "      gap: 12px;\n",
              "    }\n",
              "\n",
              "    .colab-df-convert {\n",
              "      background-color: #E8F0FE;\n",
              "      border: none;\n",
              "      border-radius: 50%;\n",
              "      cursor: pointer;\n",
              "      display: none;\n",
              "      fill: #1967D2;\n",
              "      height: 32px;\n",
              "      padding: 0 0 0 0;\n",
              "      width: 32px;\n",
              "    }\n",
              "\n",
              "    .colab-df-convert:hover {\n",
              "      background-color: #E2EBFA;\n",
              "      box-shadow: 0px 1px 2px rgba(60, 64, 67, 0.3), 0px 1px 3px 1px rgba(60, 64, 67, 0.15);\n",
              "      fill: #174EA6;\n",
              "    }\n",
              "\n",
              "    .colab-df-buttons div {\n",
              "      margin-bottom: 4px;\n",
              "    }\n",
              "\n",
              "    [theme=dark] .colab-df-convert {\n",
              "      background-color: #3B4455;\n",
              "      fill: #D2E3FC;\n",
              "    }\n",
              "\n",
              "    [theme=dark] .colab-df-convert:hover {\n",
              "      background-color: #434B5C;\n",
              "      box-shadow: 0px 1px 3px 1px rgba(0, 0, 0, 0.15);\n",
              "      filter: drop-shadow(0px 1px 2px rgba(0, 0, 0, 0.3));\n",
              "      fill: #FFFFFF;\n",
              "    }\n",
              "  </style>\n",
              "\n",
              "    <script>\n",
              "      const buttonEl =\n",
              "        document.querySelector('#df-493b25c6-b52f-421a-b6e9-515d2240fd9f button.colab-df-convert');\n",
              "      buttonEl.style.display =\n",
              "        google.colab.kernel.accessAllowed ? 'block' : 'none';\n",
              "\n",
              "      async function convertToInteractive(key) {\n",
              "        const element = document.querySelector('#df-493b25c6-b52f-421a-b6e9-515d2240fd9f');\n",
              "        const dataTable =\n",
              "          await google.colab.kernel.invokeFunction('convertToInteractive',\n",
              "                                                    [key], {});\n",
              "        if (!dataTable) return;\n",
              "\n",
              "        const docLinkHtml = 'Like what you see? Visit the ' +\n",
              "          '<a target=\"_blank\" href=https://colab.research.google.com/notebooks/data_table.ipynb>data table notebook</a>'\n",
              "          + ' to learn more about interactive tables.';\n",
              "        element.innerHTML = '';\n",
              "        dataTable['output_type'] = 'display_data';\n",
              "        await google.colab.output.renderOutput(dataTable, element);\n",
              "        const docLink = document.createElement('div');\n",
              "        docLink.innerHTML = docLinkHtml;\n",
              "        element.appendChild(docLink);\n",
              "      }\n",
              "    </script>\n",
              "  </div>\n",
              "\n",
              "\n",
              "<div id=\"df-22c45d37-738b-4277-9686-afecd2c2b8e7\">\n",
              "  <button class=\"colab-df-quickchart\" onclick=\"quickchart('df-22c45d37-738b-4277-9686-afecd2c2b8e7')\"\n",
              "            title=\"Suggest charts\"\n",
              "            style=\"display:none;\">\n",
              "\n",
              "<svg xmlns=\"http://www.w3.org/2000/svg\" height=\"24px\"viewBox=\"0 0 24 24\"\n",
              "     width=\"24px\">\n",
              "    <g>\n",
              "        <path d=\"M19 3H5c-1.1 0-2 .9-2 2v14c0 1.1.9 2 2 2h14c1.1 0 2-.9 2-2V5c0-1.1-.9-2-2-2zM9 17H7v-7h2v7zm4 0h-2V7h2v10zm4 0h-2v-4h2v4z\"/>\n",
              "    </g>\n",
              "</svg>\n",
              "  </button>\n",
              "\n",
              "<style>\n",
              "  .colab-df-quickchart {\n",
              "      --bg-color: #E8F0FE;\n",
              "      --fill-color: #1967D2;\n",
              "      --hover-bg-color: #E2EBFA;\n",
              "      --hover-fill-color: #174EA6;\n",
              "      --disabled-fill-color: #AAA;\n",
              "      --disabled-bg-color: #DDD;\n",
              "  }\n",
              "\n",
              "  [theme=dark] .colab-df-quickchart {\n",
              "      --bg-color: #3B4455;\n",
              "      --fill-color: #D2E3FC;\n",
              "      --hover-bg-color: #434B5C;\n",
              "      --hover-fill-color: #FFFFFF;\n",
              "      --disabled-bg-color: #3B4455;\n",
              "      --disabled-fill-color: #666;\n",
              "  }\n",
              "\n",
              "  .colab-df-quickchart {\n",
              "    background-color: var(--bg-color);\n",
              "    border: none;\n",
              "    border-radius: 50%;\n",
              "    cursor: pointer;\n",
              "    display: none;\n",
              "    fill: var(--fill-color);\n",
              "    height: 32px;\n",
              "    padding: 0;\n",
              "    width: 32px;\n",
              "  }\n",
              "\n",
              "  .colab-df-quickchart:hover {\n",
              "    background-color: var(--hover-bg-color);\n",
              "    box-shadow: 0 1px 2px rgba(60, 64, 67, 0.3), 0 1px 3px 1px rgba(60, 64, 67, 0.15);\n",
              "    fill: var(--button-hover-fill-color);\n",
              "  }\n",
              "\n",
              "  .colab-df-quickchart-complete:disabled,\n",
              "  .colab-df-quickchart-complete:disabled:hover {\n",
              "    background-color: var(--disabled-bg-color);\n",
              "    fill: var(--disabled-fill-color);\n",
              "    box-shadow: none;\n",
              "  }\n",
              "\n",
              "  .colab-df-spinner {\n",
              "    border: 2px solid var(--fill-color);\n",
              "    border-color: transparent;\n",
              "    border-bottom-color: var(--fill-color);\n",
              "    animation:\n",
              "      spin 1s steps(1) infinite;\n",
              "  }\n",
              "\n",
              "  @keyframes spin {\n",
              "    0% {\n",
              "      border-color: transparent;\n",
              "      border-bottom-color: var(--fill-color);\n",
              "      border-left-color: var(--fill-color);\n",
              "    }\n",
              "    20% {\n",
              "      border-color: transparent;\n",
              "      border-left-color: var(--fill-color);\n",
              "      border-top-color: var(--fill-color);\n",
              "    }\n",
              "    30% {\n",
              "      border-color: transparent;\n",
              "      border-left-color: var(--fill-color);\n",
              "      border-top-color: var(--fill-color);\n",
              "      border-right-color: var(--fill-color);\n",
              "    }\n",
              "    40% {\n",
              "      border-color: transparent;\n",
              "      border-right-color: var(--fill-color);\n",
              "      border-top-color: var(--fill-color);\n",
              "    }\n",
              "    60% {\n",
              "      border-color: transparent;\n",
              "      border-right-color: var(--fill-color);\n",
              "    }\n",
              "    80% {\n",
              "      border-color: transparent;\n",
              "      border-right-color: var(--fill-color);\n",
              "      border-bottom-color: var(--fill-color);\n",
              "    }\n",
              "    90% {\n",
              "      border-color: transparent;\n",
              "      border-bottom-color: var(--fill-color);\n",
              "    }\n",
              "  }\n",
              "</style>\n",
              "\n",
              "  <script>\n",
              "    async function quickchart(key) {\n",
              "      const quickchartButtonEl =\n",
              "        document.querySelector('#' + key + ' button');\n",
              "      quickchartButtonEl.disabled = true;  // To prevent multiple clicks.\n",
              "      quickchartButtonEl.classList.add('colab-df-spinner');\n",
              "      try {\n",
              "        const charts = await google.colab.kernel.invokeFunction(\n",
              "            'suggestCharts', [key], {});\n",
              "      } catch (error) {\n",
              "        console.error('Error during call to suggestCharts:', error);\n",
              "      }\n",
              "      quickchartButtonEl.classList.remove('colab-df-spinner');\n",
              "      quickchartButtonEl.classList.add('colab-df-quickchart-complete');\n",
              "    }\n",
              "    (() => {\n",
              "      let quickchartButtonEl =\n",
              "        document.querySelector('#df-22c45d37-738b-4277-9686-afecd2c2b8e7 button');\n",
              "      quickchartButtonEl.style.display =\n",
              "        google.colab.kernel.accessAllowed ? 'block' : 'none';\n",
              "    })();\n",
              "  </script>\n",
              "</div>\n",
              "\n",
              "    </div>\n",
              "  </div>\n"
            ]
          },
          "metadata": {},
          "execution_count": 42
        }
      ]
    },
    {
      "cell_type": "code",
      "source": [
        "a = b"
      ],
      "metadata": {
        "colab": {
          "base_uri": "https://localhost:8080/",
          "height": 176
        },
        "id": "o9F0tBCTNNt8",
        "outputId": "52a864a3-1cb8-400e-cf3c-91850ff79049"
      },
      "execution_count": 43,
      "outputs": [
        {
          "output_type": "error",
          "ename": "NameError",
          "evalue": "name 'b' is not defined",
          "traceback": [
            "\u001b[0;31m---------------------------------------------------------------------------\u001b[0m",
            "\u001b[0;31mNameError\u001b[0m                                 Traceback (most recent call last)",
            "\u001b[0;32m<ipython-input-43-7a6469f55ed0>\u001b[0m in \u001b[0;36m<cell line: 1>\u001b[0;34m()\u001b[0m\n\u001b[0;32m----> 1\u001b[0;31m \u001b[0ma\u001b[0m \u001b[0;34m=\u001b[0m \u001b[0mb\u001b[0m\u001b[0;34m\u001b[0m\u001b[0;34m\u001b[0m\u001b[0m\n\u001b[0m",
            "\u001b[0;31mNameError\u001b[0m: name 'b' is not defined"
          ]
        }
      ]
    },
    {
      "cell_type": "code",
      "source": [
        "# Initialize the MinMaxScaler to scale between 0 and 1\n",
        "scaler = MinMaxScaler(feature_range=(0, 1))\n",
        "\n",
        "# Fit the scaler to your data and transform it\n",
        "data['Normalized_Sold_Price'] = scaler.fit_transform(data[['Sold_Price']])\n"
      ],
      "metadata": {
        "id": "Ri4COc5zNbLc"
      },
      "execution_count": 44,
      "outputs": []
    },
    {
      "cell_type": "code",
      "source": [
        "# prompt: create new column called Normalized_Sold_Price based on Sold_Price\n",
        "\n",
        "#data['Normalized_Sold_Price'] = (data['Sold_Price'] - data['Sold_Price'].min()) / (data['Sold_Price'].max() - data['Sold_Price'].min())\n"
      ],
      "metadata": {
        "id": "hVlLHHYzKlBh"
      },
      "execution_count": null,
      "outputs": []
    },
    {
      "cell_type": "code",
      "source": [
        "data.info()"
      ],
      "metadata": {
        "id": "xKRVnjnkKk5V"
      },
      "execution_count": null,
      "outputs": []
    },
    {
      "cell_type": "markdown",
      "source": [
        "## Now plot using the normailzed sold Price"
      ],
      "metadata": {
        "id": "TJq4VxH2LfPz"
      }
    },
    {
      "cell_type": "code",
      "source": [
        "import pandas as pd\n",
        "import numpy as np\n",
        "import plotly.express as px\n",
        "\n",
        "# Assume 'data' is your DataFrame that contains all the necessary columns\n",
        "# And assume 'Normalized_Sold_Price' is already present in 'data'\n",
        "\n",
        "# Define the groups\n",
        "least_towns = ['Roosevelt', 'Hempstead', 'Freeport']\n",
        "middle_towns = ['Farmingdale', 'Mineola', 'Westbury']\n",
        "most_towns = ['Locust Valley', 'Port Washington', 'Glen Cove']\n",
        "\n",
        "# Create a new column with the town groups\n",
        "data['Town_Group'] = np.select(\n",
        "    [data['Town'].isin(least_towns), data['Town'].isin(middle_towns), data['Town'].isin(most_towns)],\n",
        "    ['Least', 'Middle', 'Most'],\n",
        "    default='Other'\n",
        ")\n",
        "\n",
        "# Calculate the average normalized sale price for each town group and month\n",
        "avg_normalized_sale_price = data.groupby(['Month_Year', 'Town_Group'])['Normalized_Sold_Price'].mean().unstack()\n",
        "\n",
        "# Plot the average normalized sale price for each town group\n",
        "fig = px.line(avg_normalized_sale_price, title='Average Normalized Sale Price by Town Group')\n",
        "\n",
        "# Adjusting the layout if necessary, like changing y-axis title\n",
        "fig.update_layout(yaxis_title='Average Normalized Sale Price')\n",
        "\n",
        "# Show the plot\n",
        "fig.show()\n"
      ],
      "metadata": {
        "colab": {
          "base_uri": "https://localhost:8080/",
          "height": 542
        },
        "id": "EzpeuPQOLjV3",
        "outputId": "b20639cf-61f8-48d1-82fa-729790f8b49e"
      },
      "execution_count": 45,
      "outputs": [
        {
          "output_type": "display_data",
          "data": {
            "text/html": [
              "<html>\n",
              "<head><meta charset=\"utf-8\" /></head>\n",
              "<body>\n",
              "    <div>            <script src=\"https://cdnjs.cloudflare.com/ajax/libs/mathjax/2.7.5/MathJax.js?config=TeX-AMS-MML_SVG\"></script><script type=\"text/javascript\">if (window.MathJax && window.MathJax.Hub && window.MathJax.Hub.Config) {window.MathJax.Hub.Config({SVG: {font: \"STIX-Web\"}});}</script>                <script type=\"text/javascript\">window.PlotlyConfig = {MathJaxConfig: 'local'};</script>\n",
              "        <script charset=\"utf-8\" src=\"https://cdn.plot.ly/plotly-2.24.1.min.js\"></script>                <div id=\"dc57ee7e-5524-4ce9-9503-5f7d30fe9b99\" class=\"plotly-graph-div\" style=\"height:525px; width:100%;\"></div>            <script type=\"text/javascript\">                                    window.PLOTLYENV=window.PLOTLYENV || {};                                    if (document.getElementById(\"dc57ee7e-5524-4ce9-9503-5f7d30fe9b99\")) {                    Plotly.newPlot(                        \"dc57ee7e-5524-4ce9-9503-5f7d30fe9b99\",                        [{\"hovertemplate\":\"Town_Group=Least\\u003cbr\\u003eMonth_Year=%{x}\\u003cbr\\u003evalue=%{y}\\u003cextra\\u003e\\u003c\\u002fextra\\u003e\",\"legendgroup\":\"Least\",\"line\":{\"color\":\"#636efa\",\"dash\":\"solid\"},\"marker\":{\"symbol\":\"circle\"},\"mode\":\"lines\",\"name\":\"Least\",\"orientation\":\"v\",\"showlegend\":true,\"x\":[\"2006-01\",\"2006-02\",\"2006-03\",\"2006-04\",\"2006-05\",\"2006-06\",\"2006-07\",\"2006-08\",\"2006-09\",\"2006-10\",\"2006-11\",\"2006-12\",\"2007-01\",\"2007-02\",\"2007-03\",\"2007-04\",\"2007-05\",\"2007-06\",\"2007-07\",\"2007-08\",\"2007-09\",\"2007-10\",\"2007-11\",\"2007-12\",\"2008-01\",\"2008-02\",\"2008-03\",\"2008-04\",\"2008-05\",\"2008-06\",\"2008-07\",\"2008-08\",\"2008-09\",\"2008-10\",\"2008-11\",\"2008-12\",\"2009-01\",\"2009-02\",\"2009-03\",\"2009-04\",\"2009-05\",\"2009-06\",\"2009-07\",\"2009-08\",\"2009-09\",\"2009-10\",\"2009-11\",\"2009-12\",\"2010-01\",\"2010-02\",\"2010-03\",\"2010-04\",\"2010-05\",\"2010-06\",\"2010-07\",\"2010-08\",\"2010-09\",\"2010-10\",\"2010-11\",\"2010-12\",\"2011-01\",\"2011-02\",\"2011-03\",\"2011-04\",\"2011-05\",\"2011-06\",\"2011-07\",\"2011-08\",\"2011-09\",\"2011-10\",\"2011-11\",\"2011-12\",\"2012-01\",\"2012-02\",\"2012-03\",\"2012-04\",\"2012-05\",\"2012-06\",\"2012-07\",\"2012-08\",\"2012-09\",\"2012-10\",\"2012-11\",\"2012-12\",\"2013-01\",\"2013-02\",\"2013-03\",\"2013-04\",\"2013-05\",\"2013-06\",\"2013-07\",\"2013-08\",\"2013-09\",\"2013-10\",\"2013-11\",\"2013-12\",\"2014-01\",\"2014-02\",\"2014-03\",\"2014-04\",\"2014-05\",\"2014-06\",\"2014-07\",\"2014-08\",\"2014-09\",\"2014-10\",\"2014-11\",\"2014-12\",\"2015-01\",\"2015-02\",\"2015-03\",\"2015-04\",\"2015-05\",\"2015-06\",\"2015-07\",\"2015-08\",\"2015-09\",\"2015-10\",\"2015-11\",\"2015-12\",\"2016-01\",\"2016-02\",\"2016-03\",\"2016-04\",\"2016-05\",\"2016-06\",\"2016-07\",\"2016-08\",\"2016-09\",\"2016-10\",\"2016-11\",\"2016-12\",\"2017-01\",\"2017-02\",\"2017-03\",\"2017-04\",\"2017-05\",\"2017-06\",\"2017-07\",\"2017-08\",\"2017-09\",\"2017-10\",\"2017-11\",\"2017-12\",\"2018-01\",\"2018-02\",\"2018-03\",\"2018-04\",\"2018-05\",\"2018-06\",\"2018-07\",\"2018-08\",\"2018-09\",\"2018-10\",\"2018-11\",\"2018-12\",\"2019-01\",\"2019-02\",\"2019-03\",\"2019-04\",\"2019-05\",\"2019-06\",\"2019-07\",\"2019-08\",\"2019-09\",\"2019-10\",\"2019-11\",\"2019-12\",\"2020-01\",\"2020-02\",\"2020-03\",\"2020-04\",\"2020-05\",\"2020-06\",\"2020-07\",\"2020-08\",\"2020-09\",\"2020-10\",\"2020-11\",\"2020-12\",\"2021-01\",\"2021-02\",\"2021-03\",\"2021-04\",\"2021-05\",\"2021-06\",\"2021-07\",\"2021-08\",\"2021-09\",\"2021-10\",\"2021-11\",\"2021-12\",\"2022-01\",\"2022-02\",\"2022-03\",\"2022-04\",\"2022-05\",\"2022-06\",\"2022-07\",\"2022-08\",\"2022-09\",\"2022-10\",\"2022-11\",\"2022-12\",\"2023-01\",\"2023-02\",\"2023-03\",\"2023-04\",\"2023-05\",\"2023-06\",\"2023-07\",\"2023-08\",\"2023-09\",\"2023-10\",\"2023-11\",\"2023-12\"],\"xaxis\":\"x\",\"y\":[0.044443434079361646,0.04297998340475351,0.04670549980219331,0.04369163720820972,0.04592514710284127,0.04824017841561531,0.04808610816988006,0.046017693813708675,0.04967298271139048,0.04742058341005793,0.04449658108693993,0.04371585029839762,0.045272059742887345,0.0435021369221501,0.046002283064242436,0.04416768018914034,0.045206049224144854,0.04298731348021392,0.04322415753341297,0.041608137250748384,0.04668606567625629,0.0416286074769542,0.04267759822253009,0.033690150077103485,0.03713673541298943,0.03929151937438194,0.04043852370505927,0.03802818987469521,0.03418029712311172,0.03690623685736044,0.03667912471258067,0.03308503611423693,0.032063648866904264,0.03601022345125917,0.03323639657567843,0.02664048558145879,0.02785916224969457,0.02408990417950146,0.027557863134682926,0.02596594848653625,0.02565507265001776,0.02686290676788193,0.02889553850094541,0.026085521424546718,0.02750585948600202,0.0235705648772622,0.02691765059437652,0.023841905108315648,0.02360035533762758,0.027957886952364404,0.028891128450530337,0.028946542846425772,0.02592634008458599,0.02591264762381077,0.026520660037374633,0.02249995780577637,0.023377914113916137,0.027268530564960314,0.03017084743923173,0.02760158163867928,0.023067055825617723,0.022970965896389587,0.02637926958182252,0.02594639183293036,0.023464692599992783,0.027687329895566135,0.025488779064863243,0.026769429539130713,0.024780218531142068,0.025282062357206998,0.02516377943700526,0.026479911316534283,0.025224016883200532,0.024714504927424212,0.025161050999508775,0.024467637697376903,0.024252169443276208,0.023542254487842536,0.027800029074584683,0.02811488067498161,0.021986683039807033,0.025335314911851963,0.026567119298742337,0.022715933200409356,0.02836461044742755,0.02312493290544372,0.025261592131001178,0.028028593137542065,0.02749268511467012,0.026074738542201627,0.02642947377102525,0.02555351911544508,0.026852059474222083,0.025848277418405088,0.028391444555361727,0.02744993535768397,0.023723281124024186,0.03279898748240029,0.02927192983880527,0.02716186102753046,0.027375093165583862,0.026680623913068188,0.027283646104474275,0.024297543676188093,0.02559049524307489,0.03540535756910491,0.024063107403071257,0.02982497430812465,0.02257708884656837,0.026326956666704555,0.02450072177955602,0.024173079327551517,0.02488036645941553,0.02937409777555497,0.028664959510521417,0.02685929276970117,0.028974192118394578,0.03249274566891671,0.02586926128419928,0.022708574084388217,0.024154040260522636,0.029774770678700112,0.033618824617040056,0.035750976236557694,0.03147921156375735,0.034233629244006955,0.033851532218648055,0.033940685316970885,0.03623056619047172,0.033801246290484546,0.03347706628397327,0.03174693385771281,0.03302867260092711,0.03330052750690039,0.033702537638770964,0.034471791057944255,0.037366670358611166,0.036030796725380176,0.03745587899867768,0.035076271710219716,0.038672559115829515,0.0416413535131306,0.04134872913212707,0.03535958476282716,0.0388101435602487,0.03991227294675923,0.04068771762316666,0.04108342652493964,0.04136136749125087,0.042117760892051326,0.04407106235653837,0.04174836438681174,0.04166306365699388,0.03995238192056278,0.03981660168756228,0.04244726438413908,0.040123998125087774,0.044226054821146436,0.044256072275574695,0.04097432612471082,0.04289750596579721,0.04303586741917215,0.04560426462471883,0.0460625441245376,0.044187904006379286,0.042745648442700686,0.04273092637481863,0.04717258548474589,0.04245128306957779,0.04444441850873361,0.044067335149464565,0.048185426086013734,0.04628496084203825,0.0481460459080335,0.048090852201252476,0.04832248201234413,0.047508845656088684,0.048363704343422444,0.05086478323292177,0.048460353862079156,0.050892380671754826,0.051993644906727705,0.055498619378212904,0.05929145036283834,0.05567285611090359,0.056815033837071705,0.05688423948125198,0.061069342452954825,0.05773078848957532,0.060297038419355145,0.06133189693097396,0.06274903324861279,0.05917482918681498,0.06223933107095752,0.06336236238511833,0.06295129967182411,0.06329623361899177,0.061525339745783725,0.06208084243051938,0.06228420090315813,0.06336606041847184,0.06006466336529876,0.06313334858764963,0.06331452475583896,0.06111906142135634,0.057468881206505805,0.06162065085192721,0.06503553300244976,0.06569993672588668,0.06972366946238998,0.06311055828463004,0.05736320694207414,0.05324497690684307,0.07191652363685963,null,null],\"yaxis\":\"y\",\"type\":\"scatter\"},{\"hovertemplate\":\"Town_Group=Middle\\u003cbr\\u003eMonth_Year=%{x}\\u003cbr\\u003evalue=%{y}\\u003cextra\\u003e\\u003c\\u002fextra\\u003e\",\"legendgroup\":\"Middle\",\"line\":{\"color\":\"#EF553B\",\"dash\":\"solid\"},\"marker\":{\"symbol\":\"circle\"},\"mode\":\"lines\",\"name\":\"Middle\",\"orientation\":\"v\",\"showlegend\":true,\"x\":[\"2006-01\",\"2006-02\",\"2006-03\",\"2006-04\",\"2006-05\",\"2006-06\",\"2006-07\",\"2006-08\",\"2006-09\",\"2006-10\",\"2006-11\",\"2006-12\",\"2007-01\",\"2007-02\",\"2007-03\",\"2007-04\",\"2007-05\",\"2007-06\",\"2007-07\",\"2007-08\",\"2007-09\",\"2007-10\",\"2007-11\",\"2007-12\",\"2008-01\",\"2008-02\",\"2008-03\",\"2008-04\",\"2008-05\",\"2008-06\",\"2008-07\",\"2008-08\",\"2008-09\",\"2008-10\",\"2008-11\",\"2008-12\",\"2009-01\",\"2009-02\",\"2009-03\",\"2009-04\",\"2009-05\",\"2009-06\",\"2009-07\",\"2009-08\",\"2009-09\",\"2009-10\",\"2009-11\",\"2009-12\",\"2010-01\",\"2010-02\",\"2010-03\",\"2010-04\",\"2010-05\",\"2010-06\",\"2010-07\",\"2010-08\",\"2010-09\",\"2010-10\",\"2010-11\",\"2010-12\",\"2011-01\",\"2011-02\",\"2011-03\",\"2011-04\",\"2011-05\",\"2011-06\",\"2011-07\",\"2011-08\",\"2011-09\",\"2011-10\",\"2011-11\",\"2011-12\",\"2012-01\",\"2012-02\",\"2012-03\",\"2012-04\",\"2012-05\",\"2012-06\",\"2012-07\",\"2012-08\",\"2012-09\",\"2012-10\",\"2012-11\",\"2012-12\",\"2013-01\",\"2013-02\",\"2013-03\",\"2013-04\",\"2013-05\",\"2013-06\",\"2013-07\",\"2013-08\",\"2013-09\",\"2013-10\",\"2013-11\",\"2013-12\",\"2014-01\",\"2014-02\",\"2014-03\",\"2014-04\",\"2014-05\",\"2014-06\",\"2014-07\",\"2014-08\",\"2014-09\",\"2014-10\",\"2014-11\",\"2014-12\",\"2015-01\",\"2015-02\",\"2015-03\",\"2015-04\",\"2015-05\",\"2015-06\",\"2015-07\",\"2015-08\",\"2015-09\",\"2015-10\",\"2015-11\",\"2015-12\",\"2016-01\",\"2016-02\",\"2016-03\",\"2016-04\",\"2016-05\",\"2016-06\",\"2016-07\",\"2016-08\",\"2016-09\",\"2016-10\",\"2016-11\",\"2016-12\",\"2017-01\",\"2017-02\",\"2017-03\",\"2017-04\",\"2017-05\",\"2017-06\",\"2017-07\",\"2017-08\",\"2017-09\",\"2017-10\",\"2017-11\",\"2017-12\",\"2018-01\",\"2018-02\",\"2018-03\",\"2018-04\",\"2018-05\",\"2018-06\",\"2018-07\",\"2018-08\",\"2018-09\",\"2018-10\",\"2018-11\",\"2018-12\",\"2019-01\",\"2019-02\",\"2019-03\",\"2019-04\",\"2019-05\",\"2019-06\",\"2019-07\",\"2019-08\",\"2019-09\",\"2019-10\",\"2019-11\",\"2019-12\",\"2020-01\",\"2020-02\",\"2020-03\",\"2020-04\",\"2020-05\",\"2020-06\",\"2020-07\",\"2020-08\",\"2020-09\",\"2020-10\",\"2020-11\",\"2020-12\",\"2021-01\",\"2021-02\",\"2021-03\",\"2021-04\",\"2021-05\",\"2021-06\",\"2021-07\",\"2021-08\",\"2021-09\",\"2021-10\",\"2021-11\",\"2021-12\",\"2022-01\",\"2022-02\",\"2022-03\",\"2022-04\",\"2022-05\",\"2022-06\",\"2022-07\",\"2022-08\",\"2022-09\",\"2022-10\",\"2022-11\",\"2022-12\",\"2023-01\",\"2023-02\",\"2023-03\",\"2023-04\",\"2023-05\",\"2023-06\",\"2023-07\",\"2023-08\",\"2023-09\",\"2023-10\",\"2023-11\",\"2023-12\"],\"xaxis\":\"x\",\"y\":[0.05216230757281259,0.054591919857841634,0.05384524743209399,0.05203580382422085,0.05726287071533556,0.05491670299806787,0.05256872405701077,0.0550551091004846,0.054240205576886406,0.05296488274619164,0.05128373987898352,0.05389946760560671,0.05253378723984678,0.05087215976903054,0.05528418622880812,0.05230525126918502,0.053364221035885215,0.052594739754195284,0.05239958884084454,0.05000948331638371,0.05004595356903346,0.04810348159177967,0.0475043118326979,0.04728102637215246,0.04882099867010696,0.04806176614342385,0.04838552500464136,0.04912644980413749,0.04678195161889764,0.04563815665580899,0.0442050696405277,0.04362870141231166,0.04624795977081233,0.04529897018538936,0.045162371983586615,0.04431995139225438,0.043932811110596215,0.043297746937869454,0.04241165020403059,0.041975256519967065,0.041447132087052765,0.04140185629324836,0.041465382997828974,0.04401792761052666,0.041553476786804815,0.03835093263011923,0.03875263886118996,0.04065774496256326,0.04291139030218562,0.040959718538876484,0.041183535714659825,0.04357625135170032,0.04509526528349629,0.038672663060217785,0.042513134669066775,0.04459172458535928,0.04366282465103748,0.0392414483098899,0.04038997566283106,0.03829978289780283,0.047286838725193125,0.040589883611355126,0.04318770436212495,0.03843240847039567,0.04037263327795602,0.04326336842170526,0.03795878468236016,0.04228342350841697,0.039311076624973504,0.04164838537344988,0.04033527161049127,0.043226638780590375,0.039650315303700785,0.045443240847039566,0.03772998787020633,0.04002729669665346,0.04243411126148439,0.043154271381535325,0.04305286793323439,0.040751356415123646,0.04146502381304204,0.04357957193357355,0.043419770809081784,0.04408582313034613,0.045094321901118894,0.04328096809086158,0.04224828964135828,0.042934447667447445,0.043447114293435195,0.046693517118741895,0.04377545883204322,0.04517592447676447,0.044788583292311536,0.04508939004845224,0.042412246635168536,0.0409373229042006,0.04448072976790181,0.04284500494447412,0.04587241377790531,0.04603492146486338,0.04645437633320829,0.048890692001959724,0.04798105011711977,0.04564432646135819,0.0472858910093926,0.046501547753011206,0.04468452580010445,0.04418404810348159,0.045081740113893404,0.04429946126491814,0.04275730673321533,0.04746898739986146,0.047260609169478676,0.050128038515116956,0.04543734358378426,0.05024536097444763,0.047746399627175286,0.04755862979836198,0.05080305079736749,0.04695036481009763,0.046188933995860805,0.044562651284915634,0.04698860300454223,0.047442442342885076,0.04701430395847595,0.050625514726472934,0.05145483691760346,0.05012886890891938,0.05274127044568466,0.05094601429919183,0.051742342493762805,0.05170961452148581,0.050043282843661885,0.05040313566803444,0.05390550939450083,0.05375673734591406,0.05380917577483725,0.054124447145123,0.052867224293470634,0.058623408472019474,0.055273954950656165,0.05606163269103583,0.05313049622818085,0.05954936424979996,0.05666661711991741,0.05247057416942728,0.055113929777100834,0.05403580090535026,0.05706691364866914,0.05941908768113344,0.05418219277985779,0.056309543655980794,0.05475262129461522,0.056793436114351,0.05720551498501579,0.05535356606633759,0.05419198664526989,0.05437883386188057,0.057129399597687994,0.053389226089341206,0.057218104388775705,0.057608635384864645,0.05805778783091035,0.057864555508826174,0.05620412477936603,0.05604521636336769,0.05550118923127635,0.056565210225399815,0.0594634025336836,0.060328968556175665,0.05815522807097309,0.0626794837420743,0.05967401907851584,0.05816644549143526,0.06630043991971653,0.06673157236171574,0.06376088956002043,0.06534010670020778,0.0704222588005956,0.06402022687747934,0.06858401844204952,0.06910413603863721,0.06694268577772221,0.07525695281153029,0.07250190390670289,0.07215468705713773,0.07102302874614956,0.07321973672411855,0.07238325194007757,0.07080214146879299,0.07628751899727804,0.07885036714141196,0.07344405413938199,0.0762303635683437,0.07876422992074866,0.0769142787319413,0.08052856190052606,0.07902749057664547,0.07484789585156727,0.07438263950134509,0.07365190082281192,0.07606920765447994,0.07530579128635893,0.07050600698755569,0.07047558467350004,0.07930933943078351,0.08025539666342413,0.07758463730706476,0.07894623401785329,0.08097865026411123,0.07705209884401605,0.08433530228228843,0.07250588221921639,0.07516737329074645,0.07848388404545127,0.07475817543221525],\"yaxis\":\"y\",\"type\":\"scatter\"},{\"hovertemplate\":\"Town_Group=Most\\u003cbr\\u003eMonth_Year=%{x}\\u003cbr\\u003evalue=%{y}\\u003cextra\\u003e\\u003c\\u002fextra\\u003e\",\"legendgroup\":\"Most\",\"line\":{\"color\":\"#00cc96\",\"dash\":\"solid\"},\"marker\":{\"symbol\":\"circle\"},\"mode\":\"lines\",\"name\":\"Most\",\"orientation\":\"v\",\"showlegend\":true,\"x\":[\"2006-01\",\"2006-02\",\"2006-03\",\"2006-04\",\"2006-05\",\"2006-06\",\"2006-07\",\"2006-08\",\"2006-09\",\"2006-10\",\"2006-11\",\"2006-12\",\"2007-01\",\"2007-02\",\"2007-03\",\"2007-04\",\"2007-05\",\"2007-06\",\"2007-07\",\"2007-08\",\"2007-09\",\"2007-10\",\"2007-11\",\"2007-12\",\"2008-01\",\"2008-02\",\"2008-03\",\"2008-04\",\"2008-05\",\"2008-06\",\"2008-07\",\"2008-08\",\"2008-09\",\"2008-10\",\"2008-11\",\"2008-12\",\"2009-01\",\"2009-02\",\"2009-03\",\"2009-04\",\"2009-05\",\"2009-06\",\"2009-07\",\"2009-08\",\"2009-09\",\"2009-10\",\"2009-11\",\"2009-12\",\"2010-01\",\"2010-02\",\"2010-03\",\"2010-04\",\"2010-05\",\"2010-06\",\"2010-07\",\"2010-08\",\"2010-09\",\"2010-10\",\"2010-11\",\"2010-12\",\"2011-01\",\"2011-02\",\"2011-03\",\"2011-04\",\"2011-05\",\"2011-06\",\"2011-07\",\"2011-08\",\"2011-09\",\"2011-10\",\"2011-11\",\"2011-12\",\"2012-01\",\"2012-02\",\"2012-03\",\"2012-04\",\"2012-05\",\"2012-06\",\"2012-07\",\"2012-08\",\"2012-09\",\"2012-10\",\"2012-11\",\"2012-12\",\"2013-01\",\"2013-02\",\"2013-03\",\"2013-04\",\"2013-05\",\"2013-06\",\"2013-07\",\"2013-08\",\"2013-09\",\"2013-10\",\"2013-11\",\"2013-12\",\"2014-01\",\"2014-02\",\"2014-03\",\"2014-04\",\"2014-05\",\"2014-06\",\"2014-07\",\"2014-08\",\"2014-09\",\"2014-10\",\"2014-11\",\"2014-12\",\"2015-01\",\"2015-02\",\"2015-03\",\"2015-04\",\"2015-05\",\"2015-06\",\"2015-07\",\"2015-08\",\"2015-09\",\"2015-10\",\"2015-11\",\"2015-12\",\"2016-01\",\"2016-02\",\"2016-03\",\"2016-04\",\"2016-05\",\"2016-06\",\"2016-07\",\"2016-08\",\"2016-09\",\"2016-10\",\"2016-11\",\"2016-12\",\"2017-01\",\"2017-02\",\"2017-03\",\"2017-04\",\"2017-05\",\"2017-06\",\"2017-07\",\"2017-08\",\"2017-09\",\"2017-10\",\"2017-11\",\"2017-12\",\"2018-01\",\"2018-02\",\"2018-03\",\"2018-04\",\"2018-05\",\"2018-06\",\"2018-07\",\"2018-08\",\"2018-09\",\"2018-10\",\"2018-11\",\"2018-12\",\"2019-01\",\"2019-02\",\"2019-03\",\"2019-04\",\"2019-05\",\"2019-06\",\"2019-07\",\"2019-08\",\"2019-09\",\"2019-10\",\"2019-11\",\"2019-12\",\"2020-01\",\"2020-02\",\"2020-03\",\"2020-04\",\"2020-05\",\"2020-06\",\"2020-07\",\"2020-08\",\"2020-09\",\"2020-10\",\"2020-11\",\"2020-12\",\"2021-01\",\"2021-02\",\"2021-03\",\"2021-04\",\"2021-05\",\"2021-06\",\"2021-07\",\"2021-08\",\"2021-09\",\"2021-10\",\"2021-11\",\"2021-12\",\"2022-01\",\"2022-02\",\"2022-03\",\"2022-04\",\"2022-05\",\"2022-06\",\"2022-07\",\"2022-08\",\"2022-09\",\"2022-10\",\"2022-11\",\"2022-12\",\"2023-01\",\"2023-02\",\"2023-03\",\"2023-04\",\"2023-05\",\"2023-06\",\"2023-07\",\"2023-08\",\"2023-09\",\"2023-10\",\"2023-11\",\"2023-12\"],\"xaxis\":\"x\",\"y\":[0.08612478261363765,0.09279698102913263,0.08300843781139768,0.08503277642370814,0.10339350057401366,0.09266058174295555,0.09367460275203507,0.07650223922161474,0.10328231720850485,0.08373373560297415,0.11550367330855413,0.08804086782422028,0.08703152786833748,0.08419473271423213,0.09000102654671108,0.09014681284706406,0.09928466152138249,0.08627372436291146,0.09182616944304658,0.09237186992054741,0.07708832990440684,0.09984680339432149,0.0990387983636219,0.1033199333664228,0.08685177186461612,0.08328313081828205,0.08615035747979585,0.07743582332395317,0.08775264314211993,0.07570387714970958,0.0816861225092922,0.0953152827623009,0.07621516780728849,0.08088982852841589,0.08129397456153313,0.06822237630289735,0.08512613686369327,0.07583887746884894,0.08635728139689403,0.08468619639223889,0.07701558361844574,0.08744437466610591,0.07438520863407481,0.07857376599027377,0.07680189140343499,0.07012102068764606,0.07092687103826378,0.07468040390939498,0.10400950753542909,0.09528843306989868,0.06947270309285382,0.10004337277301582,0.07619952437063728,0.0710620683383941,0.09504924433000732,0.08068675844105189,0.08288056348060667,0.07265819475544745,0.07971233823558863,0.07330419693025829,0.08183794790521548,0.10035887478855528,0.09132216374734306,0.08982603407708832,0.0921729934900697,0.07273910705130468,0.08082201326334798,0.07284256781016964,0.0803196858269775,0.08190777134932994,0.07468713413733134,0.07838950730543809,0.0735956815159334,0.09432903729708576,0.07684070024795442,0.08254202803005331,0.08278140167316458,0.07952918524653924,0.07614174411746505,0.08339023923210699,0.07658314736301028,0.07938386789109136,0.09501166871963546,0.09457104610383309,0.07814163550321865,0.08278678897135995,0.08414374536201831,0.07834701115064165,0.0816214952284607,0.08123567198569756,0.07934744308171453,0.09725705844447106,0.09936250820800192,0.08989740825118253,0.08112298125349957,0.07630822170627131,0.08925658201336115,0.09357865386145504,0.08794343976266523,0.09314584406239043,0.0948141871390873,0.09063080061772903,0.09586674887206022,0.08166460027577137,0.10593962058265227,0.09526858661291525,0.08742247026685004,0.0845741879506386,0.07396585604927491,0.08198165429600919,0.09717396676488256,0.08104618252497811,0.10050301201873323,0.10365663753026359,0.0820261177888071,0.1094722309414786,0.1070198542151439,0.09127764453588248,0.08311836937618577,0.08451279104972685,0.09062880070927629,0.1037905077463428,0.09771282306151334,0.1019327863048381,0.11001313918349054,0.09761319074096847,0.09414096531914423,0.08481020978309055,0.08477762916991351,0.0943314224803705,0.09478744881747939,0.09545646200591901,0.09900108189433808,0.10148699931948618,0.09973313732250727,0.10622472876959844,0.10041607326970436,0.10418111657618759,0.1263121042999875,0.08414925546016627,0.1020664491855826,0.09270043685660267,0.08618161564954477,0.07861470286876927,0.10247423058998811,0.10400950753542909,0.1063911725846095,0.10526569444286574,0.10423154601093758,0.11589811216892727,0.10047038809385787,0.09865443322037092,0.10508952951864167,0.11202847803135713,0.11103780223550164,0.10038209747404077,0.0914007827803479,0.10577954086484725,0.13434445618993854,0.11285745871263274,0.10602682377212226,0.10562115732679604,0.08949028673996316,0.1002215526610539,0.10184048887385536,0.09037026722893483,0.09648176762776903,0.1272008593155029,0.11128043955544326,0.12631607227922173,0.1112449844845812,0.1023871498882013,0.10184858921460532,0.11662179563165047,0.12331947870213554,0.1259014092969104,0.1074967050370849,0.12824776542206015,0.1138715842819188,0.13884904835664694,0.10405320812154416,0.1088369477039243,0.11972363147102,0.124165026898264,0.12735102111135554,0.1538384052571734,0.12310522068267843,0.09278056259653723,0.13091733391357158,0.12869044863998544,0.10636546240169914,0.1072321661992826,0.10027865674682457,0.13356102250500787,0.12564215647271446,0.1632400551659335,0.13632621188330066,0.1523410711511721,0.1326095246274384,0.15430647842767517,0.1316693567636996,0.1342749935904965,0.1463706423269718,0.10684448370434481,0.10750821237368857,0.11536760348925189,0.13324747282433666,0.14172370538403706,0.15930883348196964,0.1387957458578189,0.1379110449321982,0.08049831205883357,0.13506939313684257,0.1719426668333769,0.10181070052400058,0.08157813974106869],\"yaxis\":\"y\",\"type\":\"scatter\"}],                        {\"template\":{\"data\":{\"histogram2dcontour\":[{\"type\":\"histogram2dcontour\",\"colorbar\":{\"outlinewidth\":0,\"ticks\":\"\"},\"colorscale\":[[0.0,\"#0d0887\"],[0.1111111111111111,\"#46039f\"],[0.2222222222222222,\"#7201a8\"],[0.3333333333333333,\"#9c179e\"],[0.4444444444444444,\"#bd3786\"],[0.5555555555555556,\"#d8576b\"],[0.6666666666666666,\"#ed7953\"],[0.7777777777777778,\"#fb9f3a\"],[0.8888888888888888,\"#fdca26\"],[1.0,\"#f0f921\"]]}],\"choropleth\":[{\"type\":\"choropleth\",\"colorbar\":{\"outlinewidth\":0,\"ticks\":\"\"}}],\"histogram2d\":[{\"type\":\"histogram2d\",\"colorbar\":{\"outlinewidth\":0,\"ticks\":\"\"},\"colorscale\":[[0.0,\"#0d0887\"],[0.1111111111111111,\"#46039f\"],[0.2222222222222222,\"#7201a8\"],[0.3333333333333333,\"#9c179e\"],[0.4444444444444444,\"#bd3786\"],[0.5555555555555556,\"#d8576b\"],[0.6666666666666666,\"#ed7953\"],[0.7777777777777778,\"#fb9f3a\"],[0.8888888888888888,\"#fdca26\"],[1.0,\"#f0f921\"]]}],\"heatmap\":[{\"type\":\"heatmap\",\"colorbar\":{\"outlinewidth\":0,\"ticks\":\"\"},\"colorscale\":[[0.0,\"#0d0887\"],[0.1111111111111111,\"#46039f\"],[0.2222222222222222,\"#7201a8\"],[0.3333333333333333,\"#9c179e\"],[0.4444444444444444,\"#bd3786\"],[0.5555555555555556,\"#d8576b\"],[0.6666666666666666,\"#ed7953\"],[0.7777777777777778,\"#fb9f3a\"],[0.8888888888888888,\"#fdca26\"],[1.0,\"#f0f921\"]]}],\"heatmapgl\":[{\"type\":\"heatmapgl\",\"colorbar\":{\"outlinewidth\":0,\"ticks\":\"\"},\"colorscale\":[[0.0,\"#0d0887\"],[0.1111111111111111,\"#46039f\"],[0.2222222222222222,\"#7201a8\"],[0.3333333333333333,\"#9c179e\"],[0.4444444444444444,\"#bd3786\"],[0.5555555555555556,\"#d8576b\"],[0.6666666666666666,\"#ed7953\"],[0.7777777777777778,\"#fb9f3a\"],[0.8888888888888888,\"#fdca26\"],[1.0,\"#f0f921\"]]}],\"contourcarpet\":[{\"type\":\"contourcarpet\",\"colorbar\":{\"outlinewidth\":0,\"ticks\":\"\"}}],\"contour\":[{\"type\":\"contour\",\"colorbar\":{\"outlinewidth\":0,\"ticks\":\"\"},\"colorscale\":[[0.0,\"#0d0887\"],[0.1111111111111111,\"#46039f\"],[0.2222222222222222,\"#7201a8\"],[0.3333333333333333,\"#9c179e\"],[0.4444444444444444,\"#bd3786\"],[0.5555555555555556,\"#d8576b\"],[0.6666666666666666,\"#ed7953\"],[0.7777777777777778,\"#fb9f3a\"],[0.8888888888888888,\"#fdca26\"],[1.0,\"#f0f921\"]]}],\"surface\":[{\"type\":\"surface\",\"colorbar\":{\"outlinewidth\":0,\"ticks\":\"\"},\"colorscale\":[[0.0,\"#0d0887\"],[0.1111111111111111,\"#46039f\"],[0.2222222222222222,\"#7201a8\"],[0.3333333333333333,\"#9c179e\"],[0.4444444444444444,\"#bd3786\"],[0.5555555555555556,\"#d8576b\"],[0.6666666666666666,\"#ed7953\"],[0.7777777777777778,\"#fb9f3a\"],[0.8888888888888888,\"#fdca26\"],[1.0,\"#f0f921\"]]}],\"mesh3d\":[{\"type\":\"mesh3d\",\"colorbar\":{\"outlinewidth\":0,\"ticks\":\"\"}}],\"scatter\":[{\"fillpattern\":{\"fillmode\":\"overlay\",\"size\":10,\"solidity\":0.2},\"type\":\"scatter\"}],\"parcoords\":[{\"type\":\"parcoords\",\"line\":{\"colorbar\":{\"outlinewidth\":0,\"ticks\":\"\"}}}],\"scatterpolargl\":[{\"type\":\"scatterpolargl\",\"marker\":{\"colorbar\":{\"outlinewidth\":0,\"ticks\":\"\"}}}],\"bar\":[{\"error_x\":{\"color\":\"#2a3f5f\"},\"error_y\":{\"color\":\"#2a3f5f\"},\"marker\":{\"line\":{\"color\":\"#E5ECF6\",\"width\":0.5},\"pattern\":{\"fillmode\":\"overlay\",\"size\":10,\"solidity\":0.2}},\"type\":\"bar\"}],\"scattergeo\":[{\"type\":\"scattergeo\",\"marker\":{\"colorbar\":{\"outlinewidth\":0,\"ticks\":\"\"}}}],\"scatterpolar\":[{\"type\":\"scatterpolar\",\"marker\":{\"colorbar\":{\"outlinewidth\":0,\"ticks\":\"\"}}}],\"histogram\":[{\"marker\":{\"pattern\":{\"fillmode\":\"overlay\",\"size\":10,\"solidity\":0.2}},\"type\":\"histogram\"}],\"scattergl\":[{\"type\":\"scattergl\",\"marker\":{\"colorbar\":{\"outlinewidth\":0,\"ticks\":\"\"}}}],\"scatter3d\":[{\"type\":\"scatter3d\",\"line\":{\"colorbar\":{\"outlinewidth\":0,\"ticks\":\"\"}},\"marker\":{\"colorbar\":{\"outlinewidth\":0,\"ticks\":\"\"}}}],\"scattermapbox\":[{\"type\":\"scattermapbox\",\"marker\":{\"colorbar\":{\"outlinewidth\":0,\"ticks\":\"\"}}}],\"scatterternary\":[{\"type\":\"scatterternary\",\"marker\":{\"colorbar\":{\"outlinewidth\":0,\"ticks\":\"\"}}}],\"scattercarpet\":[{\"type\":\"scattercarpet\",\"marker\":{\"colorbar\":{\"outlinewidth\":0,\"ticks\":\"\"}}}],\"carpet\":[{\"aaxis\":{\"endlinecolor\":\"#2a3f5f\",\"gridcolor\":\"white\",\"linecolor\":\"white\",\"minorgridcolor\":\"white\",\"startlinecolor\":\"#2a3f5f\"},\"baxis\":{\"endlinecolor\":\"#2a3f5f\",\"gridcolor\":\"white\",\"linecolor\":\"white\",\"minorgridcolor\":\"white\",\"startlinecolor\":\"#2a3f5f\"},\"type\":\"carpet\"}],\"table\":[{\"cells\":{\"fill\":{\"color\":\"#EBF0F8\"},\"line\":{\"color\":\"white\"}},\"header\":{\"fill\":{\"color\":\"#C8D4E3\"},\"line\":{\"color\":\"white\"}},\"type\":\"table\"}],\"barpolar\":[{\"marker\":{\"line\":{\"color\":\"#E5ECF6\",\"width\":0.5},\"pattern\":{\"fillmode\":\"overlay\",\"size\":10,\"solidity\":0.2}},\"type\":\"barpolar\"}],\"pie\":[{\"automargin\":true,\"type\":\"pie\"}]},\"layout\":{\"autotypenumbers\":\"strict\",\"colorway\":[\"#636efa\",\"#EF553B\",\"#00cc96\",\"#ab63fa\",\"#FFA15A\",\"#19d3f3\",\"#FF6692\",\"#B6E880\",\"#FF97FF\",\"#FECB52\"],\"font\":{\"color\":\"#2a3f5f\"},\"hovermode\":\"closest\",\"hoverlabel\":{\"align\":\"left\"},\"paper_bgcolor\":\"white\",\"plot_bgcolor\":\"#E5ECF6\",\"polar\":{\"bgcolor\":\"#E5ECF6\",\"angularaxis\":{\"gridcolor\":\"white\",\"linecolor\":\"white\",\"ticks\":\"\"},\"radialaxis\":{\"gridcolor\":\"white\",\"linecolor\":\"white\",\"ticks\":\"\"}},\"ternary\":{\"bgcolor\":\"#E5ECF6\",\"aaxis\":{\"gridcolor\":\"white\",\"linecolor\":\"white\",\"ticks\":\"\"},\"baxis\":{\"gridcolor\":\"white\",\"linecolor\":\"white\",\"ticks\":\"\"},\"caxis\":{\"gridcolor\":\"white\",\"linecolor\":\"white\",\"ticks\":\"\"}},\"coloraxis\":{\"colorbar\":{\"outlinewidth\":0,\"ticks\":\"\"}},\"colorscale\":{\"sequential\":[[0.0,\"#0d0887\"],[0.1111111111111111,\"#46039f\"],[0.2222222222222222,\"#7201a8\"],[0.3333333333333333,\"#9c179e\"],[0.4444444444444444,\"#bd3786\"],[0.5555555555555556,\"#d8576b\"],[0.6666666666666666,\"#ed7953\"],[0.7777777777777778,\"#fb9f3a\"],[0.8888888888888888,\"#fdca26\"],[1.0,\"#f0f921\"]],\"sequentialminus\":[[0.0,\"#0d0887\"],[0.1111111111111111,\"#46039f\"],[0.2222222222222222,\"#7201a8\"],[0.3333333333333333,\"#9c179e\"],[0.4444444444444444,\"#bd3786\"],[0.5555555555555556,\"#d8576b\"],[0.6666666666666666,\"#ed7953\"],[0.7777777777777778,\"#fb9f3a\"],[0.8888888888888888,\"#fdca26\"],[1.0,\"#f0f921\"]],\"diverging\":[[0,\"#8e0152\"],[0.1,\"#c51b7d\"],[0.2,\"#de77ae\"],[0.3,\"#f1b6da\"],[0.4,\"#fde0ef\"],[0.5,\"#f7f7f7\"],[0.6,\"#e6f5d0\"],[0.7,\"#b8e186\"],[0.8,\"#7fbc41\"],[0.9,\"#4d9221\"],[1,\"#276419\"]]},\"xaxis\":{\"gridcolor\":\"white\",\"linecolor\":\"white\",\"ticks\":\"\",\"title\":{\"standoff\":15},\"zerolinecolor\":\"white\",\"automargin\":true,\"zerolinewidth\":2},\"yaxis\":{\"gridcolor\":\"white\",\"linecolor\":\"white\",\"ticks\":\"\",\"title\":{\"standoff\":15},\"zerolinecolor\":\"white\",\"automargin\":true,\"zerolinewidth\":2},\"scene\":{\"xaxis\":{\"backgroundcolor\":\"#E5ECF6\",\"gridcolor\":\"white\",\"linecolor\":\"white\",\"showbackground\":true,\"ticks\":\"\",\"zerolinecolor\":\"white\",\"gridwidth\":2},\"yaxis\":{\"backgroundcolor\":\"#E5ECF6\",\"gridcolor\":\"white\",\"linecolor\":\"white\",\"showbackground\":true,\"ticks\":\"\",\"zerolinecolor\":\"white\",\"gridwidth\":2},\"zaxis\":{\"backgroundcolor\":\"#E5ECF6\",\"gridcolor\":\"white\",\"linecolor\":\"white\",\"showbackground\":true,\"ticks\":\"\",\"zerolinecolor\":\"white\",\"gridwidth\":2}},\"shapedefaults\":{\"line\":{\"color\":\"#2a3f5f\"}},\"annotationdefaults\":{\"arrowcolor\":\"#2a3f5f\",\"arrowhead\":0,\"arrowwidth\":1},\"geo\":{\"bgcolor\":\"white\",\"landcolor\":\"#E5ECF6\",\"subunitcolor\":\"white\",\"showland\":true,\"showlakes\":true,\"lakecolor\":\"white\"},\"title\":{\"x\":0.05},\"mapbox\":{\"style\":\"light\"}}},\"xaxis\":{\"anchor\":\"y\",\"domain\":[0.0,1.0],\"title\":{\"text\":\"Month_Year\"}},\"yaxis\":{\"anchor\":\"x\",\"domain\":[0.0,1.0],\"title\":{\"text\":\"Average Normalized Sale Price\"}},\"legend\":{\"title\":{\"text\":\"Town_Group\"},\"tracegroupgap\":0},\"title\":{\"text\":\"Average Normalized Sale Price by Town Group\"}},                        {\"responsive\": true}                    ).then(function(){\n",
              "                            \n",
              "var gd = document.getElementById('dc57ee7e-5524-4ce9-9503-5f7d30fe9b99');\n",
              "var x = new MutationObserver(function (mutations, observer) {{\n",
              "        var display = window.getComputedStyle(gd).display;\n",
              "        if (!display || display === 'none') {{\n",
              "            console.log([gd, 'removed!']);\n",
              "            Plotly.purge(gd);\n",
              "            observer.disconnect();\n",
              "        }}\n",
              "}});\n",
              "\n",
              "// Listen for the removal of the full notebook cells\n",
              "var notebookContainer = gd.closest('#notebook-container');\n",
              "if (notebookContainer) {{\n",
              "    x.observe(notebookContainer, {childList: true});\n",
              "}}\n",
              "\n",
              "// Listen for the clearing of the current output cell\n",
              "var outputEl = gd.closest('.output');\n",
              "if (outputEl) {{\n",
              "    x.observe(outputEl, {childList: true});\n",
              "}}\n",
              "\n",
              "                        })                };                            </script>        </div>\n",
              "</body>\n",
              "</html>"
            ]
          },
          "metadata": {}
        }
      ]
    },
    {
      "cell_type": "markdown",
      "source": [
        "## Now add in the SP500 plot"
      ],
      "metadata": {
        "id": "F0d74F872B-l"
      }
    },
    {
      "cell_type": "markdown",
      "source": [
        "## SP500 Data"
      ],
      "metadata": {
        "id": "GraqcMWY2fgC"
      }
    },
    {
      "cell_type": "code",
      "source": [
        "# Mount Google Drive\n",
        "from google.colab import drive\n",
        "drive.mount('/content/drive')\n",
        "\n",
        "# Change to the directory containing your CSV\n",
        "%cd /content/drive/MyDrive/DATA/Uncatergorized_Data"
      ],
      "metadata": {
        "id": "-zAdsgX02JNJ"
      },
      "execution_count": null,
      "outputs": []
    },
    {
      "cell_type": "code",
      "source": [
        "SP500 = pd.read_csv('S&P500_yahoo.csv')"
      ],
      "metadata": {
        "id": "a1tsc_mm2iSL"
      },
      "execution_count": null,
      "outputs": []
    },
    {
      "cell_type": "markdown",
      "source": [
        "## Create Monthly adjusted mean"
      ],
      "metadata": {
        "id": "nmfKabCZ2qMw"
      }
    },
    {
      "cell_type": "code",
      "source": [
        "SP500['Date'] = pd.to_datetime(SP500['Date'])\n",
        "\n",
        "# Now, create the 'Month_Year' column formatted as \"Month YYYY\"\n",
        "SP500['Month_Year'] = SP500['Date'].dt.strftime('%b %Y')\n",
        "\n",
        "# Show the first few rows to verify\n",
        "SP500.head()"
      ],
      "metadata": {
        "id": "sCWXNL1-2mCV"
      },
      "execution_count": null,
      "outputs": []
    },
    {
      "cell_type": "code",
      "source": [
        "SP500['Adj Close**'] = SP500['Adj Close**'].str.replace(',', '').astype(float)"
      ],
      "metadata": {
        "id": "cmrsBuoP2xNd"
      },
      "execution_count": null,
      "outputs": []
    },
    {
      "cell_type": "code",
      "source": [
        "# Convert 'Adj Close**' to numeric, forcing non-numeric values to NaN (errors='coerce')\n",
        "SP500['Adj Close**'] = pd.to_numeric(SP500['Adj Close**'], errors='coerce')\n",
        "\n",
        "# Group by 'Month_Year' and calculate the mean of 'Adj Close**'\n",
        "mean_adj_close_by_month_year = SP500.groupby('Month_Year')['Adj Close**'].mean()\n",
        "\n",
        "# Reset index if you want the result as a DataFrame\n",
        "mean_adj_close_by_month_year_df = mean_adj_close_by_month_year.reset_index()\n",
        "\n",
        "# Show the result\n",
        "#print(mean_adj_close_by_month_year_df)\n",
        "mean_adj_close_by_month_year_df.head(5)"
      ],
      "metadata": {
        "id": "Uc6dQUR220ad"
      },
      "execution_count": null,
      "outputs": []
    },
    {
      "cell_type": "markdown",
      "source": [
        "## normalize"
      ],
      "metadata": {
        "id": "ZXKiWJeL27Qe"
      }
    },
    {
      "cell_type": "code",
      "source": [
        "# Assume mean_adj_close_by_month_year_df is your DataFrame and 'Adj Close**' is the column to be normalized\n",
        "\n",
        "# Calculating Min and Max values\n",
        "min_value = mean_adj_close_by_month_year_df['Adj Close**'].min()\n",
        "max_value = mean_adj_close_by_month_year_df['Adj Close**'].max()\n",
        "\n",
        "# Applying the normalization formula\n",
        "mean_adj_close_by_month_year_df['NormalizedAdjClose'] = (mean_adj_close_by_month_year_df['Adj Close**'] - min_value) / (max_value - min_value)\n",
        "\n",
        "# Display the first few rows to verify the new column\n",
        "mean_adj_close_by_month_year_df.head(3)"
      ],
      "metadata": {
        "id": "py5wDsd3239t"
      },
      "execution_count": null,
      "outputs": []
    },
    {
      "cell_type": "markdown",
      "source": [
        "## Make sure in chrono order"
      ],
      "metadata": {
        "id": "E_PtbGfJOMXB"
      }
    },
    {
      "cell_type": "code",
      "source": [
        "# prompt: lets make sure that the df \"mean_adj_close_by_month_year_df\" has both only one row per month and is in chronological order\n",
        "\n",
        "# Sort the DataFrame by 'Month_Year'\n",
        "mean_adj_close_by_month_year_df = mean_adj_close_by_month_year_df.sort_values(by='Month_Year')\n",
        "\n",
        "# Drop duplicate rows based on 'Month_Year'\n",
        "mean_adj_close_by_month_year_df = mean_adj_close_by_month_year_df.drop_duplicates(subset='Month_Year', keep='last')\n",
        "\n",
        "# Reset the index to ensure consecutive indexing\n",
        "mean_adj_close_by_month_year_df = mean_adj_close_by_month_year_df.reset_index(drop=True)\n",
        "\n",
        "# Now, mean_adj_close_by_month_year_df has one row per month in chronological order"
      ],
      "metadata": {
        "id": "9HrY11ki2_dl"
      },
      "execution_count": null,
      "outputs": []
    },
    {
      "cell_type": "markdown",
      "source": [
        "now lets have test plot"
      ],
      "metadata": {
        "id": "aGqbgfvQPUEE"
      }
    },
    {
      "cell_type": "code",
      "source": [
        "import plotly.graph_objects as go\n",
        "\n",
        "# Create a figure\n",
        "fig = go.Figure()\n",
        "\n",
        "# Add traces for Product A and Product B\n",
        "fig.add_trace(go.Scatter(x= mean_adj_close_by_month_year_df['Month_Year'], y= mean_adj_close_by_month_year_df['NormalizedAdjClose'], mode='lines+markers', name='Houses'))\n",
        "#fig.add_trace(go.Scatter(x=DF_select_sorted['Month_Year'], y=DF['NormalizedAdjClose'], mode='lines+markers', name='SP 500'))\n",
        "\n",
        "# Add figure title and labels\n",
        "fig.update_layout(title='Sales of Product A and B Over Time',\n",
        "                   xaxis_title='Month_Year',\n",
        "                   yaxis_title='Sales',\n",
        "                   template='plotly_dark') # Using a dark theme for the plot\n",
        "\n",
        "# Show plot\n",
        "fig.show()"
      ],
      "metadata": {
        "id": "aFxfSeTO3Fn1"
      },
      "execution_count": null,
      "outputs": []
    },
    {
      "cell_type": "code",
      "source": [
        "##############"
      ],
      "metadata": {
        "id": "spA1cHjMK-FL"
      },
      "execution_count": null,
      "outputs": []
    },
    {
      "cell_type": "code",
      "source": [
        "# Now Merge house and meadn adj close\n",
        "\n",
        "import pandas as pd\n",
        "\n",
        "# Convert 'Month_Year' to datetime\n",
        "mean_adj_close_by_month_year_df['Month_Year'] = pd.to_datetime(mean_adj_close_by_month_year_df['Month_Year'], format='%b %Y')\n",
        "\n",
        "# Format 'Month_Year' to \"YYYY-MM\"\n",
        "mean_adj_close_by_month_year_df['Month_Year'] = mean_adj_close_by_month_year_df['Month_Year'].dt.strftime('%Y-%m')\n",
        "\n",
        "# Now, both DataFrames should have the 'Month_Year' column formatted as \"YYYY-MM\", and you can merge them.\n",
        "DF = pd.merge(houses, mean_adj_close_by_month_year_df, on='Month_Year', how='inner')\n",
        "\n",
        "# Display the first few rows of the merged DataFrame\n",
        "DF.head(3)"
      ],
      "metadata": {
        "id": "2rjCDNOCK-CU"
      },
      "execution_count": null,
      "outputs": []
    },
    {
      "cell_type": "code",
      "source": [
        "#multiple_columns = df[['ColumnName1', 'ColumnName2']]\n",
        "DF_select = DF[['Month_Year', 'Normalized_All Sold Avg Per Month' , 'NormalizedAdjClose']]"
      ],
      "metadata": {
        "id": "rg2ux9EeK9_U"
      },
      "execution_count": null,
      "outputs": []
    },
    {
      "cell_type": "code",
      "source": [],
      "metadata": {
        "id": "EL5Epfi0K97m"
      },
      "execution_count": null,
      "outputs": []
    },
    {
      "cell_type": "code",
      "source": [
        "import plotly.graph_objects as go\n",
        "\n",
        "# Create a figure\n",
        "fig = go.Figure()\n",
        "\n",
        "# Add traces for Product A and Product B\n",
        "fig.add_trace(go.Scatter(x= DF_select_sorted['Month_Year'], y=DF['Normalized_All Sold Avg Per Month'], mode='lines+markers', name='Houses'))\n",
        "fig.add_trace(go.Scatter(x=DF_select_sorted['Month_Year'], y=DF['NormalizedAdjClose'], mode='lines+markers', name='SP 500'))\n",
        "\n",
        "# Add figure title and labels\n",
        "fig.update_layout(title='Sales of Product A and B Over Time',\n",
        "                   xaxis_title='Month_Year',\n",
        "                   yaxis_title='Sales',\n",
        "                   template='plotly_dark') # Using a dark theme for the plot\n",
        "\n",
        "# Show plot\n",
        "fig.show()\n",
        "\n"
      ],
      "metadata": {
        "id": "JrD72dqi3ICV"
      },
      "execution_count": null,
      "outputs": []
    },
    {
      "cell_type": "code",
      "source": [],
      "metadata": {
        "id": "HBVllwANK6xn"
      },
      "execution_count": null,
      "outputs": []
    }
  ]
}